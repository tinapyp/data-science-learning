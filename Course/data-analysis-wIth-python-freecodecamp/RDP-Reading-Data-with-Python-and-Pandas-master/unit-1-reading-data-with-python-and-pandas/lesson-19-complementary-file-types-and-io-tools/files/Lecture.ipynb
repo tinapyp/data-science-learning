{
 "cells": [
  {
   "cell_type": "markdown",
   "metadata": {},
   "source": [
    "![rmotr](https://user-images.githubusercontent.com/7065401/52071918-bda15380-2562-11e9-828c-7f95297e4a82.png)\n",
    "<hr style=\"margin-bottom: 40px;\">\n",
    "\n",
    "<img src=\"https://user-images.githubusercontent.com/7065401/68501079-0695df00-023c-11ea-841f-455dac84a089.jpg\"\n",
    "    style=\"width:400px; float: right; margin: 0 40px 40px 40px;\"></img>\n",
    "\n",
    "# Complementary file types and IO tools\n",
    "\n",
    "The pandas I/O API has a set of top level functions to let us work with a wide variety of file types.\n",
    "\n",
    "In this lesson we'll show some file types pandas can work with besides the most known CSV, JSON and XLSX types."
   ]
  },
  {
   "cell_type": "markdown",
   "metadata": {},
   "source": [
    "![purple-divider](https://user-images.githubusercontent.com/7065401/52071927-c1cd7100-2562-11e9-908a-dde91ba14e59.png)\n",
    "\n",
    "## Hands on! "
   ]
  },
  {
   "cell_type": "code",
   "execution_count": 1,
   "metadata": {},
   "outputs": [],
   "source": [
    "import pandas as pd"
   ]
  },
  {
   "cell_type": "markdown",
   "metadata": {},
   "source": [
    "![green-divider](https://user-images.githubusercontent.com/7065401/52071924-c003ad80-2562-11e9-8297-1c6595f8a7ff.png)\n",
    "\n",
    "## Pickling\n",
    "\n",
    "When it comes to something like machine learning, after training your models, these models can't be saved to a .txt or .csv file, becouse it's an object with complex binary data.\n",
    "\n",
    "Luckily, in programming, there are various terms for the process of saving binary data to a file that can be accessed later. In Python, this is called **pickling**. You may know it as serialization, or maybe even something else.\n",
    "\n",
    "For our lucky, pandas handles _pickles_ in its IO module, and all pandas objects are equipped with the `to_pickle` and `read_pickle` methods."
   ]
  },
  {
   "cell_type": "code",
   "execution_count": 2,
   "metadata": {},
   "outputs": [
    {
     "data": {
      "text/html": [
       "<div>\n",
       "<style scoped>\n",
       "    .dataframe tbody tr th:only-of-type {\n",
       "        vertical-align: middle;\n",
       "    }\n",
       "\n",
       "    .dataframe tbody tr th {\n",
       "        vertical-align: top;\n",
       "    }\n",
       "\n",
       "    .dataframe thead th {\n",
       "        text-align: right;\n",
       "    }\n",
       "</style>\n",
       "<table border=\"1\" class=\"dataframe\">\n",
       "  <thead>\n",
       "    <tr style=\"text-align: right;\">\n",
       "      <th></th>\n",
       "      <th>A</th>\n",
       "      <th>B</th>\n",
       "      <th>C</th>\n",
       "    </tr>\n",
       "  </thead>\n",
       "  <tbody>\n",
       "    <tr>\n",
       "      <th>0</th>\n",
       "      <td>1</td>\n",
       "      <td>2</td>\n",
       "      <td>3</td>\n",
       "    </tr>\n",
       "    <tr>\n",
       "      <th>1</th>\n",
       "      <td>4</td>\n",
       "      <td>5</td>\n",
       "      <td>6</td>\n",
       "    </tr>\n",
       "  </tbody>\n",
       "</table>\n",
       "</div>"
      ],
      "text/plain": [
       "   A  B  C\n",
       "0  1  2  3\n",
       "1  4  5  6"
      ]
     },
     "execution_count": 2,
     "metadata": {},
     "output_type": "execute_result"
    }
   ],
   "source": [
    "df = pd.DataFrame([[1,2,3], [4,5,6]],\n",
    "                  columns=['A','B','C'])\n",
    "\n",
    "df"
   ]
  },
  {
   "cell_type": "markdown",
   "metadata": {},
   "source": [
    "The `to_pickle` method uses Python's `cPickle` module to save data structures to disk using the pickle format."
   ]
  },
  {
   "cell_type": "code",
   "execution_count": 3,
   "metadata": {},
   "outputs": [],
   "source": [
    "df.to_pickle('out.pkl')"
   ]
  },
  {
   "cell_type": "code",
   "execution_count": 4,
   "metadata": {},
   "outputs": [
    {
     "name": "stdout",
     "output_type": "stream",
     "text": [
      "�\u0005��\u0002\u0000\u0000\u0000\u0000\u0000\u0000�\u0011pandas.core.frame��\tDataFrame���)��}�(�\u0004_mgr��\u001epandas.core.internals.managers��\fBlockManager����\u0016pandas._libs.internals��\u000f_unpickle_block����\u0012numpy.core.numeric��\u000b_frombuffer���(�0\u0000\u0000\u0000\u0000\u0000\u0000\u0000\u0001\u0000\u0000\u0000\u0000\u0000\u0000\u0000\u0004\u0000\u0000\u0000\u0000\u0000\u0000\u0000\u0002\u0000\u0000\u0000\u0000\u0000\u0000\u0000\u0005\u0000\u0000\u0000\u0000\u0000\u0000\u0000\u0003\u0000\u0000\u0000\u0000\u0000\u0000\u0000\u0006\u0000\u0000\u0000\u0000\u0000\u0000\u0000��\u0005numpy��\u0005dtype����\u0002i8�����R�(K\u0003�\u0001<�NNNJ����J����K\u0000t�bK\u0003K\u0002���\u0001C�t�R�builtins��\u0005slice���K\u0000K\u0003K\u0001��R�K\u0002��R���]�(�\u0018pandas.core.indexes.base��\n",
      "_new_Index���h%�\u0005Index���}�(�\u0004data��\u0015numpy.core.multiarray��\f_reconstruct���h\u0010�\u0007ndarray���K\u0000��C\u0001b���R�(K\u0001K\u0003��h\u0012�\u0002O8�����R�(K\u0003�\u0001|�NNNJ����J����K?t�b�]�(�\u0001A��\u0001B�h\u0019et�b�\u0004name�Nu��R�h'�\u0019pandas.core.indexes.range��\n",
      "RangeIndex���}�(h?N�\u0005start�K\u0000�\u0004stop�K\u0002�\u0004step�K\u0001u��R�e��R��\u0004_typ��\tdataframe��\t_metadata�]��\u0005attrs�}��\u0006_flags�}��\u0017allows_duplicate_labels��sub."
     ]
    }
   ],
   "source": [
    "!cat out.pkl"
   ]
  },
  {
   "cell_type": "markdown",
   "metadata": {},
   "source": [
    "The `read_pickle` method can be used to load any pickled pandas object (or any other pickled object) from file:"
   ]
  },
  {
   "cell_type": "code",
   "execution_count": 5,
   "metadata": {},
   "outputs": [],
   "source": [
    "df = pd.read_pickle('out.pkl')"
   ]
  },
  {
   "cell_type": "code",
   "execution_count": 6,
   "metadata": {
    "scrolled": true
   },
   "outputs": [
    {
     "data": {
      "text/html": [
       "<div>\n",
       "<style scoped>\n",
       "    .dataframe tbody tr th:only-of-type {\n",
       "        vertical-align: middle;\n",
       "    }\n",
       "\n",
       "    .dataframe tbody tr th {\n",
       "        vertical-align: top;\n",
       "    }\n",
       "\n",
       "    .dataframe thead th {\n",
       "        text-align: right;\n",
       "    }\n",
       "</style>\n",
       "<table border=\"1\" class=\"dataframe\">\n",
       "  <thead>\n",
       "    <tr style=\"text-align: right;\">\n",
       "      <th></th>\n",
       "      <th>A</th>\n",
       "      <th>B</th>\n",
       "      <th>C</th>\n",
       "    </tr>\n",
       "  </thead>\n",
       "  <tbody>\n",
       "    <tr>\n",
       "      <th>0</th>\n",
       "      <td>1</td>\n",
       "      <td>2</td>\n",
       "      <td>3</td>\n",
       "    </tr>\n",
       "    <tr>\n",
       "      <th>1</th>\n",
       "      <td>4</td>\n",
       "      <td>5</td>\n",
       "      <td>6</td>\n",
       "    </tr>\n",
       "  </tbody>\n",
       "</table>\n",
       "</div>"
      ],
      "text/plain": [
       "   A  B  C\n",
       "0  1  2  3\n",
       "1  4  5  6"
      ]
     },
     "execution_count": 6,
     "metadata": {},
     "output_type": "execute_result"
    }
   ],
   "source": [
    "df"
   ]
  },
  {
   "cell_type": "markdown",
   "metadata": {},
   "source": [
    "![green-divider](https://user-images.githubusercontent.com/7065401/52071924-c003ad80-2562-11e9-8297-1c6595f8a7ff.png)\n",
    "\n",
    "## Clipboard content\n",
    "\n",
    "A handy way to grab data is to use the `read_clipboard` method, which takes the contents of the clipboard buffer and passes them to the `read_table` method.\n",
    "\n",
    "For instance, you can copy the following text to the clipboard (CTRL-C on many operating systems):\n",
    "\n",
    "```\n",
    "  A B C\n",
    "x 1 4 p\n",
    "y 2 5 q\n",
    "z 3 6 r\n",
    "```\n",
    "\n",
    "And then import the data directly to a `DataFrame` by calling `read_clipboard` method."
   ]
  },
  {
   "cell_type": "code",
   "execution_count": 7,
   "metadata": {},
   "outputs": [],
   "source": [
    "df = pd.read_clipboard()"
   ]
  },
  {
   "cell_type": "code",
   "execution_count": 8,
   "metadata": {},
   "outputs": [
    {
     "data": {
      "text/html": [
       "<div>\n",
       "<style scoped>\n",
       "    .dataframe tbody tr th:only-of-type {\n",
       "        vertical-align: middle;\n",
       "    }\n",
       "\n",
       "    .dataframe tbody tr th {\n",
       "        vertical-align: top;\n",
       "    }\n",
       "\n",
       "    .dataframe thead th {\n",
       "        text-align: right;\n",
       "    }\n",
       "</style>\n",
       "<table border=\"1\" class=\"dataframe\">\n",
       "  <thead>\n",
       "    <tr style=\"text-align: right;\">\n",
       "      <th></th>\n",
       "      <th>most_hits_player</th>\n",
       "      <th>=</th>\n",
       "      <th>fifa_df.sort_values('Hits',</th>\n",
       "      <th>ascending=False).head(1)</th>\n",
       "    </tr>\n",
       "  </thead>\n",
       "  <tbody>\n",
       "  </tbody>\n",
       "</table>\n",
       "</div>"
      ],
      "text/plain": [
       "Empty DataFrame\n",
       "Columns: [most_hits_player, =, fifa_df.sort_values('Hits',, ascending=False).head(1)]\n",
       "Index: []"
      ]
     },
     "execution_count": 8,
     "metadata": {},
     "output_type": "execute_result"
    }
   ],
   "source": [
    "df"
   ]
  },
  {
   "cell_type": "markdown",
   "metadata": {},
   "source": [
    "The `to_clipboard` method can be used to write the contents of a `DataFrame` to the clipboard.\n",
    "\n",
    "Following which you can paste the clipboard contents into other applications (CTRL-V on many operating systems)."
   ]
  },
  {
   "cell_type": "code",
   "execution_count": 9,
   "metadata": {},
   "outputs": [],
   "source": [
    "df.to_clipboard()"
   ]
  },
  {
   "cell_type": "code",
   "execution_count": 10,
   "metadata": {},
   "outputs": [
    {
     "data": {
      "text/html": [
       "<div>\n",
       "<style scoped>\n",
       "    .dataframe tbody tr th:only-of-type {\n",
       "        vertical-align: middle;\n",
       "    }\n",
       "\n",
       "    .dataframe tbody tr th {\n",
       "        vertical-align: top;\n",
       "    }\n",
       "\n",
       "    .dataframe thead th {\n",
       "        text-align: right;\n",
       "    }\n",
       "</style>\n",
       "<table border=\"1\" class=\"dataframe\">\n",
       "  <thead>\n",
       "    <tr style=\"text-align: right;\">\n",
       "      <th></th>\n",
       "      <th>most_hits_player</th>\n",
       "      <th>=</th>\n",
       "      <th>fifa_df.sort_values('Hits',</th>\n",
       "      <th>ascending=False).head(1)</th>\n",
       "    </tr>\n",
       "  </thead>\n",
       "  <tbody>\n",
       "  </tbody>\n",
       "</table>\n",
       "</div>"
      ],
      "text/plain": [
       "Empty DataFrame\n",
       "Columns: [most_hits_player, =, fifa_df.sort_values('Hits',, ascending=False).head(1)]\n",
       "Index: []"
      ]
     },
     "execution_count": 10,
     "metadata": {},
     "output_type": "execute_result"
    }
   ],
   "source": [
    "pd.read_clipboard()"
   ]
  },
  {
   "cell_type": "markdown",
   "metadata": {},
   "source": [
    "We can see that we got the same content back, which we had earlier written to the clipboard."
   ]
  },
  {
   "cell_type": "markdown",
   "metadata": {},
   "source": [
    "![green-divider](https://user-images.githubusercontent.com/7065401/52071924-c003ad80-2562-11e9-8297-1c6595f8a7ff.png)\n",
    "\n",
    "## SAS files\n",
    "\n",
    "The top-level function `read_sas()` can read (but not write) SAS xport (.XPT) and (since v0.18.0) SAS7BDAT (.sas7bdat) format files.\n",
    "\n",
    "SAS files only contain two value types: ASCII text and floating point values (usually 8 bytes but sometimes truncated). For xport files, there is no automatic type conversion to integers, dates, or categoricals. For SAS7BDAT files, the format codes may allow date variables to be automatically converted to dates. By default the whole file is read and returned as a `DataFrame`.\n",
    "\n",
    "We are going to load the `airline.sav7bdat` file into a pandas `DataFrame` using the `read_sas` method."
   ]
  },
  {
   "cell_type": "code",
   "execution_count": 11,
   "metadata": {},
   "outputs": [
    {
     "name": "stdout",
     "output_type": "stream",
     "text": [
      "\u0000\u0000\u0000 \u000e\u0000\u0000�\u0001\u0000\u0000\u0000\u0000\u0000\u0000\u0014\u000e\u0000\u0000\f\u0000\u0000\u0000\u0000\u0000\u0000\u0000�\f\u0000\u00000\u0001\u0000\u0000\u0000\u0000\u0000\u0000H\f\u0000\u0000�\u0000\u0000\u0000\u0000\u0001\u0000\u0000\u0004\f\u0000\u0000D\u0000\u0000\u0000\u0000\u0001\u0000\u0000�\u000b\u0000\u0000\\\u0000\u0000\u0000\u0000\u0001\u0000\u0000t\u000b\u0000\u00004\u0000\u0000\u0000\u0000\u0000\u0000\u0000@\u000b\u0000\u00004\u0000\u0000\u0000\u0000\u0000\u0000\u0000\f\u000b\u0000\u00004\u0000\u0000\u0000\u0000\u0000\u0000\u0000�                                        DATA    \u0000\u0000��j��A\u0000\u0000��j��A\u0000\u0000\u0000\u0000\u0000 �@\u0000\u0000\u0000\u0000\u0000 �@\u0000\u0004\u0000\u0000\u0000\u0010\u0000\u0000\u0001\u0000\u0000\u0000\u0000\u0000\u0000\u0000\u0000\u0000\u0000\u00009.0000M0WIN\u0000\u0000\u0000\u0000\u0000\u0000\u0000\u0000\u0000\u0000\u0000\u0000\u0000\u0000\u0000\u0000\u0000\u0000\u0000\u0000\u0000\u0000\u0000\u0000\u0000\u0000\u0000\u0000\u0000WIN\u0000\u0000\u0000\u0000\u0000\u0000\u0000\u0000\u0000\u0000\u0000\u0000\u0000\u0000\u0000\u0000\u0000\u0000\u0000\u0000\u0000\u0000\u0000\u0000\u0000\u0000\u0000\u0000\u0000\u0000\u0000��LN��LN��LN��\u0000\u0000\u0000\u0000\u0000\u0000\u0000\u0000\u0000\u0000\u0000\u0000\u0000\u0000\u0000\u0000jIW-\u0000\u0000\u0000\u0000\u0000\u0000\u0000\u0000\u0000\u0000\u0000\u0000\u0000\u0000\u0000\u0000\u0000\u0000\u0000\u0000\u0000\u0000\u0000\u0000\u0000\u0000\u0000\u0000\u0000\u0000\u0000\u0000\u0000\u0000\u0000\u0000\u0000\u0000\u0000\u0000\u0000\u0000\u0000\u0000\u0000\u0000\u0000\u0000\u0000\u0000\u0000\u0000\u0000\u0000\u0000\u0000\u0000\u0000\u0000\u0000\u0000\u0000\u0000\u0000\u0000\u0000\u0000\u0000\u0000\u0000\u0000\u0000\u0000\u0000\u0000\u0000\u0000\u0000\u0000\u0000\u0000\u0000\u0000\u0000\u0000\u0000\u0000\u0000\u0000\u0000\u0000\u0000\u0000\u0000\u0000\u0000\u0000\u0000\u0000\u0000\u0000\u0000\u0000\u0000\u0000\u0000\u0000\u0000\u0000\u0000\u0000\u0000\u0000\u0000\u0000\u0000\u0000\u0000\u0000\u0000\u0000\u0000\u0000\u0000\u0000\u0000\u0000\u0000\u0000\u0000\u0000\u0000\u0000\u0000\u0000\u0000\u0000\u0000\u0000\u0000\u0000\u0000\u0000\u0000\u0000\u0000\u0000\u0000\u0000\u0000\u0000\u0000\u0000\u0000\u0000\u0000\u0000\u0000\u0000\u0000\u0000\u0000\u0000\u0000\u0000\u0000\u0000\u0000\u0000\u0000\u0000\u0000\u0000\u0000\u0000\u0000\u0000\u0000\u0000\u0000\u0000\u0000\u0000\u0000\u0000\u0000\u0000\u0000\u0000\u0000\u0000\u0000\u0000\u0000\u0000\u0000\u0000\u0000\u0000\u0000\u0000\u0000\u0000\u0000\u0000\u0000\u0000\u0000\u0000\u0000\u0000\u0000\u0000\u0000\u0000\u0000\u0000\u0000\u0000\u0000\u0000\u0000\u0000\u0000\u0000\u0000\u0000\u0000\u0000\u0000\u0000\u0000\u0000\u0000\u0000\u0000\u0000\u0000\u0000\u0000\u0000\u0000\u0000\u0000\u0000\u0000\u0000\u0000\u0000\u0000\u0000\u0000\u0000\u0000\u0000\u0000\u0000\u0000\u0000\u0000\u0000\u0000\u0000\u0000\u0000\u0000\u0000\u0000\u0000\u0000\u0000\u0000\u0000\u0000\u0000\u0000\u0000\u0000\u0000\u0000\u0000\u0000\u0000\u0000\u0000\u0000\u0000\u0000\u0000\u0000\u0000\u0000\u0000\u0000\u0000\u0000\u0000\u0000\u0000\u0000\u0000\u0000\u0000\u0000\u0000\u0000\u0000\u0000\u0000\u0000\u0000\u0000\u0000\u0000\u0000\u0000\u0000\u0000\u0000\u0000\u0000\u0000\u0000\u0000\u0000\u0000\u0000\u0000\u0000\u0000\u0000\u0000\u0000\u0000\u0000\u0000\u0000\u0000\u0000\u0000\u0000\u0000\u0000\u0000\u0000\u0000\u0000\u0000\u0000\u0000\u0000\u0000\u0000\u0000\u0000\u0000\u0000\u0000\u0000\u0000\u0000\u0000\u0000\u0000\u0000\u0000\u0000\u0000\u0000\u0000\u0000\u0000\u0000\u0000\u0000\u0000\u0000\u0000\u0000\u0000\u0000\u0000\u0000\u0000\u0000\u0000\u0000\u0000\u0000\u0000\u0000\u0000\u0000\u0000\u0000\u0000\u0000\u0000\u0000\u0000\u0000\u0000\u0000\u0000\u0000\u0000\u0000\u0000\u0000\u0000\u0000\u0000\u0000\u0000\u0000\u0000\u0000\u0000\u0000\u0000\u0000\u0000\u0000\u0000\u0000\u0000\u0000\u0000\u0000\u0000\u0000\u0000\u0000\u0000\u0000\u0000\u0000\u0000\u0000\u0000\u0000\u0000\u0000\u0000\u0000\u0000\u0000\u0000\u0000\u0000\u0000\u0000\u0000\u0000\u0000\u0000\u0000\u0000\u0000\u0000\u0000\u0000\u0000\u0000\u0000\u0000\u0000\u0000\u0000\u0000\u0000\u0000\u0000\u0000\u0000\u0000\u0000\u0000\u0000\u0000\u0000\u0000\u0000\u0000\u0000\u0000\u0000\u0000\u0000\u0000\u0000\u0000\u0000\u0000\u0000\u0000\u0000\u0000\u0000\u0000\u0000\u0000\u0000\u0000\u0000\u0000\u0000\u0000\u0000\u0000\u0000\u0000\u0000\u0000\u0000\u0000\u0000\u0000\u0000\u0000\u0000\u0000\u0000\u0000\u0000\u0000\u0000\u0000\u0000\u0000\u0000\u0000\u0000\u0000\u0000\u0000\u0000\u0000\u0000\u0000\u0000\u0000\u0000\u0000\u0000\u0000\u0000\u0000\u0000\u0000\u0000\u0000\u0000\u0000\u0000\u0000\u0000\u0000\u0000\u0000\u0000\u0000\u0000\u0000\u0000\u0000\u0000\u0000\u0000\u0000\u0000\u0000\u0000\u0000\u0000\u0000\u0000\u0000\u0000\u0000\u0000\u0000\u0000\u0000\u0000\u0000\u0000\u0000\u0000\u0000\u0000\u0000\u0000\u0000\u0000\u0000\u0000\u0000\u0000\u0000\u0000\u0000\u0000\u0000\u0000\u0000\u0000\u0000\u0000\u0000\u0000\u0000\u0000\u0000\u0000\u0000\u0000\u0000\u0000\u0000\u0000\u0000\u0000\u0000\u0000\u0000\u0000\u0000\u0000\u0000\u0000\u0000\u0000\u0000\u0000\u0000\u0000\u0000\u0000\u0000\u0000\u0000\u0000\u0000\u0000\u0000\u0000\u0000\u0000\u0000\u0000\u0000\u0000\u0000\u0000\u0000\u0000\u0000\u0000\u0000\u0000\u0000\u0000\u0000\u0000\u0000\u0000\u0000\u0000\u0000\u0000\u0000\u0000\u0000\u0000\u0000\u0000\u0000\u0000\u0000\u0000\u0000\u0000\u0000\u0000\u0000\u0000\u0000\u0000\u0000\u0000\u0000\u0000\u0000\u0000\u0000\u0000\u0000\u0000\u0000kIW-\u0000\u0000\u0000\u0000\u0000\u0000\u0000\u0000<\u0004\u0000\u0000\u0000\u0002-\u0000\n",
      "\u0000\u00004\u0000\u0000\u0000\u0000\u0000\u0000\u0000�\n",
      "\u0000\u00004\u0000\u0000\u0000\u0000\u0000\u0000\u0000p\n",
      "\u0000\u00004\u0000\u0000\u0000\u0000\u0000\u0000\u0000p\n",
      "\u0000\u0000\u0000\u0000\u0000\u0000\u0001\u0000\u0000\u0000\u0000\u0000\u0000\u0000\u0000p�@\u0000\u0000\u0000@�l�?\u0000\u0000\u0000��\u001a�?\u0000\u0000\u0000�w��?\u0000\u0000\u0000\u0000ף�?\u0000\u0000\u0000\u0000���?\u0000t�@\u0000\u0000\u0000����?\u0000\u0000\u0000\u0000ף�?\u0000\u0000\u0000`���?\u0000\u0000\u0000 �$�?\u0000\u0000\u0000\u0000T��?\u0000x�@\u0000\u0000\u0000��\u001a�?\u0000\u0000\u0000����?\u0000\u0000\u0000�m4�?\u0000\u0000\u0000�?5�?\u0000\u0000\u0000 \u0004V�?\u0000|�@\u0000\u0000\u0000\u0000\u0002+�?\u0000\u0000\u0000@\f\u0002�?\u0000\u0000\u0000�K7�?\u0000\u0000\u0000����?\u0000\u0000\u0000�I\f�?\u0000��@\u0000\u0000\u0000`�\u001e\u0002@\u0000\u0000\u0000@\n",
      "��?\u0000\u0000\u0000�\u0010��?\u0000\u0000\u0000\u0000���?\u0000\u0000\u0000@5^�?\u0000��@\u0000\u0000\u0000�\u0016�\u0005@\u0000\u0000\u0000ज़�?\u0000\u0000\u0000`���?\u0000\u0000\u0000`���?\u0000\u0000\u0000 ���?\u0000��@\u0000\u0000\u0000@3@\u0000\u0000\u0000�p�?\u0000\u0000\u0000`���?\u0000\u0000\u0000@�l�?\u0000\u0000\u0000\u0000���?\u0000��@\u0000\u0000\u0000��~\f@\u0000\u0000\u0000`ff�?\u0000\u0000\u0000�Y�?\u0000\u0000\u0000`��\u0000@\u0000\u0000\u0000��v�?\u0000��@\u0000\u0000\u0000\u0000��\u000f@\u0000\u0000\u0000��\u001a�?\u0000\u0000\u0000\u0000�u�?\u0000\u0000\u0000@�z\u0003@\u0000\u0000\u0000����?\u0000��@\u0000\u0000\u0000�\u0014�\u0011@\u0000\u0000\u0000@�A�?\u0000\u0000\u0000��|�?\u0000\u0000\u0000��\u0005@\u0000\u0000\u0000\u0000�x�?\u0000��@\u0000\u0000\u0000 �@\u0012@\u0000\u0000\u0000�$\u0006�?\u0000\u0000\u0000`�\u0004�?\u0000\u0000\u0000`�\u0005@\u0000\u0000\u0000�n\u0012�?\u0000��@\u0000\u0000\u0000�=�\u0015@\u0000\u0000\u0000��C�?\u0000\u0000\u0000����?\u0000\u0000\u0000���\u0006@\u0000\u0000\u0000��S�?\u0000��@\u0000\u0000\u0000�K7\u0016@\u0000\u0000\u0000 X9�?\u0000\u0000\u0000@io�?\u0000\u0000\u0000�E@\u0000\u0000\u0000\u0000-��?\u0000��@\u0000\u0000\u0000\u0000)�\u0015@\u0000\u0000\u0000�p�?\u0000\u0000\u0000@���?\u0000\u0000\u0000 �@\u0000\u0000\u0000���?\u0000��@\u0000\u0000\u0000��L\u0017@\u0000\u0000\u0000�=\n",
      "�?\u0000\u0000\u0000@\u00116�?\u0000\u0000\u0000\u0000�x\t@\u0000\u0000\u0000`���?\u0000��@\u0000\u0000\u0000 \u0006�\u001b@\u0000\u0000\u0000�&1�?\u0000\u0000\u0000 ���?\u0000\u0000\u0000��\u001a\n",
      "@\u0000\u0000\u0000��S\u0000@\u0000��@\u0000\u0000\u0000��J\u001f@\u0000\u0000\u0000�K7�?\u0000\u0000\u0000����?\u0000\u0000\u0000��K\u000b@\u0000\u0000\u0000@���?\u0000��@\u0000\u0000\u0000�p=\"@\u0000\u0000\u0000�I\f�?\u0000\u0000\u0000�\u0013��?\u0000\u0000\u0000`��\f@\u0000\u0000\u0000\u0000V\u000e\u0002@\u0000��@\u0000\u0000\u0000�$\u0006%@\u0000\u0000\u0000 ���?\u0000\u0000\u0000�H.�?\u0000\u0000\u0000��K\u0010@\u0000\u0000\u0000���\u0005@\u0000��@\u0000\u0000\u0000�=\n",
      "*@\u0000\u0000\u0000�l��?\u0000\u0000\u0000@io�?\u0000\u0000\u0000@\n",
      "\u0000\u0000\u0000\u0000\u0000\u0000\u0000����\u0000\u0000\u0000\u0000\u0000\u0000\u0000\u0000\u0000\u0000\u0000\u0000\u0000\u0000\u0000\u0000\u0000\u0000\u0000\u0000\u0000\u0000\u0000\u0000\u0000\u0000\u0000\u0000\u0000\u0000\u0000\u0000\u0000\u0000\u0000\u0000\u0000\u0000<\u0000\t\u0000\u0000\u0000\u0000\u0000\u0000\u0000����\u0000\u0000\u0000\u0000\u0000\u0000\u0000\u0000\u0000\u0000\u0000\u0000\u0000\u0000\u0000\u0000\u0000\u0000\u0000\u0000\u0000\u0000\u0000\u0000\u0000\u0000\u0000\u0000\u0000\u0000\u0000\u0000\u0000\u0000\u0000\u0000\u0000\u0000(\u0000\u000f\u0000\u0000\u0000\u0000\u0000\u0000\u0000����\u0000\u0000\u0000\u0000\u0000\u0000\u0000\u0000\u0000\u0000\u0000\u0000\u0000\u0000\u0000\u0000\u0000\u0000\u0000\u0000\u0000\u0000\u0000\u0000\u0000\u0000\u0000\u0000\u0000\u0000\u0000\u0000\u0000\u0000\u0000\u0000\u0000\u0000 \u0000\u0004\u0000\u0000\u0000\u0000\u0000\u0000\u0000����P\u0000\u0000\u0000\u0000\u0000\u0000\u0000\u0000\u0000\u0000\u0000\u0004\u0000\u0000\u0000\u0000\u0004\u0001\u0000\u0004\u0000\u0000\u0000\u0000\u0000\u0000\u0004\u0001\u0000\f\u0000\u0000\u0000\u0000\u0000\u0000\u0004\u0001\u0000\u0014\u0000\u0000\u0000\u0000\u0000\u0000\u0004\u0001\u0000\u001c\u0000\u0000\u0000\u0000\u0000\u0000\u0004\u0001\u0000$\u0000\u0000\u0000\u0000\u0000\u0000\u0004\u0001\u0000\u0000\u0000\u0000\u0000\u0000\u0000\u0000\u0000����8\u0000\u0000\u0000\u0000\u0000\u0000\u0000\u0000\u0000\u001c\u0000\u0004\u0000\u0000\u0000\u0000\u0000$\u0000\u0001\u0000\u0000\u0000\u0000\u00008\u0000\u0001\u0000\u0000\u0000\u0000\u0000H\u0000\u0001\u0000\u0000\u0000\u0000\u0000\\\u0000\u0001\u0000\u0000\u0000\u0000\u0000l\u0000\u0001\u0000\u0000\u0000\u0000\u0000\u0000\u0000\u0000\u0000\u0000\u0000�����\u0000\u0010\u0000�\u0000\u0000\u0000\u0000\u0000\u0000\u0000Written by SAS\u0000\u0000YEARyearY\u0000\u0000\u0000level of output\u0000W\u0000\u0000\u0000wage rate\u0000\u0000\u0000R\u0000\u0000\u0000interest rate\u0000\u0000\u0000L\u0000\u0000\u0000labor input\u0000K\u0000\u0000\u0000capital input\u0000\u0000\u0000\u0001\u0000\u0000\u0000\u0010\u0000\u0000\u0000\u0000\u0000\u0000\u0000\u0000\u0000\u0000\u0000\u0000\u0000\u0000\u0000\u0000\u0000\u0000\u0000\u0000���0\u0000\u0000\u0000\u0004\u0000\u0000\u0000\u0007\u0000\u0000\u0000\u0000\u0000\u0000\u0000\u0000\u0000\u0000\u0000\u0000\u0000\u0000\u0000\u0000\u0000\u0000\u0000\u0000\u0000\u0000\u0000\u0000\u0000\u0000\u0000\u0000\u0000\u0000\u0000\u0000\u0000\u0000\u0000\u0000\u0000\u0000\u0000\u0000\u0000\u0000\u0000\f\u0007\u0000\u0000\u0000\u0000\u0000\u0000����\u0001\u0000\u0000\u0000\u0006\u0000\u0000\u0000\u0001\u0000\u0000\u0000\u0006\u0000\u0000\u0000����\u0001\u0000\u0000\u0000\u0004\u0000\u0000\u0000\u0001\u0000\u0000\u0000\u0004\u0000\u0000\u0000����\u0001\u0000\u0000\u0000\u0005\u0000\u0000\u0000\u0001\u0000\u0000\u0000\u0005\u0000\u0000\u0000����\u0000\u0000\u0000\u0000\u0000\u0000\u0000\u0000\u0000\u0000\u0000\u0000\u0000\u0000\u0000\u0000����\u0000\u0000\u0000\u0000\u0000\u0000\u0000\u0000\u0000\u0000\u0000\u0000\u0000\u0000\u0000\u0000����\u0000\u0000\u0000\u0000\u0000\u0000\u0000\u0000\u0000\u0000\u0000\u0000\u0000\u0000\u0000\u0000����\u0000\u0000\u0000\u0000\u0000\u0000\u0000\u0000\u0000\u0000\u0000\u0000\u0000\u0000\u0000\u0000\u0000\u0000\u0000\u0000\u0000\u0000\u0000\u0000\u0000\u0000\u0000\u0000\u0000\u0000\u0000\u0000\u0000\u0000\u0000\u0000\u0000\u0000\u0000\u0000\u0000\u0000\u0000\u0000\u0000\u0000\u0000\u0000\u0000\u0000\u0000\u0000\u0000\u0000\u0000\u0000\u0000\u0000\u0000\u0000\u0000\u0000\u0000\u0000\u0000\u0000\u0000\u0000\u0000\u0000\u0000\u0000\u0000\u0000\u0000\u0000\u0000\u0000\u0000\u0000\u0000\u0000\u0000\u0000\u0000\u0000\u0000\u0000\u0000\u0000\u0000\u0000\u0000\u0000\u0000\u0000\u0000\u0000\u0000\u0000\u0000\u0000\u0000\u0000\u0000\u0000\u0000\u0000\u0000\u0000\u0000\u0000\u0000\u0000\u0000\u0000����\u0006\u0000\u0000\u0000\u0000\u0000\u0000\u0000�����\u0000\u0000\u0000\u000e\u0000\u0000\u0000\u0000\u0000\u0000\u0000\u00110\u0002\u0000,\u0000\u0000\u0000 \u0000\u0000\u0000\u0000\u0000\u0000\u0000\u0000\u0000\u0000\u0000\u0006\u0000\u0000\u0000\u0000\u0000\u0000\u0000\u0000\u0000\u0000\u0000.\u0000\u0000\u0000\u0000\u0010\u0000\u0000\u0000\u0000\u0000\u0000 \u0000\u0000\u0000��������\u0000\u0000\u0000\u0000\u0000\u0000\u0000\u0000\u0000\u0000\u0000\u0000\u0000\u0000\u0000\u0000\u0000\u0000\u0000\u0000\u0000\u0000\u0000\u0000\u0000\u0000\u0000\u0000\u0000\u0000\u0000\u0000\u0000\u0000\u0000\u0000\u0000\u0000\u0000\u0000\u0000\u0000\u0000\u0000\u0000\u0000\u0000\u0000\u0000\u0000\u0000\u0000\u0000\u0000\u0000\u0000\u0000\u0000\u0000\u0000\u0000\u0000\u0000\u0000\u0000\u0000\u0000\u0000\u0000\u0000\u0000\u0000\u0000\u0000\u0000\u0000\u0000\u0000\u0000\u0000\u0000\u0000\u0000\u0000\u0000\u0000\u0000\u0000\u0000\u0000\u0000\u0000\u0000\u0000\u0000\u0000\u0000\u0000\u0000\u0000\u0000\u0000\u0000\u0000\u0000\u0000\u0000\u0000\u0000\u0000\u0000\u0000\u0000\u0000\u0000\u0000\u0000\u0000\u0000\u0000\u0000\u0000\u0000\u0000\u0000\u0000\u0000\u0000\u0000\u0000\u0000\u0000\u0000\u0000\u0000\u0000\u0000\u0000\u0000\u0000\u0000\u0000\u0000\u0000\u0000\u0000\u0000\u0000kIW-\u0000\u0000\u0000\u0000\u0000\u0000\u0000\u0000\u0000\u0000\u0000\u0000\u0000\u0000\u0000\u0000\u0000\u0000\u0000\u0000\u0000\u0000\u0000\u0000\u0000\u0000\u0000\u0000\u0000\u0000\u0000\u0000\u0000\u0000\u0000\u0000\u0000\u0000\u0000\u0000\u0001\u0000\u0000\u0000\u0002\u0000\u0000\u0000\u0001\u0000\u0000\u0000\f\u0000\u0000\u0000\u0001\u0000\u0000\u0000\u000e\u0000\u0000\u0000\u0001\u0000\u0000\u0000-\u0000\u0000\u0000\u0001\u0000\u0000\u0000\u0007\u0000\u0000\u0000\u0000\u0000\u0000\u0000\u0000\u0000\u0000\u0000\u0000\u0000\u0000\u0000\u0000\u0000\u0000\u0000\u0000\u0000\u0000\u0000\u0000\u0000\u0000\u0000\u0000\u0000\u0000\u0000\u0000\u0000\u0000\u0000\u0000\u0000\u0000\u0000\u0000\u0000\u0000\u0000\u0000\u0000\u0000\u0000\u0004\u0000\u0000\u0000\f\u0000\u0010\u0000\u0000\u0000\u0014\u0000\u0000\u0000\u0000\u0000\u0000\u0000\u0000\u0000\u0000\u0000\f\u0000\u0000\u0000\u001c\u0000\u0004\u0000\u0000\u0000\u0000\u0000\u0000\u0000\u0000\u0000\u0000\u0000\u0000\u0000\u0000\u0000\u0000\u0000\u0000\u0000\u0000\u0000\u0000\u0000\u0000\u0000\u0000\u0000\u0000\u0000\u0000\u0000\u0000\u0000\u0000\u0000\u0000\u0000\u0004\u0000\u0001\u0000\u0001\u0000\u0000\u0000\u0000\u0000\u0000\u0000\u0000\u0000\u0000\u0000\u0000\u0000\u0000\u0000\u0000\u0000\\\u0000\u0000\u0000\u0000\u0000\u0000\u0000\u0000\u0000\u0000\u0000\u0000\u0000\u0000\u0000\u0000\u0000\u0000\u0000\u0000\u0000\u0000\u0000\u0000\u0000\u0000\u0000\u0000\u0005\u0000\u0000\u0000\u0000\u0000\u0000\u0000\u0000\u0000\u0000\u0000\u0000\u0000\u0000\u0000\u0000\u0000\u0000\u0000\u0000\u0000\u0000\u0000\u0000\u0000\u0000\u0000\u0000\u0000\u0000\u0000\u0000\u0000\u0000\u0000\u0000\u0000\u0000\u0000\u0000\u0000\u0000\u0000\u0000\u0000\u0000\u0000\u0000\u0000\u0000\u0000\u0000\u0000\u0000\u0000\u0000\u0000\u0000\u0000\u0000\u0000\u0000\u0000\u0000\u0000\u0000\u0000\u0000\u0000\u0000\u0000\u0000\u0000\u0000\u0000\u0000\u0000\u0000\u0000\u0000\u0000\u0000\u0000\u0000\u0000\u0000\u0000\u0000\u0000\u0000\u0000\u0000\u0000\u0000\u0000\u0000\u0000\u0000\u0000\u0000\u0000\u0000\u0000\u0000\u0000\u0000\u0000\u0000\u0000\u0000\u0000\u0000\u0000\u0000\u0000\u0000\u0000\u0000\u0000\u0000\u0000\u0000\u0000\u0000\u0000\u0000\u0000\u0000\u0000\u0000\u0000\u0000\u0000\u0000\u0000\u0000\u0000\u0000\u0000\u0000\u0000\u0000\u0000\u0000\u0000\u0000\u0000\u0000\u0000\u0000\u0000\u0000\u0000\u0000\u0000\u0000\u0000\u0000\u0000\u0000\u0000\u0000\u0000\u0000\u0000\u0000\u0000\u0000\u0000\u0000\u0000\u0000\u0000\u0000\u0000\u0000\u0000\u0000\u0000\u0000\u0000\u0000\u0000\u0000\u0000\u0000\u0000\u0000\u0000\u0000\u0000\u0000\u0000\u0000\u0000\u0000\u0000\u0000\u0000\u0000\u0000\u0000\u0000\u0000\u0000\u0000\u0000\u0000\u0000\u0000\u0000\u0000\u0000\u0000\u0000\u0000\u0000\u0000\u0000\u0000\u0000\u0000\u0000\u0000\u0000\u0000\u0000\u0000\u0000\u0000\u0000\u0000\u0000\u0000\u0000\u0000\u0000\u0000\u0000\u0000\u0000\u0000\u0000\u0000\u0000\u0000\u0000\u0000\u0000\u0000\u0000\u0000\u0000\u0000\u0000\u0000\u0000\u0000\u0000\u0000\u0000\u0000\u0000\u0000\u0000\u0000\u0000\u0000\u0000\u0000\u0000\u0000\u0000\u0000\u0000\u0000\u0000\u0000\u0000\u0000\u0000\u0000\u0000\u0000\u0000\u0000\u0000\u0000\u0000\u0000\u0000\u0000\u0000\u0000\u0000\u0000\u0000\u0000\u0000\u0000\u0000\u0000\u0000\u0000\u0000\u0000\u0000\u0000\u0000\u0000\u0000\u0000\u0000\u0000\u0000\u0000\u0000\u0000\u0000\u0000\u0000\u0000\u0000\u0000\u0000\u0000\u0000\u0000\u0000\u0000\u0000\u0000\u0000\u0000\u0000\u0000\u0000\u0000\u0000\u0000\u0000\u0000\u0000\u0000\u0000\u0000\u0000\u0000\u0000\u0000\u0000\u0000\u0000\u0000\u0000����\u0000\u0000\u0000\u0000\u0000\u0000\u0000\u0000\u0000\u0000\u0000\u0000\u0000\u0000\u0000\u0000\u0000\u0000\u0000\u0000\u0000\u0000\u0000\u0000\u0000\u0000\u0000\u0000\u0000\u0000\u0000\u0000\u0000\u0000\u0000\u0000\u0000\u0000p\u0000"
     ]
    }
   ],
   "source": [
    "!cat airline.sas7bdat"
   ]
  },
  {
   "cell_type": "code",
   "execution_count": 12,
   "metadata": {},
   "outputs": [],
   "source": [
    "df = pd.read_sas('airline.sas7bdat')"
   ]
  },
  {
   "cell_type": "code",
   "execution_count": 13,
   "metadata": {},
   "outputs": [
    {
     "data": {
      "text/html": [
       "<div>\n",
       "<style scoped>\n",
       "    .dataframe tbody tr th:only-of-type {\n",
       "        vertical-align: middle;\n",
       "    }\n",
       "\n",
       "    .dataframe tbody tr th {\n",
       "        vertical-align: top;\n",
       "    }\n",
       "\n",
       "    .dataframe thead th {\n",
       "        text-align: right;\n",
       "    }\n",
       "</style>\n",
       "<table border=\"1\" class=\"dataframe\">\n",
       "  <thead>\n",
       "    <tr style=\"text-align: right;\">\n",
       "      <th></th>\n",
       "      <th>YEAR</th>\n",
       "      <th>Y</th>\n",
       "      <th>W</th>\n",
       "      <th>R</th>\n",
       "      <th>L</th>\n",
       "      <th>K</th>\n",
       "    </tr>\n",
       "  </thead>\n",
       "  <tbody>\n",
       "    <tr>\n",
       "      <th>0</th>\n",
       "      <td>1948.0</td>\n",
       "      <td>1.214</td>\n",
       "      <td>0.243</td>\n",
       "      <td>0.1454</td>\n",
       "      <td>1.415</td>\n",
       "      <td>0.612</td>\n",
       "    </tr>\n",
       "    <tr>\n",
       "      <th>1</th>\n",
       "      <td>1949.0</td>\n",
       "      <td>1.354</td>\n",
       "      <td>0.260</td>\n",
       "      <td>0.2181</td>\n",
       "      <td>1.384</td>\n",
       "      <td>0.559</td>\n",
       "    </tr>\n",
       "    <tr>\n",
       "      <th>2</th>\n",
       "      <td>1950.0</td>\n",
       "      <td>1.569</td>\n",
       "      <td>0.278</td>\n",
       "      <td>0.3157</td>\n",
       "      <td>1.388</td>\n",
       "      <td>0.573</td>\n",
       "    </tr>\n",
       "    <tr>\n",
       "      <th>3</th>\n",
       "      <td>1951.0</td>\n",
       "      <td>1.948</td>\n",
       "      <td>0.297</td>\n",
       "      <td>0.3940</td>\n",
       "      <td>1.550</td>\n",
       "      <td>0.564</td>\n",
       "    </tr>\n",
       "    <tr>\n",
       "      <th>4</th>\n",
       "      <td>1952.0</td>\n",
       "      <td>2.265</td>\n",
       "      <td>0.310</td>\n",
       "      <td>0.3559</td>\n",
       "      <td>1.802</td>\n",
       "      <td>0.574</td>\n",
       "    </tr>\n",
       "  </tbody>\n",
       "</table>\n",
       "</div>"
      ],
      "text/plain": [
       "     YEAR      Y      W       R      L      K\n",
       "0  1948.0  1.214  0.243  0.1454  1.415  0.612\n",
       "1  1949.0  1.354  0.260  0.2181  1.384  0.559\n",
       "2  1950.0  1.569  0.278  0.3157  1.388  0.573\n",
       "3  1951.0  1.948  0.297  0.3940  1.550  0.564\n",
       "4  1952.0  2.265  0.310  0.3559  1.802  0.574"
      ]
     },
     "execution_count": 13,
     "metadata": {},
     "output_type": "execute_result"
    }
   ],
   "source": [
    "df.head()"
   ]
  },
  {
   "cell_type": "markdown",
   "metadata": {},
   "source": [
    "We can also load the same file from a given URL:"
   ]
  },
  {
   "cell_type": "code",
   "execution_count": 14,
   "metadata": {},
   "outputs": [],
   "source": [
    "sas_url = 'http://www.principlesofeconometrics.com/sas/airline.sas7bdat'"
   ]
  },
  {
   "cell_type": "code",
   "execution_count": 15,
   "metadata": {},
   "outputs": [],
   "source": [
    "df = pd.read_sas(sas_url)"
   ]
  },
  {
   "cell_type": "code",
   "execution_count": 16,
   "metadata": {},
   "outputs": [
    {
     "data": {
      "text/html": [
       "<div>\n",
       "<style scoped>\n",
       "    .dataframe tbody tr th:only-of-type {\n",
       "        vertical-align: middle;\n",
       "    }\n",
       "\n",
       "    .dataframe tbody tr th {\n",
       "        vertical-align: top;\n",
       "    }\n",
       "\n",
       "    .dataframe thead th {\n",
       "        text-align: right;\n",
       "    }\n",
       "</style>\n",
       "<table border=\"1\" class=\"dataframe\">\n",
       "  <thead>\n",
       "    <tr style=\"text-align: right;\">\n",
       "      <th></th>\n",
       "      <th>YEAR</th>\n",
       "      <th>Y</th>\n",
       "      <th>W</th>\n",
       "      <th>R</th>\n",
       "      <th>L</th>\n",
       "      <th>K</th>\n",
       "    </tr>\n",
       "  </thead>\n",
       "  <tbody>\n",
       "    <tr>\n",
       "      <th>0</th>\n",
       "      <td>1948.0</td>\n",
       "      <td>1.214</td>\n",
       "      <td>0.243</td>\n",
       "      <td>0.1454</td>\n",
       "      <td>1.415</td>\n",
       "      <td>0.612</td>\n",
       "    </tr>\n",
       "    <tr>\n",
       "      <th>1</th>\n",
       "      <td>1949.0</td>\n",
       "      <td>1.354</td>\n",
       "      <td>0.260</td>\n",
       "      <td>0.2181</td>\n",
       "      <td>1.384</td>\n",
       "      <td>0.559</td>\n",
       "    </tr>\n",
       "    <tr>\n",
       "      <th>2</th>\n",
       "      <td>1950.0</td>\n",
       "      <td>1.569</td>\n",
       "      <td>0.278</td>\n",
       "      <td>0.3157</td>\n",
       "      <td>1.388</td>\n",
       "      <td>0.573</td>\n",
       "    </tr>\n",
       "    <tr>\n",
       "      <th>3</th>\n",
       "      <td>1951.0</td>\n",
       "      <td>1.948</td>\n",
       "      <td>0.297</td>\n",
       "      <td>0.3940</td>\n",
       "      <td>1.550</td>\n",
       "      <td>0.564</td>\n",
       "    </tr>\n",
       "    <tr>\n",
       "      <th>4</th>\n",
       "      <td>1952.0</td>\n",
       "      <td>2.265</td>\n",
       "      <td>0.310</td>\n",
       "      <td>0.3559</td>\n",
       "      <td>1.802</td>\n",
       "      <td>0.574</td>\n",
       "    </tr>\n",
       "  </tbody>\n",
       "</table>\n",
       "</div>"
      ],
      "text/plain": [
       "     YEAR      Y      W       R      L      K\n",
       "0  1948.0  1.214  0.243  0.1454  1.415  0.612\n",
       "1  1949.0  1.354  0.260  0.2181  1.384  0.559\n",
       "2  1950.0  1.569  0.278  0.3157  1.388  0.573\n",
       "3  1951.0  1.948  0.297  0.3940  1.550  0.564\n",
       "4  1952.0  2.265  0.310  0.3559  1.802  0.574"
      ]
     },
     "execution_count": 16,
     "metadata": {},
     "output_type": "execute_result"
    }
   ],
   "source": [
    "df.head()"
   ]
  },
  {
   "cell_type": "markdown",
   "metadata": {},
   "source": [
    "Plot a variable:"
   ]
  },
  {
   "cell_type": "code",
   "execution_count": 17,
   "metadata": {},
   "outputs": [
    {
     "data": {
      "text/plain": [
       "<Axes: >"
      ]
     },
     "execution_count": 17,
     "metadata": {},
     "output_type": "execute_result"
    },
    {
     "data": {
      "image/png": "[encoded data removed]",
      "text/plain": [
       "<Figure size 640x480 with 1 Axes>"
      ]
     },
     "metadata": {},
     "output_type": "display_data"
    }
   ],
   "source": [
    "df.loc[:,'Y'].plot()"
   ]
  },
  {
   "cell_type": "markdown",
   "metadata": {},
   "source": [
    "![green-divider](https://user-images.githubusercontent.com/7065401/52071924-c003ad80-2562-11e9-8297-1c6595f8a7ff.png)\n",
    "\n",
    "## STATA files\n",
    "\n",
    "The top-level function `read_stata` will read a DTA file and return either a DataFrame or a **StataReader** that can be used to read the file incrementally.\n",
    "\n",
    "We are going to load the `broiler.dta` file into a pandas `DataFrame` using the `read_stata` method."
   ]
  },
  {
   "cell_type": "code",
   "execution_count": 18,
   "metadata": {},
   "outputs": [
    {
     "name": "stdout",
     "output_type": "stream",
     "text": [
      "K/=\\C\u0000\u00004C\u0000\u0000�B\u0000@�D33�A\u0000�wF33�B33�B\u0000\u0000�BRؼBff�B�\u0017\u0017KÕ^C\u0000\u0000LC\u0000\u0000�B\u0000`�D33\u0003B\u0000�{Fff�B33�B\u0000\u0000�B�[B33'B.��J`�QC\u0000\u0000�B\u0000\u0000|B\u0000��D���A\u0000�bF33�BffnB\u0000\u0000�B S�B��1Bv��J��SC\u0000\u0000�B\u0000\u0000�B\u0000��D\u0000\u0000�A\u0000�^F���B33uB33\u0000Co\u0010�B33EBF0�J��UC\u0000\u0000�B\u0000\u0000�B\u0000��D33�A\u0000�`F�̢B��wBff�B�C�B33WB���J\u0017�WC\u0000\u0000�B\u0000\u0000�B\u0000\u0000�D\u0000\u0000�A\u0000dhF�̙B��oB33�Bĺ�B��cBg�\tKZC\u0000\u00008C\u0000\u0000�B\u0000 �D\u0000\u0000�A\u0000`nF���B\u0000\u0000nB\u0000\u0000�B���BffrBޗ\u0000\u0000\u0000\u0000\u0000\u0000\u0000\u0000\u0000\u0000\u0000\u0000\u0000\u0000\u0000\u0000\u0000\u0000\u0000\u0000\u0000\u0000\u0000\u0000\u0000\u0000cpi\u0000\u0000\u0000\u0000\u0000\u0000\u0000\u0000\u0000\u0000\u0000\u0000\u0000\u0000\u0000\u0000\u0000\u0000\u0000\u0000\u0000\u0000\u0000\u0000\u0000\u0000\u0000\u0000\u0000\u0000qproda\u0000\u0000\u0000\u0000\u0000\u0000\u0000\u0000\u0000\u0000\u0000\u0000\u0000\u0000\u0000\u0000\u0000\u0000\u0000\u0000\u0000\u0000\u0000\u0000\u0000\u0000\u0000pop\u0000\u0000\u0000\u0000\u0000\u0000\u0000\u0000\u0000\u0000\u0000\u0000\u0000\u0000\u0000\u0000\u0000\u0000\u0000\u0000\u0000\u0000\u0000\u0000\u0000\u0000\u0000\u0000\u0000\u0000meatex\u0000\u0000\u0000\u0000\u0000\u0000\u0000\u0000\u0000\u0000\u0000\u0000\u0000\u0000\u0000\u0000\u0000\u0000\u0000\u0000\u0000\u0000\u0000\u0000\u0000\u0000\u0000time\u0000\u0000\u0000\u0000\u0000\u0000\u0000\u0000\u0000\u0000\u0000\u0000\u0000\u0000\u0000\u0000\u0000\u0000\u0000\u0000\u0000\u0000\u0000\u0000\u0000\u0000\u0000\u0000\u0000\u0000\u0000\u0000\u0000\u0000\u0000\u0000\u0000\u0000\u0000\u0000\u0000\u0000\u0000\u0000\u0000\u0000\u0000\u0000\u0000\u0000\u0000\u0000\u0000\u0000\u0000%9.0g\u0000\u0000\u0000\t\u0000\u0000\u0000%9.0g\u0000\u0000\u0000\t\u0000\u0000\u0000%9.0g\u0000\u0000\u0000\t\u0000\u0000\u0000%9.0g\u0000\u0000\u0000\t\u0000\u0000\u0000%9.0g\u0000\u0000\u0000\t\u0000\u0000\u0000%9.0g\u0000\u0000\u0000\t\u0000\u0000\u0000%9.0g\u0000\u0000\u0000\t\u0000\u0000\u0000%9.0g\u0000\u0000\u0000\t\u0000\u0000\u0000%9.0g\u0000\u0000\u0000\t\u0000\u0000\u0000%9.0g\u0000\u0000\u0000\t\u0000\u0000\u0000%9.0g\u0000\u0000\u0000\t\u0000\u0000\u0000%9.0g\u0000\u0000\u0000\t\u0000\u0000\u0000\u0000\u0000\u0000\u0000\u0000\u0000\u0000\u0000\u0000\u0000\u0000\u0000\u0000\u0000\u0000\u0000\u0000\u0000\u0000\u0000\u0000\u0000\u0000\u0000\u0000\u0000\u0000\u0000\u0000\u0000\u0000\u0000\u0000\u0000\u0000\u0000\u0000\u0000\u0000\u0000\u0000\u0000\u0000\u0000\u0000\u0000\u0000\u0000\u0000\u0000\u0000\u0000\u0000\u0000\u0000\u0000\u0000\u0000\u0000\u0000\u0000\u0000\u0000\u0000\u0000\u0000\u0000\u0000\u0000\u0000\u0000\u0000\u0000\u0000\u0000\u0000\u0000\u0000\u0000\u0000\u0000\u0000\u0000\u0000\u0000\u0000\u0000\u0000\u0000\u0000\u0000\u0000\u0000\u0000\u0000\u0000\u0000\u0000\u0000\u0000\u0000\u0000\u0000\u0000\u0000\u0000\u0000\u0000\u0000\u0000\u0000\u0000\u0000\u0000\u0000\u0000\u0000\u0000\u0000\u0000\u0000\u0000\u0000\u0000\u0000\u0000\u0000\u0000\u0000\u0000\u0000\u0000\u0000\u0000\u0000\u0000\u0000\u0000\u0000\u0000\u0000\u0000\u0000\u0000\u0000\u0000\u0000\u0000\u0000\u0000\u0000\u0000\u0000\u0000\u0000\u0000\u0000\u0000\u0000\u0000\u0000\u0000\u0000\u0000\u0000\u0000\u0000\u0000\u0000\u0000\u0000\u0000\u0000\u0000\u0000\u0000\u0000\u0000\u0000\u0000\u0000\u0000\u0000\u0000\u0000\u0000\u0000\u0000\u0000\u0000\u0000\u0000\u0000\u0000\u0000\u0000\u0000\u0000\u0000\u0000\u0000\u0000\u0000\u0000\u0000\u0000\u0000\u0000\u0000\u0000\u0000\u0000\u0000\u0000\u0000\u0000\u0000\u0000\u0000\u0000\u0000\u0000\u0000\u0000\u0000\u0000\u0000\u0000\u0000\u0000\u0000\u0000\u0000\u0000\u0000\u0000\u0000\u0000\u0000\u0000\u0000\u0000\u0000\u0000\u0000\u0000\u0000\u0000\u0000\u0000\u0000\u0000\u0000\u0000\u0000\u0000\u0000\u0000\u0000\u0000\u0000\u0000\u0000\u0000\u0000\u0000\u0000\u0000\u0000\u0000\u0000\u0000\u0000\u0000\u0000\u0000\u0000\u0000\u0000\u0000\u0000\u0000\u0000\u0000\u0000\u0000\u0000\u0000\u0000\u0000\u0000\u0000\u0000\u0000\u0000\u0000\u0000\u0000\u0000\u0000\u0000\u0000\u0000\u0000\u0000\u0000\u0000\u0000\u0000\u0000\u0000\u0000\u0000\u0000\u0000\u0000\u0000\u0000\u0000\u0000\u0000\u0000\u0000\u0000\u0000\u0000\u0000\u0000\u0000\u0000\u0000\u0000\u0000\u0000\u0000\u0000\u0000\u0000\u0000\u0000\u0000\u0000\u0000\u0000\u0000\u0000\u0000\u0000\u0000\u0000\u0000\u0000\u0000\u0000\u0000\u0000\u0000\u0000\u0000\u0000\u0000\u0000\u0000\u0000\u0000\u0000\u0000\u0000\u0000\u0000\u0000\u0000\u0000\u0000\u0000\u0000\u0000\u0000\u0000\u0000\u0000\u0000\u0000\u0000\u0000\u0000\u0000\u0000\u0000\u0000\u0000\u0000\u0000\u0000\u0000\u0000year\u0000�dA\u0000��E\u0000\u0000�B���A33oB\u0000\u0000\u0000���APn J\u001b�\u0017C\u0000\u0000\u0000\u0000\u0000$B\u0000��D��qA\u0000��E�̑B\u0000\u0000\u0012B33�B\u0000\u0000\u0000\u0000\u0000�A�per-capita consumption of chicken, pounds, boneless equivalent\u0000B\u0000\u0000\u0012B33�B\u0000\u0000\u0000\u0000\u0000�A�per-capita real disposable income\u0000 pounds, boneless equivalent\u0000B\u0000\u0000\u0012B33�B\u0000\u0000\u0000\u0000\u0000�A�CPI index for whole fresh chicken, 1982-1984 = 100\u0000 equivalent\u0000B\u0000\u0000\u0012B33�B\u0000\u0000\u0000\u0000\u0000�A�CPI index for beef, 1982-84 = 100\u0000 1982-1984 = 100\u0000 equivalent\u0000B\u0000\u0000\u0012B33�B\u0000\u0000\u0000\u0000\u0000�A�PPI index for corn, 1982 = 100\u000000\u0000 1982-1984 = 100\u0000 equivalent\u0000B\u0000\u0000\u0012B33�B\u0000\u0000\u0000\u0000\u0000�A�nominal price index for broiler feed, scaled 1982-84 = 100\u0000ent\u0000B\u0000\u0000\u0012B33�B\u0000\u0000\u0000\u0000\u0000�A�Consumer price index, 1982-84 = 100\u0000, scaled 1982-84 = 100\u0000ent\u0000B\u0000\u0000\u0012B33�B\u0000\u0000\u0000\u0000\u0000�A�Aggregate production of young chicken, pounds\u0000982-84 = 100\u0000ent\u0000B\u0000\u0000\u0012B33�B\u0000\u0000\u0000\u0000\u0000�A�U.S. population on July 1, resident plus armed forces, millions\u0000\u0000\u0000\u0012B33�B\u0000\u0000\u0000\u0000\u0000�A�exports of beef, veal, and pork, pounds\u0000 armed forces, millions\u0000\u0000\u0000\u0012B33�B\u0000\u0000\u0000\u0000\u0000�A�= 0 for 1909, =1 for 1910 etc\u0000k, pounds\u0000 armed forces, millions\u0000\u0000\u0000\u0012B33�B\u0000\u0000\u0000\u0000\u0000�A�\u0001�\u0000\u0000\u0000_dta\u0000led'\u0000oled'\u0000ercooled'\u0000 `all' note10\u0000\u0000\u0000\u0000\u0000\u0000\u0001\u0000a\u0000T�/\u0001|�\\\u0000c\u0000z\u0002Q\u0000\u0000\u0000\u0001The authors would like to acknowledge the generous help of Bennett McCallum.\u0000\u0001E\u0000\u0000\u0000_dta\u0000led'\u0000oled'\u0000ercooled'\u0000 `all' note0\u0000\u0000\u0000\u0000\u0000\u0000\u0000\u0001\u0000a\u0000T�/\u0001|�\\\u0000b\u0000z\u0002\u0003\u0000\u0000\u0000\u000110\u0000\u0001\u0010\u0001\u0000\u0000_dta\u0000led'\u0000oled'\u0000ercooled'\u0000 `all' note9\u0000\u0000\u0000\u0000\u0000\u0000\u0000\u0001\u0000a\u0000T�/\u0001|�\\\u0000b\u0000z\u0002�\u0000\u0000\u0000\u0001To reproduce the results in their paper, QPRODA must be divided by 1439. This conversion factor transforms gross production of chicken into the boneless equivalent that is used as the consumption variable.\u0000\u0001�\u0000\u0000\u0000_dta\u0000led'\u0000oled'\u0000ercooled'\u0000 `all' note8\u0000\u0000\u0000\u0000\u0000\u0000\u0000\u0001\u0000a\u0000T�/\u0001|�\\\u0000b\u0000z\u0002�\u0000\u0000\u0000\u0001These data are from Dennis Epple and Bennett T. McCallum (2006)\"Simultaneous Equation Econometrics: The Missing Example,\" Economic Inquiry, 44(2), 374-384.\u0000\u0001`\u0000\u0000\u0000_dta\u0000led'\u0000oled'\u0000ercooled'\u0000 `all' note7\u0000\u0000\u0000\u0000\u0000\u0000\u0000\u0001\u0000a\u0000T�/\u0001|�\\\u0000b\u0000z\u0002\"\u0000\u0000\u0000\u0001variables are not logarithms.\u0000\u0001\u0000\u0000\u0000_dta\u0000led'\u0000oled'\u0000ercooled'\u0000 `all' note6\u0000\u0000\u0000\u0000\u0000\u0000\u0000\u0001\u0000a\u0000T�/\u0001|�\\\u0000b\u0000z\u0002A\u0000\u0000\u0000\u0001real variables constructed as pc = pchick/cpi pb = pbeef/cpi\u0000\u0001�\u0000\u0000\u0000_dta\u0000led'\u0000oled'\u0000ercooled'\u0000 `all' note5\u0000�\u0000F�Y\u0000\u0004\u0000\u0000\u0000(\u0000�\u0002�\u0000\u0000\u0000^�R\u0000r\u0000\u0000\u0000�The authors would like to acknowledge the generous help of Bennett McCallum.\u0000\u0001\u0010\u0001\u0000\u0000_dta\u0000led'\u0000oled'\u0000ercooled'\u0000 `all' note4\u0000�\u0000F�Y\u0000\u0004\u0000\u0000\u0000(\u0000�\u0002\u0010\u0001\u0000\u0000^�R\u0000r\u0000\u0000\u0000�To reproduce the results in their paper, QPRODA must be divided by 1439. This conversion factor transforms gross production of chicken into the boneless equivalent that is used as the consumption variable.\u0000\u0001�\u0000\u0000\u0000_dta\u0000led'\u0000oled'\u0000ercooled'\u0000 `all' note3\u0000�\u0000F�Y\u0000\u0004\u0000\u0000\u0000(\u0000�\u0002�\u0000\u0000\u0000^�R\u0000r\u0000\u0000\u0000�These data are from Dennis Epple and Bennett T. McCallum (2006)\"Simultaneous Equation Econometrics: The Missing Example,\" Economic Inquiry, 44(2), 374-384.\u0000\u0001`\u0000\u0000\u0000_dta\u0000led'\u0000oled'\u0000ercooled'\u0000 `all' note2\u0000�\u0000F�Y\u0000\u0004\u0000\u0000\u0000(\u0000�\u0002`\u0000\u0000\u0000^�R\u0000r\u0000\u0000\u0000�variables are not logarithms.\u0000\u0001\u0000\u0000\u0000_dta\u0000led'\u0000oled'\u0000ercooled'\u0000 `all' note1\u0000�\u0000F�Y\u0000\u0004\u0000\u0000\u0000(\u0000�\u0002\u0000\u0000\u0000^�R\u0000r\u0000\u0000\u0000�real variables constructed as pc = pchick/cpi pb = pbeef/cpi\u0000\u0000\u0000\u0000\u0000\u0000\u0000��D��dA\u0000��E\u0000\u0000�B���A33oB\u0000\u0000\u0000���APn J\u001b�\u0017C\u0000\u0000\u0000\u0000\u0000$B\u0000��D��qA\u0000��E�̑B\u0000\u0000\u0012B33�B\u0000\u0000\u0000\u0000\u0000�A��-JyI\u001aC\u0000\u0000\u0000\u0000\u0000(B\u0000\u0000�D��tA\u00008�E33�B��\u0010B���B\u0000\u0000\u0000\u0000\u0000�A\u0000\u0006.J9�\u001cC\u0000\u0000\u0000\u0000\u0000,B\u0000 �D33sA\u0000�\u0001F���B\u0000\u0000�A��zB\u0000\u0000\u0000���A�J4J��\u001fC\u0000\u0000\u0000\u0000\u00000B\u0000@�D��|A\u0000P\u0001F�̀B33�A��}B\u0000\u0000\u000033�A�0=J\u0019d\"C\u0000\u0000\u0000\u0000\u00004B\u0000`�D33kA\u0000�\u0007F\u0000\u0000�B���Aff`B\u0000\u0000\u0000ff�AP�4JfF%C\u0000\u0000\u0000\u0000\u00008B\u0000��Dff�A\u0000�\u000bF33kB���A��fB\u0000\u0000\u0000���A�%UJ�8(C\u0000\u0000\u0000\u0000\u0000<B\u0000��D�̌A\u0000p\fF33eB���AffNB\u0000\u0000\u0000���A�^J%F+C\u0000\u0000\u0000\u0000\u0000@B\u0000��Dff�A\u0000h\u000bFffbB��\u0005BffHB\u0000\u0000\u000033�A��|J\u0019$.C\u0000\u0000\u0000\u0000\u0000DB\u0000��Dff�A\u0000<\u000fFffNB��\tBffBB\u0000\u0000\u0000���A�,�J�\u00121C\u0000\u0000\u0000\u0000\u0000HB\u0000\u0000�D���A\u0000�\u000fF��QB\u0000\u0000\u0006B\u0000\u00008Bk\"NB���AD@�Jǫ4C\u0000\u0000HB\u0000\u0000LB\u0000 �D�̤A\u0000D\u0012F��=B\u0000\u0000\u0004Bff4B\u0014yOB33�A\u0004�J�7C\u0000\u0000DB\u0000\u0000PB\u0000@�D�̤A\u0017F\u0000\u0000HB�B333B�]PB���A���J��:C\u0000\u00008B\u0000\u0000TB\u0000`�D�̨A\u0000x\u001aF33EB33\u0007B33GBM�KB���A6̠J�==C\u0000\u0000�B\u0000\u0000XB\u0000��Dff�A\u0000`#F��@B33\u0003B��GB�\u0002KB\u0000\u0000�Ar!�J��?C\u0000\u0000�B\u0000\u0000\\B\u0000��D33�A\u0000T+F33GB��\tB33OBM�KB\u0000\u0000�A�/�J�MBC\u0000\u0000DB\u0000\u0000`B\u0000��D\u0000\u0000�A\u0000d2F��RB��\u0010B\u0000\u0000ZBK�QB��\u0001B\u000er�J\\�DC\u0000\u00000B\u0000\u0000dB\u0000��D���A\u0000\u00008F33CB��\u0011B��NB\u0014yOB��\u0005B���JF�FC\u0000\u00004B\u0000\u0000hB\u0000\u0000�D���A\u0000�>F��LB��\u0017B\u0000\u00006Bk\u001aFB33\u000bB\u000e\u000b�J��HC\u0000\u0000lB\u0000\u0000lB\u0000 �Dff�A\u0000�BFffXB��&B33EB\u0016sIB��\u0012B���JP�JC\u0000\u0000�B\u0000\u0000pB\u0000@�D33�A\u0000\\HF��QB\u0000\u0000.B\u0000\u0000ZB��TB33\u001bBz��JP\n",
      "�B33�B\t�&K\u0014\u000eaC\u0000\u0000RC\u0000\u0000�B\u0000��D��\u0002B\u0000�zF�̼B���Bff�B���B�̤B��+K۹cC\u0000\u0000BC\u0000\u0000�B\u0000��D��\u0006B\u0000$~F\u0000\u0000�Bff�B���B[Q�B�̵B�\u00175KL�eC\u0000\u0000oC\u0000\u0000�B\u0000��D��\u0007B\u0000 F���B33�B\u0000\u0000�BF\u0005�B\u0000\u0000�B-\n",
      "D\u0000\u0000�B\u0000��Dff0B\u0000B�F3�\u0003Cff\u0004C\u0000\u0000�B[Q�B3C�w�K\u0004V}C\u0000�&D\u0000\u0000�B\u0000\u0000�D\u0000\u0000:B\u0000��Ff�\u0003C�L\u0004C\u0000\u0000�B���B�L\fC�{�K�V�C\u0000�DD\u0000\u0000�B\u0000 �D��@B\u0000\u0016�F\u0000\u0000J��B33�B1_XK��pC\u0000\u0000�C\u0000\u0000�B\u0000`�D��\u001dB\u0000l�F���B���Bff�B�[�B33�Bo/kK��rC\u0000\u0000�C\u0000\u0000�B\u0000��Dff\u001eB\u0000��F33�B33�B33�B�Z\u0014C���BJ?tK`\u0005uC\u0000��C\u0000\u0000�B\u0000��D��#B\u0000�F�\u0019\tC���B���BO\u000e\u000fC\u0000\u0000�B�n�K�WwC\u0000�\u0011D\u0000\u0000�B\u0000��D��)B\u0000��Ff�\u0006C��\u0000C���B\u0012�\u0002C3�\u0002C䛌K\u0017�yC\u0000\u0000\n",
      "C�\u0019\tC�̹BFf\u0003C\u0000�\u0010C���K�\u0004�C\u0000\u0000CD\u0000\u0000�B\u0000@�D33CB\u00006�F�\u0019\fC\u0000C33�B�C33\u0014C���KC\u0000\u0000uD\u0000\u0000�B\u0000`�D��@B\u0000|�F33\u000eCf�\u0006C\u0000\u0000�B�{\n",
      "Cff\u0018C}j�K�.�C\u0000��D\u0000\u0000�B\u0000��D33CB\u0000��F��\u0018C\u0000�\u0006C\u0000�\u001eC\u001dX.Cf�\u001cC�N�K\u0014��C\u0000`�D\u0000\u0000�B\u0000��D\u0000\u0000FB\u0000��F\u0000�\u001eC�C33�B��\u001dC\u0000� C9O�K�`�C\u0000`�D\u0000\u0000�B\u0000��D33GB\u0000��F��\u001fC\u0000Cff�B\u0013�\u0000C\u0000\u0000#Cd��K=��C\u0000��D\u0000\u0000�B\u0000��D��SB\u0000,�F��!C33\u000bCff�B���B��&C���Ko��C\u0000@�D\u0000\u0000�B\u0000\u0000�D��TB\u0000��Ff�\"C�\u0019\u0014C�̘B\u0000\u0000\u000033,C��K�>�C\u0000��D\u0000\u0000�B\u0000 �D��WB\u0000\u0018�F\u0000\u0000(C\u0000� C���B\u0000\u0000\u0000�\u00191C\u0000\u0000\u0000V.�C\u0000 �D\u0000\u0000�B"
     ]
    }
   ],
   "source": [
    "!cat broiler.dta"
   ]
  },
  {
   "cell_type": "code",
   "execution_count": 19,
   "metadata": {},
   "outputs": [],
   "source": [
    "df = pd.read_stata('broiler.dta')"
   ]
  },
  {
   "cell_type": "code",
   "execution_count": 20,
   "metadata": {},
   "outputs": [
    {
     "data": {
      "text/html": [
       "<div>\n",
       "<style scoped>\n",
       "    .dataframe tbody tr th:only-of-type {\n",
       "        vertical-align: middle;\n",
       "    }\n",
       "\n",
       "    .dataframe tbody tr th {\n",
       "        vertical-align: top;\n",
       "    }\n",
       "\n",
       "    .dataframe thead th {\n",
       "        text-align: right;\n",
       "    }\n",
       "</style>\n",
       "<table border=\"1\" class=\"dataframe\">\n",
       "  <thead>\n",
       "    <tr style=\"text-align: right;\">\n",
       "      <th></th>\n",
       "      <th>year</th>\n",
       "      <th>q</th>\n",
       "      <th>y</th>\n",
       "      <th>pchick</th>\n",
       "      <th>pbeef</th>\n",
       "      <th>pcor</th>\n",
       "      <th>pf</th>\n",
       "      <th>cpi</th>\n",
       "      <th>qproda</th>\n",
       "      <th>pop</th>\n",
       "      <th>meatex</th>\n",
       "      <th>time</th>\n",
       "    </tr>\n",
       "  </thead>\n",
       "  <tbody>\n",
       "    <tr>\n",
       "      <th>0</th>\n",
       "      <td>1950.0</td>\n",
       "      <td>14.3</td>\n",
       "      <td>7863.0</td>\n",
       "      <td>69.500000</td>\n",
       "      <td>31.200001</td>\n",
       "      <td>59.799999</td>\n",
       "      <td>NaN</td>\n",
       "      <td>24.100000</td>\n",
       "      <td>2628500.0</td>\n",
       "      <td>151.684006</td>\n",
       "      <td>NaN</td>\n",
       "      <td>41.0</td>\n",
       "    </tr>\n",
       "    <tr>\n",
       "      <th>1</th>\n",
       "      <td>1951.0</td>\n",
       "      <td>15.1</td>\n",
       "      <td>7953.0</td>\n",
       "      <td>72.900002</td>\n",
       "      <td>36.500000</td>\n",
       "      <td>72.099998</td>\n",
       "      <td>NaN</td>\n",
       "      <td>26.000000</td>\n",
       "      <td>2843000.0</td>\n",
       "      <td>154.287003</td>\n",
       "      <td>NaN</td>\n",
       "      <td>42.0</td>\n",
       "    </tr>\n",
       "    <tr>\n",
       "      <th>2</th>\n",
       "      <td>1952.0</td>\n",
       "      <td>15.3</td>\n",
       "      <td>8071.0</td>\n",
       "      <td>73.099998</td>\n",
       "      <td>36.200001</td>\n",
       "      <td>71.300003</td>\n",
       "      <td>NaN</td>\n",
       "      <td>26.500000</td>\n",
       "      <td>2851200.0</td>\n",
       "      <td>156.953995</td>\n",
       "      <td>NaN</td>\n",
       "      <td>43.0</td>\n",
       "    </tr>\n",
       "    <tr>\n",
       "      <th>3</th>\n",
       "      <td>1953.0</td>\n",
       "      <td>15.2</td>\n",
       "      <td>8319.0</td>\n",
       "      <td>71.300003</td>\n",
       "      <td>28.500000</td>\n",
       "      <td>62.700001</td>\n",
       "      <td>NaN</td>\n",
       "      <td>26.700001</td>\n",
       "      <td>2953900.0</td>\n",
       "      <td>159.565002</td>\n",
       "      <td>NaN</td>\n",
       "      <td>44.0</td>\n",
       "    </tr>\n",
       "    <tr>\n",
       "      <th>4</th>\n",
       "      <td>1954.0</td>\n",
       "      <td>15.8</td>\n",
       "      <td>8276.0</td>\n",
       "      <td>64.400002</td>\n",
       "      <td>27.400000</td>\n",
       "      <td>63.400002</td>\n",
       "      <td>NaN</td>\n",
       "      <td>26.900000</td>\n",
       "      <td>3099700.0</td>\n",
       "      <td>162.391006</td>\n",
       "      <td>NaN</td>\n",
       "      <td>45.0</td>\n",
       "    </tr>\n",
       "  </tbody>\n",
       "</table>\n",
       "</div>"
      ],
      "text/plain": [
       "     year     q       y     pchick      pbeef       pcor  pf        cpi  \\\n",
       "0  1950.0  14.3  7863.0  69.500000  31.200001  59.799999 NaN  24.100000   \n",
       "1  1951.0  15.1  7953.0  72.900002  36.500000  72.099998 NaN  26.000000   \n",
       "2  1952.0  15.3  8071.0  73.099998  36.200001  71.300003 NaN  26.500000   \n",
       "3  1953.0  15.2  8319.0  71.300003  28.500000  62.700001 NaN  26.700001   \n",
       "4  1954.0  15.8  8276.0  64.400002  27.400000  63.400002 NaN  26.900000   \n",
       "\n",
       "      qproda         pop  meatex  time  \n",
       "0  2628500.0  151.684006     NaN  41.0  \n",
       "1  2843000.0  154.287003     NaN  42.0  \n",
       "2  2851200.0  156.953995     NaN  43.0  \n",
       "3  2953900.0  159.565002     NaN  44.0  \n",
       "4  3099700.0  162.391006     NaN  45.0  "
      ]
     },
     "execution_count": 20,
     "metadata": {},
     "output_type": "execute_result"
    }
   ],
   "source": [
    "df.head()"
   ]
  },
  {
   "cell_type": "markdown",
   "metadata": {},
   "source": [
    "We can also load the same file from a given URL:"
   ]
  },
  {
   "cell_type": "code",
   "execution_count": 21,
   "metadata": {},
   "outputs": [],
   "source": [
    "stata_url = 'http://www.principlesofeconometrics.com/stata/broiler.dta'"
   ]
  },
  {
   "cell_type": "code",
   "execution_count": 22,
   "metadata": {},
   "outputs": [],
   "source": [
    "df = pd.read_stata(stata_url)"
   ]
  },
  {
   "cell_type": "code",
   "execution_count": 23,
   "metadata": {},
   "outputs": [
    {
     "data": {
      "text/html": [
       "<div>\n",
       "<style scoped>\n",
       "    .dataframe tbody tr th:only-of-type {\n",
       "        vertical-align: middle;\n",
       "    }\n",
       "\n",
       "    .dataframe tbody tr th {\n",
       "        vertical-align: top;\n",
       "    }\n",
       "\n",
       "    .dataframe thead th {\n",
       "        text-align: right;\n",
       "    }\n",
       "</style>\n",
       "<table border=\"1\" class=\"dataframe\">\n",
       "  <thead>\n",
       "    <tr style=\"text-align: right;\">\n",
       "      <th></th>\n",
       "      <th>year</th>\n",
       "      <th>q</th>\n",
       "      <th>y</th>\n",
       "      <th>pchick</th>\n",
       "      <th>pbeef</th>\n",
       "      <th>pcor</th>\n",
       "      <th>pf</th>\n",
       "      <th>cpi</th>\n",
       "      <th>qproda</th>\n",
       "      <th>pop</th>\n",
       "      <th>meatex</th>\n",
       "      <th>time</th>\n",
       "    </tr>\n",
       "  </thead>\n",
       "  <tbody>\n",
       "    <tr>\n",
       "      <th>0</th>\n",
       "      <td>1950.0</td>\n",
       "      <td>14.3</td>\n",
       "      <td>7863.0</td>\n",
       "      <td>69.500000</td>\n",
       "      <td>31.200001</td>\n",
       "      <td>59.799999</td>\n",
       "      <td>NaN</td>\n",
       "      <td>24.100000</td>\n",
       "      <td>2628500.0</td>\n",
       "      <td>151.684006</td>\n",
       "      <td>NaN</td>\n",
       "      <td>41.0</td>\n",
       "    </tr>\n",
       "    <tr>\n",
       "      <th>1</th>\n",
       "      <td>1951.0</td>\n",
       "      <td>15.1</td>\n",
       "      <td>7953.0</td>\n",
       "      <td>72.900002</td>\n",
       "      <td>36.500000</td>\n",
       "      <td>72.099998</td>\n",
       "      <td>NaN</td>\n",
       "      <td>26.000000</td>\n",
       "      <td>2843000.0</td>\n",
       "      <td>154.287003</td>\n",
       "      <td>NaN</td>\n",
       "      <td>42.0</td>\n",
       "    </tr>\n",
       "    <tr>\n",
       "      <th>2</th>\n",
       "      <td>1952.0</td>\n",
       "      <td>15.3</td>\n",
       "      <td>8071.0</td>\n",
       "      <td>73.099998</td>\n",
       "      <td>36.200001</td>\n",
       "      <td>71.300003</td>\n",
       "      <td>NaN</td>\n",
       "      <td>26.500000</td>\n",
       "      <td>2851200.0</td>\n",
       "      <td>156.953995</td>\n",
       "      <td>NaN</td>\n",
       "      <td>43.0</td>\n",
       "    </tr>\n",
       "    <tr>\n",
       "      <th>3</th>\n",
       "      <td>1953.0</td>\n",
       "      <td>15.2</td>\n",
       "      <td>8319.0</td>\n",
       "      <td>71.300003</td>\n",
       "      <td>28.500000</td>\n",
       "      <td>62.700001</td>\n",
       "      <td>NaN</td>\n",
       "      <td>26.700001</td>\n",
       "      <td>2953900.0</td>\n",
       "      <td>159.565002</td>\n",
       "      <td>NaN</td>\n",
       "      <td>44.0</td>\n",
       "    </tr>\n",
       "    <tr>\n",
       "      <th>4</th>\n",
       "      <td>1954.0</td>\n",
       "      <td>15.8</td>\n",
       "      <td>8276.0</td>\n",
       "      <td>64.400002</td>\n",
       "      <td>27.400000</td>\n",
       "      <td>63.400002</td>\n",
       "      <td>NaN</td>\n",
       "      <td>26.900000</td>\n",
       "      <td>3099700.0</td>\n",
       "      <td>162.391006</td>\n",
       "      <td>NaN</td>\n",
       "      <td>45.0</td>\n",
       "    </tr>\n",
       "  </tbody>\n",
       "</table>\n",
       "</div>"
      ],
      "text/plain": [
       "     year     q       y     pchick      pbeef       pcor  pf        cpi  \\\n",
       "0  1950.0  14.3  7863.0  69.500000  31.200001  59.799999 NaN  24.100000   \n",
       "1  1951.0  15.1  7953.0  72.900002  36.500000  72.099998 NaN  26.000000   \n",
       "2  1952.0  15.3  8071.0  73.099998  36.200001  71.300003 NaN  26.500000   \n",
       "3  1953.0  15.2  8319.0  71.300003  28.500000  62.700001 NaN  26.700001   \n",
       "4  1954.0  15.8  8276.0  64.400002  27.400000  63.400002 NaN  26.900000   \n",
       "\n",
       "      qproda         pop  meatex  time  \n",
       "0  2628500.0  151.684006     NaN  41.0  \n",
       "1  2843000.0  154.287003     NaN  42.0  \n",
       "2  2851200.0  156.953995     NaN  43.0  \n",
       "3  2953900.0  159.565002     NaN  44.0  \n",
       "4  3099700.0  162.391006     NaN  45.0  "
      ]
     },
     "execution_count": 23,
     "metadata": {},
     "output_type": "execute_result"
    }
   ],
   "source": [
    "df.head()"
   ]
  },
  {
   "cell_type": "markdown",
   "metadata": {},
   "source": [
    "Plot the Consumer Price Index (CPI):"
   ]
  },
  {
   "cell_type": "code",
   "execution_count": 24,
   "metadata": {},
   "outputs": [
    {
     "data": {
      "text/plain": [
       "<Axes: >"
      ]
     },
     "execution_count": 24,
     "metadata": {},
     "output_type": "execute_result"
    },
    {
     "data": {
      "image/png": "[encoded data removed]",
      "text/plain": [
       "<Figure size 640x480 with 1 Axes>"
      ]
     },
     "metadata": {},
     "output_type": "display_data"
    }
   ],
   "source": [
    "df.loc[:,'cpi'].plot()"
   ]
  },
  {
   "cell_type": "markdown",
   "metadata": {},
   "source": [
    "![green-divider](https://user-images.githubusercontent.com/7065401/52071924-c003ad80-2562-11e9-8297-1c6595f8a7ff.png)\n",
    "\n",
    "## Google BigQuery\n",
    "\n",
    "Google BigQuery data can be loaded using pandas `read_gbq` method.\n",
    "\n",
    "This method requires the `pandas-gbq` package and a _BigQuery project_ (you can create a new one from [here](https://console.cloud.google.com/bigquery))."
   ]
  },
  {
   "cell_type": "code",
   "execution_count": 25,
   "metadata": {
    "scrolled": true
   },
   "outputs": [
    {
     "name": "stdout",
     "output_type": "stream",
     "text": [
      "Collecting pandas_gbq\n",
      "  Downloading pandas_gbq-0.22.0-py2.py3-none-any.whl.metadata (3.4 kB)\n",
      "Requirement already satisfied: setuptools in /home/tinapyp/Dependencies/miniconda3/lib/python3.9/site-packages (from pandas_gbq) (68.2.2)\n",
      "Collecting db-dtypes<2.0.0,>=1.0.4 (from pandas_gbq)\n",
      "  Downloading db_dtypes-1.2.0-py2.py3-none-any.whl.metadata (3.0 kB)\n",
      "Requirement already satisfied: numpy>=1.16.6 in /home/tinapyp/Dependencies/miniconda3/lib/python3.9/site-packages (from pandas_gbq) (1.26.2)\n",
      "Requirement already satisfied: pandas>=1.1.4 in /home/tinapyp/Dependencies/miniconda3/lib/python3.9/site-packages (from pandas_gbq) (1.5.3)\n",
      "Requirement already satisfied: pyarrow>=3.0.0 in /home/tinapyp/Dependencies/miniconda3/lib/python3.9/site-packages (from pandas_gbq) (14.0.2)\n",
      "Collecting pydata-google-auth>=1.5.0 (from pandas_gbq)\n",
      "  Downloading pydata_google_auth-1.8.2-py2.py3-none-any.whl.metadata (3.2 kB)\n",
      "Collecting google-api-core<3.0.0dev,>=2.10.2 (from pandas_gbq)\n",
      "  Downloading google_api_core-2.18.0-py3-none-any.whl.metadata (2.7 kB)\n",
      "Requirement already satisfied: google-auth>=2.13.0 in /home/tinapyp/Dependencies/miniconda3/lib/python3.9/site-packages (from pandas_gbq) (2.27.0)\n",
      "Requirement already satisfied: google-auth-oauthlib>=0.7.0 in /home/tinapyp/Dependencies/miniconda3/lib/python3.9/site-packages (from pandas_gbq) (1.2.0)\n",
      "Collecting google-cloud-bigquery<4.0.0dev,>=3.3.5 (from pandas_gbq)\n",
      "  Downloading google_cloud_bigquery-3.19.0-py2.py3-none-any.whl.metadata (8.9 kB)\n",
      "Requirement already satisfied: packaging>=20.0.0 in /home/tinapyp/Dependencies/miniconda3/lib/python3.9/site-packages (from pandas_gbq) (23.1)\n",
      "Collecting googleapis-common-protos<2.0.dev0,>=1.56.2 (from google-api-core<3.0.0dev,>=2.10.2->pandas_gbq)\n",
      "  Using cached googleapis_common_protos-1.63.0-py2.py3-none-any.whl.metadata (1.5 kB)\n",
      "Requirement already satisfied: protobuf!=3.20.0,!=3.20.1,!=4.21.0,!=4.21.1,!=4.21.2,!=4.21.3,!=4.21.4,!=4.21.5,<5.0.0.dev0,>=3.19.5 in /home/tinapyp/Dependencies/miniconda3/lib/python3.9/site-packages (from google-api-core<3.0.0dev,>=2.10.2->pandas_gbq) (4.21.12)\n",
      "Collecting proto-plus<2.0.0dev,>=1.22.3 (from google-api-core<3.0.0dev,>=2.10.2->pandas_gbq)\n",
      "  Using cached proto_plus-1.23.0-py3-none-any.whl.metadata (2.2 kB)\n",
      "Requirement already satisfied: requests<3.0.0.dev0,>=2.18.0 in /home/tinapyp/Dependencies/miniconda3/lib/python3.9/site-packages (from google-api-core<3.0.0dev,>=2.10.2->pandas_gbq) (2.31.0)\n",
      "Requirement already satisfied: cachetools<6.0,>=2.0.0 in /home/tinapyp/Dependencies/miniconda3/lib/python3.9/site-packages (from google-auth>=2.13.0->pandas_gbq) (5.3.2)\n",
      "Requirement already satisfied: pyasn1-modules>=0.2.1 in /home/tinapyp/Dependencies/miniconda3/lib/python3.9/site-packages (from google-auth>=2.13.0->pandas_gbq) (0.3.0)\n",
      "Requirement already satisfied: rsa<5,>=3.1.4 in /home/tinapyp/Dependencies/miniconda3/lib/python3.9/site-packages (from google-auth>=2.13.0->pandas_gbq) (4.9)\n",
      "Requirement already satisfied: requests-oauthlib>=0.7.0 in /home/tinapyp/Dependencies/miniconda3/lib/python3.9/site-packages (from google-auth-oauthlib>=0.7.0->pandas_gbq) (1.3.1)\n",
      "Collecting google-cloud-core<3.0.0dev,>=1.6.0 (from google-cloud-bigquery<4.0.0dev,>=3.3.5->pandas_gbq)\n",
      "  Downloading google_cloud_core-2.4.1-py2.py3-none-any.whl.metadata (2.7 kB)\n",
      "Collecting google-resumable-media<3.0dev,>=0.6.0 (from google-cloud-bigquery<4.0.0dev,>=3.3.5->pandas_gbq)\n",
      "  Downloading google_resumable_media-2.7.0-py2.py3-none-any.whl.metadata (2.2 kB)\n",
      "Requirement already satisfied: python-dateutil<3.0dev,>=2.7.2 in /home/tinapyp/Dependencies/miniconda3/lib/python3.9/site-packages (from google-cloud-bigquery<4.0.0dev,>=3.3.5->pandas_gbq) (2.8.2)\n",
      "Requirement already satisfied: pytz>=2020.1 in /home/tinapyp/Dependencies/miniconda3/lib/python3.9/site-packages (from pandas>=1.1.4->pandas_gbq) (2023.3.post1)\n",
      "Requirement already satisfied: grpcio<2.0dev,>=1.33.2 in /home/tinapyp/Dependencies/miniconda3/lib/python3.9/site-packages (from google-api-core[grpc]!=2.0.*,!=2.1.*,!=2.10.*,!=2.2.*,!=2.3.*,!=2.4.*,!=2.5.*,!=2.6.*,!=2.7.*,!=2.8.*,!=2.9.*,<3.0.0dev,>=1.34.1->google-cloud-bigquery<4.0.0dev,>=3.3.5->pandas_gbq) (1.60.1)\n",
      "Collecting grpcio-status<2.0.dev0,>=1.33.2 (from google-api-core[grpc]!=2.0.*,!=2.1.*,!=2.10.*,!=2.2.*,!=2.3.*,!=2.4.*,!=2.5.*,!=2.6.*,!=2.7.*,!=2.8.*,!=2.9.*,<3.0.0dev,>=1.34.1->google-cloud-bigquery<4.0.0dev,>=3.3.5->pandas_gbq)\n",
      "  Downloading grpcio_status-1.62.1-py3-none-any.whl.metadata (1.3 kB)\n",
      "Collecting google-crc32c<2.0dev,>=1.0 (from google-resumable-media<3.0dev,>=0.6.0->google-cloud-bigquery<4.0.0dev,>=3.3.5->pandas_gbq)\n",
      "  Downloading google_crc32c-1.5.0-cp39-cp39-manylinux_2_17_x86_64.manylinux2014_x86_64.whl.metadata (2.3 kB)\n",
      "Requirement already satisfied: pyasn1<0.6.0,>=0.4.6 in /home/tinapyp/Dependencies/miniconda3/lib/python3.9/site-packages (from pyasn1-modules>=0.2.1->google-auth>=2.13.0->pandas_gbq) (0.5.1)\n",
      "Requirement already satisfied: six>=1.5 in /home/tinapyp/Dependencies/miniconda3/lib/python3.9/site-packages (from python-dateutil<3.0dev,>=2.7.2->google-cloud-bigquery<4.0.0dev,>=3.3.5->pandas_gbq) (1.16.0)\n",
      "Requirement already satisfied: charset-normalizer<4,>=2 in /home/tinapyp/Dependencies/miniconda3/lib/python3.9/site-packages (from requests<3.0.0.dev0,>=2.18.0->google-api-core<3.0.0dev,>=2.10.2->pandas_gbq) (2.0.4)\n",
      "Requirement already satisfied: idna<4,>=2.5 in /home/tinapyp/Dependencies/miniconda3/lib/python3.9/site-packages (from requests<3.0.0.dev0,>=2.18.0->google-api-core<3.0.0dev,>=2.10.2->pandas_gbq) (3.4)\n",
      "Requirement already satisfied: urllib3<3,>=1.21.1 in /home/tinapyp/Dependencies/miniconda3/lib/python3.9/site-packages (from requests<3.0.0.dev0,>=2.18.0->google-api-core<3.0.0dev,>=2.10.2->pandas_gbq) (1.26.18)\n",
      "Requirement already satisfied: certifi>=2017.4.17 in /home/tinapyp/Dependencies/miniconda3/lib/python3.9/site-packages (from requests<3.0.0.dev0,>=2.18.0->google-api-core<3.0.0dev,>=2.10.2->pandas_gbq) (2024.2.2)\n",
      "Requirement already satisfied: oauthlib>=3.0.0 in /home/tinapyp/Dependencies/miniconda3/lib/python3.9/site-packages (from requests-oauthlib>=0.7.0->google-auth-oauthlib>=0.7.0->pandas_gbq) (3.2.2)\n",
      "Collecting grpcio<2.0dev,>=1.33.2 (from google-api-core[grpc]!=2.0.*,!=2.1.*,!=2.10.*,!=2.2.*,!=2.3.*,!=2.4.*,!=2.5.*,!=2.6.*,!=2.7.*,!=2.8.*,!=2.9.*,<3.0.0dev,>=1.34.1->google-cloud-bigquery<4.0.0dev,>=3.3.5->pandas_gbq)\n",
      "  Downloading grpcio-1.62.1-cp39-cp39-manylinux_2_17_x86_64.manylinux2014_x86_64.whl.metadata (4.0 kB)\n",
      "Downloading pandas_gbq-0.22.0-py2.py3-none-any.whl (26 kB)\n",
      "Downloading db_dtypes-1.2.0-py2.py3-none-any.whl (14 kB)\n",
      "Downloading google_api_core-2.18.0-py3-none-any.whl (138 kB)\n",
      "\u001b[2K   \u001b[90m━━━━━━━━━━━━━━━━━━━━━━━━━━━━━━━━━━━━━━━━\u001b[0m \u001b[32m138.3/138.3 kB\u001b[0m \u001b[31m1.1 MB/s\u001b[0m eta \u001b[36m0:00:00\u001b[0m \u001b[36m0:00:01\u001b[0m\n",
      "\u001b[?25hDownloading google_cloud_bigquery-3.19.0-py2.py3-none-any.whl (232 kB)\n",
      "\u001b[2K   \u001b[90m━━━━━━━━━━━━━━━━━━━━━━━━━━━━━━━━━━━━━━━\u001b[0m \u001b[32m232.6/232.6 kB\u001b[0m \u001b[31m817.7 kB/s\u001b[0m eta \u001b[36m0:00:00\u001b[0ma \u001b[36m0:00:01\u001b[0m\n",
      "\u001b[?25hDownloading pydata_google_auth-1.8.2-py2.py3-none-any.whl (15 kB)\n",
      "Downloading google_cloud_core-2.4.1-py2.py3-none-any.whl (29 kB)\n",
      "Downloading google_resumable_media-2.7.0-py2.py3-none-any.whl (80 kB)\n",
      "\u001b[2K   \u001b[90m━━━━━━━━━━━━━━━━━━━━━━━━━━━━━━━━━━━━━━━━\u001b[0m \u001b[32m80.6/80.6 kB\u001b[0m \u001b[31m1.2 MB/s\u001b[0m eta \u001b[36m0:00:00\u001b[0ma \u001b[36m0:00:01\u001b[0m\n",
      "\u001b[?25hUsing cached googleapis_common_protos-1.63.0-py2.py3-none-any.whl (229 kB)\n",
      "Using cached proto_plus-1.23.0-py3-none-any.whl (48 kB)\n",
      "Downloading google_crc32c-1.5.0-cp39-cp39-manylinux_2_17_x86_64.manylinux2014_x86_64.whl (32 kB)\n",
      "Downloading grpcio_status-1.62.1-py3-none-any.whl (14 kB)\n",
      "Downloading grpcio-1.62.1-cp39-cp39-manylinux_2_17_x86_64.manylinux2014_x86_64.whl (5.6 MB)\n",
      "\u001b[2K   \u001b[90m━━━━━━━━━━━━━━━━━━━━━━━━━━━━━━━━━━━━━━━━\u001b[0m \u001b[32m5.6/5.6 MB\u001b[0m \u001b[31m890.7 kB/s\u001b[0m eta \u001b[36m0:00:00\u001b[0m00:01\u001b[0m00:01\u001b[0m\n",
      "\u001b[?25hInstalling collected packages: proto-plus, grpcio, googleapis-common-protos, google-crc32c, grpcio-status, google-resumable-media, google-api-core, db-dtypes, pydata-google-auth, google-cloud-core, google-cloud-bigquery, pandas_gbq\n",
      "  Attempting uninstall: grpcio\n",
      "    Found existing installation: grpcio 1.60.1\n",
      "    Uninstalling grpcio-1.60.1:\n",
      "      Successfully uninstalled grpcio-1.60.1\n",
      "Successfully installed db-dtypes-1.2.0 google-api-core-2.18.0 google-cloud-bigquery-3.19.0 google-cloud-core-2.4.1 google-crc32c-1.5.0 google-resumable-media-2.7.0 googleapis-common-protos-1.63.0 grpcio-1.62.1 grpcio-status-1.62.1 pandas_gbq-0.22.0 proto-plus-1.23.0 pydata-google-auth-1.8.2\n"
     ]
    }
   ],
   "source": [
    "!pip install pandas_gbq"
   ]
  },
  {
   "cell_type": "code",
   "execution_count": 26,
   "metadata": {},
   "outputs": [],
   "source": [
    "import pandas_gbq"
   ]
  },
  {
   "cell_type": "code",
   "execution_count": 27,
   "metadata": {
    "scrolled": true
   },
   "outputs": [
    {
     "name": "stdout",
     "output_type": "stream",
     "text": [
      "Please visit this URL to authorize this application: https://accounts.google.com/o/oauth2/auth?response_type=code&client_id=725825577420-unm2gnkiprugilg743tkbig250f4sfsj.apps.googleusercontent.com&redirect_uri=http%3A%2F%2Flocalhost%3A8080%2F&scope=https%3A%2F%2Fwww.googleapis.com%2Fauth%2Fbigquery&state=ECU7e4uRn8v4gMAMHR5lkuqMeOkMDD&prompt=consent&access_type=offline\n",
      "Opening in existing browser session.\n"
     ]
    },
    {
     "ename": "KeyboardInterrupt",
     "evalue": "",
     "output_type": "error",
     "traceback": [
      "\u001b[0;31m---------------------------------------------------------------------------\u001b[0m",
      "\u001b[0;31mKeyboardInterrupt\u001b[0m                         Traceback (most recent call last)",
      "Cell \u001b[0;32mIn[27], line 9\u001b[0m\n\u001b[1;32m      1\u001b[0m sql \u001b[38;5;241m=\u001b[39m \u001b[38;5;124m\"\"\"\u001b[39m\n\u001b[1;32m      2\u001b[0m \u001b[38;5;124m    SELECT name, SUM(number) as count\u001b[39m\n\u001b[1;32m      3\u001b[0m \u001b[38;5;124m    FROM `bigquery-public-data.usa_names.usa_1910_current`\u001b[39m\n\u001b[0;32m   (...)\u001b[0m\n\u001b[1;32m      6\u001b[0m \u001b[38;5;124m    LIMIT 10\u001b[39m\n\u001b[1;32m      7\u001b[0m \u001b[38;5;124m\"\"\"\u001b[39m\n\u001b[0;32m----> 9\u001b[0m \u001b[43mpandas_gbq\u001b[49m\u001b[38;5;241;43m.\u001b[39;49m\u001b[43mread_gbq\u001b[49m\u001b[43m(\u001b[49m\u001b[43msql\u001b[49m\u001b[43m,\u001b[49m\n\u001b[1;32m     10\u001b[0m \u001b[43m                    \u001b[49m\u001b[43mproject_id\u001b[49m\u001b[38;5;241;43m=\u001b[39;49m\u001b[38;5;124;43m'\u001b[39;49m\u001b[38;5;124;43mMY_PROJECT_ID\u001b[39;49m\u001b[38;5;124;43m'\u001b[39;49m\u001b[43m)\u001b[49m\n",
      "File \u001b[0;32m~/Dependencies/miniconda3/lib/python3.9/site-packages/pandas_gbq/gbq.py:831\u001b[0m, in \u001b[0;36mread_gbq\u001b[0;34m(query_or_table, project_id, index_col, columns, reauth, auth_local_webserver, dialect, location, configuration, credentials, use_bqstorage_api, max_results, verbose, private_key, progress_bar_type, dtypes, auth_redirect_uri, client_id, client_secret, col_order)\u001b[0m\n\u001b[1;32m    824\u001b[0m         \u001b[38;5;28;01mraise\u001b[39;00m \u001b[38;5;167;01mValueError\u001b[39;00m(\n\u001b[1;32m    825\u001b[0m             \u001b[38;5;124m\"\u001b[39m\u001b[38;5;124mQuery statement can\u001b[39m\u001b[38;5;124m'\u001b[39m\u001b[38;5;124mt be specified \u001b[39m\u001b[38;5;124m\"\u001b[39m\n\u001b[1;32m    826\u001b[0m             \u001b[38;5;124m\"\u001b[39m\u001b[38;5;124minside config while it is specified \u001b[39m\u001b[38;5;124m\"\u001b[39m\n\u001b[1;32m    827\u001b[0m             \u001b[38;5;124m\"\u001b[39m\u001b[38;5;124mas parameter\u001b[39m\u001b[38;5;124m\"\u001b[39m\n\u001b[1;32m    828\u001b[0m         )\n\u001b[1;32m    829\u001b[0m     query_or_table \u001b[38;5;241m=\u001b[39m configuration[\u001b[38;5;124m\"\u001b[39m\u001b[38;5;124mquery\u001b[39m\u001b[38;5;124m\"\u001b[39m]\u001b[38;5;241m.\u001b[39mpop(\u001b[38;5;124m\"\u001b[39m\u001b[38;5;124mquery\u001b[39m\u001b[38;5;124m\"\u001b[39m)\n\u001b[0;32m--> 831\u001b[0m connector \u001b[38;5;241m=\u001b[39m \u001b[43mGbqConnector\u001b[49m\u001b[43m(\u001b[49m\n\u001b[1;32m    832\u001b[0m \u001b[43m    \u001b[49m\u001b[43mproject_id\u001b[49m\u001b[43m,\u001b[49m\n\u001b[1;32m    833\u001b[0m \u001b[43m    \u001b[49m\u001b[43mreauth\u001b[49m\u001b[38;5;241;43m=\u001b[39;49m\u001b[43mreauth\u001b[49m\u001b[43m,\u001b[49m\n\u001b[1;32m    834\u001b[0m \u001b[43m    \u001b[49m\u001b[43mdialect\u001b[49m\u001b[38;5;241;43m=\u001b[39;49m\u001b[43mdialect\u001b[49m\u001b[43m,\u001b[49m\n\u001b[1;32m    835\u001b[0m \u001b[43m    \u001b[49m\u001b[43mauth_local_webserver\u001b[49m\u001b[38;5;241;43m=\u001b[39;49m\u001b[43mauth_local_webserver\u001b[49m\u001b[43m,\u001b[49m\n\u001b[1;32m    836\u001b[0m \u001b[43m    \u001b[49m\u001b[43mlocation\u001b[49m\u001b[38;5;241;43m=\u001b[39;49m\u001b[43mlocation\u001b[49m\u001b[43m,\u001b[49m\n\u001b[1;32m    837\u001b[0m \u001b[43m    \u001b[49m\u001b[43mcredentials\u001b[49m\u001b[38;5;241;43m=\u001b[39;49m\u001b[43mcredentials\u001b[49m\u001b[43m,\u001b[49m\n\u001b[1;32m    838\u001b[0m \u001b[43m    \u001b[49m\u001b[43mprivate_key\u001b[49m\u001b[38;5;241;43m=\u001b[39;49m\u001b[43mprivate_key\u001b[49m\u001b[43m,\u001b[49m\n\u001b[1;32m    839\u001b[0m \u001b[43m    \u001b[49m\u001b[43muse_bqstorage_api\u001b[49m\u001b[38;5;241;43m=\u001b[39;49m\u001b[43muse_bqstorage_api\u001b[49m\u001b[43m,\u001b[49m\n\u001b[1;32m    840\u001b[0m \u001b[43m    \u001b[49m\u001b[43mauth_redirect_uri\u001b[49m\u001b[38;5;241;43m=\u001b[39;49m\u001b[43mauth_redirect_uri\u001b[49m\u001b[43m,\u001b[49m\n\u001b[1;32m    841\u001b[0m \u001b[43m    \u001b[49m\u001b[43mclient_id\u001b[49m\u001b[38;5;241;43m=\u001b[39;49m\u001b[43mclient_id\u001b[49m\u001b[43m,\u001b[49m\n\u001b[1;32m    842\u001b[0m \u001b[43m    \u001b[49m\u001b[43mclient_secret\u001b[49m\u001b[38;5;241;43m=\u001b[39;49m\u001b[43mclient_secret\u001b[49m\u001b[43m,\u001b[49m\n\u001b[1;32m    843\u001b[0m \u001b[43m\u001b[49m\u001b[43m)\u001b[49m\n\u001b[1;32m    845\u001b[0m \u001b[38;5;28;01mif\u001b[39;00m _is_query(query_or_table):\n\u001b[1;32m    846\u001b[0m     final_df \u001b[38;5;241m=\u001b[39m connector\u001b[38;5;241m.\u001b[39mrun_query(\n\u001b[1;32m    847\u001b[0m         query_or_table,\n\u001b[1;32m    848\u001b[0m         configuration\u001b[38;5;241m=\u001b[39mconfiguration,\n\u001b[0;32m   (...)\u001b[0m\n\u001b[1;32m    851\u001b[0m         dtypes\u001b[38;5;241m=\u001b[39mdtypes,\n\u001b[1;32m    852\u001b[0m     )\n",
      "File \u001b[0;32m~/Dependencies/miniconda3/lib/python3.9/site-packages/pandas_gbq/gbq.py:299\u001b[0m, in \u001b[0;36mGbqConnector.__init__\u001b[0;34m(self, project_id, reauth, private_key, auth_local_webserver, dialect, location, credentials, use_bqstorage_api, auth_redirect_uri, client_id, client_secret)\u001b[0m\n\u001b[1;32m    297\u001b[0m \u001b[38;5;66;03m# Credentials were explicitly asked for, so don't use the cache.\u001b[39;00m\n\u001b[1;32m    298\u001b[0m \u001b[38;5;28;01mif\u001b[39;00m private_key \u001b[38;5;129;01mor\u001b[39;00m reauth \u001b[38;5;129;01mor\u001b[39;00m \u001b[38;5;129;01mnot\u001b[39;00m \u001b[38;5;28mself\u001b[39m\u001b[38;5;241m.\u001b[39mcredentials:\n\u001b[0;32m--> 299\u001b[0m     \u001b[38;5;28mself\u001b[39m\u001b[38;5;241m.\u001b[39mcredentials, default_project \u001b[38;5;241m=\u001b[39m \u001b[43mauth\u001b[49m\u001b[38;5;241;43m.\u001b[39;49m\u001b[43mget_credentials\u001b[49m\u001b[43m(\u001b[49m\n\u001b[1;32m    300\u001b[0m \u001b[43m        \u001b[49m\u001b[43mprivate_key\u001b[49m\u001b[38;5;241;43m=\u001b[39;49m\u001b[43mprivate_key\u001b[49m\u001b[43m,\u001b[49m\n\u001b[1;32m    301\u001b[0m \u001b[43m        \u001b[49m\u001b[43mproject_id\u001b[49m\u001b[38;5;241;43m=\u001b[39;49m\u001b[43mproject_id\u001b[49m\u001b[43m,\u001b[49m\n\u001b[1;32m    302\u001b[0m \u001b[43m        \u001b[49m\u001b[43mreauth\u001b[49m\u001b[38;5;241;43m=\u001b[39;49m\u001b[43mreauth\u001b[49m\u001b[43m,\u001b[49m\n\u001b[1;32m    303\u001b[0m \u001b[43m        \u001b[49m\u001b[43mauth_local_webserver\u001b[49m\u001b[38;5;241;43m=\u001b[39;49m\u001b[43mauth_local_webserver\u001b[49m\u001b[43m,\u001b[49m\n\u001b[1;32m    304\u001b[0m \u001b[43m        \u001b[49m\u001b[43mauth_redirect_uri\u001b[49m\u001b[38;5;241;43m=\u001b[39;49m\u001b[43mauth_redirect_uri\u001b[49m\u001b[43m,\u001b[49m\n\u001b[1;32m    305\u001b[0m \u001b[43m        \u001b[49m\u001b[43mclient_id\u001b[49m\u001b[38;5;241;43m=\u001b[39;49m\u001b[43mclient_id\u001b[49m\u001b[43m,\u001b[49m\n\u001b[1;32m    306\u001b[0m \u001b[43m        \u001b[49m\u001b[43mclient_secret\u001b[49m\u001b[38;5;241;43m=\u001b[39;49m\u001b[43mclient_secret\u001b[49m\u001b[43m,\u001b[49m\n\u001b[1;32m    307\u001b[0m \u001b[43m    \u001b[49m\u001b[43m)\u001b[49m\n\u001b[1;32m    309\u001b[0m \u001b[38;5;28;01mif\u001b[39;00m \u001b[38;5;28mself\u001b[39m\u001b[38;5;241m.\u001b[39mproject_id \u001b[38;5;129;01mis\u001b[39;00m \u001b[38;5;28;01mNone\u001b[39;00m:\n\u001b[1;32m    310\u001b[0m     \u001b[38;5;28mself\u001b[39m\u001b[38;5;241m.\u001b[39mproject_id \u001b[38;5;241m=\u001b[39m default_project\n",
      "File \u001b[0;32m~/Dependencies/miniconda3/lib/python3.9/site-packages/pandas_gbq/auth.py:56\u001b[0m, in \u001b[0;36mget_credentials\u001b[0;34m(private_key, project_id, reauth, auth_local_webserver, auth_redirect_uri, client_id, client_secret)\u001b[0m\n\u001b[1;32m     53\u001b[0m \u001b[38;5;28;01mif\u001b[39;00m client_secret \u001b[38;5;129;01mis\u001b[39;00m \u001b[38;5;28;01mNone\u001b[39;00m:\n\u001b[1;32m     54\u001b[0m     client_secret \u001b[38;5;241m=\u001b[39m CLIENT_SECRET\n\u001b[0;32m---> 56\u001b[0m credentials, default_project_id \u001b[38;5;241m=\u001b[39m \u001b[43mpydata_google_auth\u001b[49m\u001b[38;5;241;43m.\u001b[39;49m\u001b[43mdefault\u001b[49m\u001b[43m(\u001b[49m\n\u001b[1;32m     57\u001b[0m \u001b[43m    \u001b[49m\u001b[43mSCOPES\u001b[49m\u001b[43m,\u001b[49m\n\u001b[1;32m     58\u001b[0m \u001b[43m    \u001b[49m\u001b[43mclient_id\u001b[49m\u001b[38;5;241;43m=\u001b[39;49m\u001b[43mclient_id\u001b[49m\u001b[43m,\u001b[49m\n\u001b[1;32m     59\u001b[0m \u001b[43m    \u001b[49m\u001b[43mclient_secret\u001b[49m\u001b[38;5;241;43m=\u001b[39;49m\u001b[43mclient_secret\u001b[49m\u001b[43m,\u001b[49m\n\u001b[1;32m     60\u001b[0m \u001b[43m    \u001b[49m\u001b[43mcredentials_cache\u001b[49m\u001b[38;5;241;43m=\u001b[39;49m\u001b[43mget_credentials_cache\u001b[49m\u001b[43m(\u001b[49m\u001b[43mreauth\u001b[49m\u001b[43m)\u001b[49m\u001b[43m,\u001b[49m\n\u001b[1;32m     61\u001b[0m \u001b[43m    \u001b[49m\u001b[43mauth_local_webserver\u001b[49m\u001b[38;5;241;43m=\u001b[39;49m\u001b[43mauth_local_webserver\u001b[49m\u001b[43m,\u001b[49m\n\u001b[1;32m     62\u001b[0m \u001b[43m    \u001b[49m\u001b[43mredirect_uri\u001b[49m\u001b[38;5;241;43m=\u001b[39;49m\u001b[43mauth_redirect_uri\u001b[49m\u001b[43m,\u001b[49m\n\u001b[1;32m     63\u001b[0m \u001b[43m\u001b[49m\u001b[43m)\u001b[49m\n\u001b[1;32m     65\u001b[0m project_id \u001b[38;5;241m=\u001b[39m project_id \u001b[38;5;129;01mor\u001b[39;00m default_project_id\n\u001b[1;32m     66\u001b[0m \u001b[38;5;28;01mreturn\u001b[39;00m credentials, project_id\n",
      "File \u001b[0;32m~/Dependencies/miniconda3/lib/python3.9/site-packages/pydata_google_auth/auth.py:152\u001b[0m, in \u001b[0;36mdefault\u001b[0;34m(scopes, client_id, client_secret, credentials_cache, use_local_webserver, auth_local_webserver, redirect_uri)\u001b[0m\n\u001b[1;32m    149\u001b[0m \u001b[38;5;28;01mif\u001b[39;00m credentials \u001b[38;5;129;01mand\u001b[39;00m credentials\u001b[38;5;241m.\u001b[39mvalid:\n\u001b[1;32m    150\u001b[0m     \u001b[38;5;28;01mreturn\u001b[39;00m credentials, default_project\n\u001b[0;32m--> 152\u001b[0m credentials \u001b[38;5;241m=\u001b[39m \u001b[43mget_user_credentials\u001b[49m\u001b[43m(\u001b[49m\n\u001b[1;32m    153\u001b[0m \u001b[43m    \u001b[49m\u001b[43mscopes\u001b[49m\u001b[43m,\u001b[49m\n\u001b[1;32m    154\u001b[0m \u001b[43m    \u001b[49m\u001b[43mclient_id\u001b[49m\u001b[38;5;241;43m=\u001b[39;49m\u001b[43mclient_id\u001b[49m\u001b[43m,\u001b[49m\n\u001b[1;32m    155\u001b[0m \u001b[43m    \u001b[49m\u001b[43mclient_secret\u001b[49m\u001b[38;5;241;43m=\u001b[39;49m\u001b[43mclient_secret\u001b[49m\u001b[43m,\u001b[49m\n\u001b[1;32m    156\u001b[0m \u001b[43m    \u001b[49m\u001b[43mcredentials_cache\u001b[49m\u001b[38;5;241;43m=\u001b[39;49m\u001b[43mcredentials_cache\u001b[49m\u001b[43m,\u001b[49m\n\u001b[1;32m    157\u001b[0m \u001b[43m    \u001b[49m\u001b[43muse_local_webserver\u001b[49m\u001b[38;5;241;43m=\u001b[39;49m\u001b[43muse_local_webserver\u001b[49m\u001b[43m,\u001b[49m\n\u001b[1;32m    158\u001b[0m \u001b[43m    \u001b[49m\u001b[43mredirect_uri\u001b[49m\u001b[38;5;241;43m=\u001b[39;49m\u001b[43mredirect_uri\u001b[49m\u001b[43m,\u001b[49m\n\u001b[1;32m    159\u001b[0m \u001b[43m\u001b[49m\u001b[43m)\u001b[49m\n\u001b[1;32m    161\u001b[0m \u001b[38;5;28;01mif\u001b[39;00m \u001b[38;5;129;01mnot\u001b[39;00m credentials \u001b[38;5;129;01mor\u001b[39;00m \u001b[38;5;129;01mnot\u001b[39;00m credentials\u001b[38;5;241m.\u001b[39mvalid:\n\u001b[1;32m    162\u001b[0m     \u001b[38;5;28;01mraise\u001b[39;00m exceptions\u001b[38;5;241m.\u001b[39mPyDataCredentialsError(\u001b[38;5;124m\"\u001b[39m\u001b[38;5;124mCould not get any valid credentials.\u001b[39m\u001b[38;5;124m\"\u001b[39m)\n",
      "File \u001b[0;32m~/Dependencies/miniconda3/lib/python3.9/site-packages/pydata_google_auth/auth.py:362\u001b[0m, in \u001b[0;36mget_user_credentials\u001b[0;34m(scopes, client_id, client_secret, credentials_cache, use_local_webserver, auth_local_webserver, redirect_uri)\u001b[0m\n\u001b[1;32m    360\u001b[0m \u001b[38;5;28;01mtry\u001b[39;00m:\n\u001b[1;32m    361\u001b[0m     \u001b[38;5;28;01mif\u001b[39;00m use_local_webserver:\n\u001b[0;32m--> 362\u001b[0m         credentials \u001b[38;5;241m=\u001b[39m \u001b[43m_webserver\u001b[49m\u001b[38;5;241;43m.\u001b[39;49m\u001b[43mrun_local_server\u001b[49m\u001b[43m(\u001b[49m\u001b[43mapp_flow\u001b[49m\u001b[43m,\u001b[49m\u001b[43m \u001b[49m\u001b[38;5;241;43m*\u001b[39;49m\u001b[38;5;241;43m*\u001b[39;49m\u001b[43mAUTH_URI_KWARGS\u001b[49m\u001b[43m)\u001b[49m\n\u001b[1;32m    363\u001b[0m     \u001b[38;5;28;01melse\u001b[39;00m:\n\u001b[1;32m    364\u001b[0m         credentials \u001b[38;5;241m=\u001b[39m _run_webapp(\n\u001b[1;32m    365\u001b[0m             app_flow, redirect_uri\u001b[38;5;241m=\u001b[39mredirect_uri, \u001b[38;5;241m*\u001b[39m\u001b[38;5;241m*\u001b[39mAUTH_URI_KWARGS\n\u001b[1;32m    366\u001b[0m         )\n",
      "File \u001b[0;32m~/Dependencies/miniconda3/lib/python3.9/site-packages/pydata_google_auth/_webserver.py:89\u001b[0m, in \u001b[0;36mrun_local_server\u001b[0;34m(app_flow, **kwargs)\u001b[0m\n\u001b[1;32m     87\u001b[0m \u001b[38;5;28;01mif\u001b[39;00m \u001b[38;5;129;01mnot\u001b[39;00m port:\n\u001b[1;32m     88\u001b[0m     \u001b[38;5;28;01mraise\u001b[39;00m exceptions\u001b[38;5;241m.\u001b[39mPyDataConnectionError(\u001b[38;5;124m\"\u001b[39m\u001b[38;5;124mCould not find open port.\u001b[39m\u001b[38;5;124m\"\u001b[39m)\n\u001b[0;32m---> 89\u001b[0m \u001b[38;5;28;01mreturn\u001b[39;00m \u001b[43mapp_flow\u001b[49m\u001b[38;5;241;43m.\u001b[39;49m\u001b[43mrun_local_server\u001b[49m\u001b[43m(\u001b[49m\u001b[43mhost\u001b[49m\u001b[38;5;241;43m=\u001b[39;49m\u001b[43mLOCALHOST\u001b[49m\u001b[43m,\u001b[49m\u001b[43m \u001b[49m\u001b[43mport\u001b[49m\u001b[38;5;241;43m=\u001b[39;49m\u001b[43mport\u001b[49m\u001b[43m,\u001b[49m\u001b[43m \u001b[49m\u001b[38;5;241;43m*\u001b[39;49m\u001b[38;5;241;43m*\u001b[39;49m\u001b[43mkwargs\u001b[49m\u001b[43m)\u001b[49m\n",
      "File \u001b[0;32m~/Dependencies/miniconda3/lib/python3.9/site-packages/google_auth_oauthlib/flow.py:450\u001b[0m, in \u001b[0;36mInstalledAppFlow.run_local_server\u001b[0;34m(self, host, bind_addr, port, authorization_prompt_message, success_message, open_browser, redirect_uri_trailing_slash, timeout_seconds, token_audience, browser, **kwargs)\u001b[0m\n\u001b[1;32m    447\u001b[0m     \u001b[38;5;28mprint\u001b[39m(authorization_prompt_message\u001b[38;5;241m.\u001b[39mformat(url\u001b[38;5;241m=\u001b[39mauth_url))\n\u001b[1;32m    449\u001b[0m local_server\u001b[38;5;241m.\u001b[39mtimeout \u001b[38;5;241m=\u001b[39m timeout_seconds\n\u001b[0;32m--> 450\u001b[0m \u001b[43mlocal_server\u001b[49m\u001b[38;5;241;43m.\u001b[39;49m\u001b[43mhandle_request\u001b[49m\u001b[43m(\u001b[49m\u001b[43m)\u001b[49m\n\u001b[1;32m    452\u001b[0m \u001b[38;5;66;03m# Note: using https here because oauthlib is very picky that\u001b[39;00m\n\u001b[1;32m    453\u001b[0m \u001b[38;5;66;03m# OAuth 2.0 should only occur over https.\u001b[39;00m\n\u001b[1;32m    454\u001b[0m authorization_response \u001b[38;5;241m=\u001b[39m wsgi_app\u001b[38;5;241m.\u001b[39mlast_request_uri\u001b[38;5;241m.\u001b[39mreplace(\u001b[38;5;124m\"\u001b[39m\u001b[38;5;124mhttp\u001b[39m\u001b[38;5;124m\"\u001b[39m, \u001b[38;5;124m\"\u001b[39m\u001b[38;5;124mhttps\u001b[39m\u001b[38;5;124m\"\u001b[39m)\n",
      "File \u001b[0;32m~/Dependencies/miniconda3/lib/python3.9/socketserver.py:294\u001b[0m, in \u001b[0;36mBaseServer.handle_request\u001b[0;34m(self)\u001b[0m\n\u001b[1;32m    291\u001b[0m selector\u001b[38;5;241m.\u001b[39mregister(\u001b[38;5;28mself\u001b[39m, selectors\u001b[38;5;241m.\u001b[39mEVENT_READ)\n\u001b[1;32m    293\u001b[0m \u001b[38;5;28;01mwhile\u001b[39;00m \u001b[38;5;28;01mTrue\u001b[39;00m:\n\u001b[0;32m--> 294\u001b[0m     ready \u001b[38;5;241m=\u001b[39m \u001b[43mselector\u001b[49m\u001b[38;5;241;43m.\u001b[39;49m\u001b[43mselect\u001b[49m\u001b[43m(\u001b[49m\u001b[43mtimeout\u001b[49m\u001b[43m)\u001b[49m\n\u001b[1;32m    295\u001b[0m     \u001b[38;5;28;01mif\u001b[39;00m ready:\n\u001b[1;32m    296\u001b[0m         \u001b[38;5;28;01mreturn\u001b[39;00m \u001b[38;5;28mself\u001b[39m\u001b[38;5;241m.\u001b[39m_handle_request_noblock()\n",
      "File \u001b[0;32m~/Dependencies/miniconda3/lib/python3.9/selectors.py:416\u001b[0m, in \u001b[0;36m_PollLikeSelector.select\u001b[0;34m(self, timeout)\u001b[0m\n\u001b[1;32m    414\u001b[0m ready \u001b[38;5;241m=\u001b[39m []\n\u001b[1;32m    415\u001b[0m \u001b[38;5;28;01mtry\u001b[39;00m:\n\u001b[0;32m--> 416\u001b[0m     fd_event_list \u001b[38;5;241m=\u001b[39m \u001b[38;5;28;43mself\u001b[39;49m\u001b[38;5;241;43m.\u001b[39;49m\u001b[43m_selector\u001b[49m\u001b[38;5;241;43m.\u001b[39;49m\u001b[43mpoll\u001b[49m\u001b[43m(\u001b[49m\u001b[43mtimeout\u001b[49m\u001b[43m)\u001b[49m\n\u001b[1;32m    417\u001b[0m \u001b[38;5;28;01mexcept\u001b[39;00m \u001b[38;5;167;01mInterruptedError\u001b[39;00m:\n\u001b[1;32m    418\u001b[0m     \u001b[38;5;28;01mreturn\u001b[39;00m ready\n",
      "\u001b[0;31mKeyboardInterrupt\u001b[0m: "
     ]
    }
   ],
   "source": [
    "sql = \"\"\"\n",
    "    SELECT name, SUM(number) as count\n",
    "    FROM `bigquery-public-data.usa_names.usa_1910_current`\n",
    "    GROUP BY name\n",
    "    ORDER BY count DESC\n",
    "    LIMIT 10\n",
    "\"\"\"\n",
    "\n",
    "pandas_gbq.read_gbq(sql,\n",
    "                    project_id='MY_PROJECT_ID')"
   ]
  },
  {
   "cell_type": "markdown",
   "metadata": {},
   "source": [
    "![purple-divider](https://user-images.githubusercontent.com/7065401/52071927-c1cd7100-2562-11e9-908a-dde91ba14e59.png)"
   ]
  }
 ],
 "metadata": {
  "kernelspec": {
   "display_name": "Python 3",
   "language": "python",
   "name": "python3"
  },
  "language_info": {
   "codemirror_mode": {
    "name": "ipython",
    "version": 3
   },
   "file_extension": ".py",
   "mimetype": "text/x-python",
   "name": "python",
   "nbconvert_exporter": "python",
   "pygments_lexer": "ipython3",
   "version": "3.9.0"
  }
 },
 "nbformat": 4,
 "nbformat_minor": 2
}
