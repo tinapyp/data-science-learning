{
 "cells": [
  {
   "cell_type": "markdown",
   "metadata": {},
   "source": [
    "![rmotr](https://user-images.githubusercontent.com/7065401/52071918-bda15380-2562-11e9-828c-7f95297e4a82.png)\n",
    "<hr style=\"margin-bottom: 40px;\">\n",
    "\n",
    "<img src=\"https://user-images.githubusercontent.com/7065401/68501079-0695df00-023c-11ea-841f-455dac84a089.jpg\"\n",
    "    style=\"width:400px; float: right; margin: 0 40px 40px 40px;\"></img>\n",
    "\n",
    "# Reading Excel files\n",
    "\n",
    "In this lecture we'll learn how to read Excel files (.xlsx) and its sheets into a pandas `DataFrame`s, and how to export that `DataFrame`s to different sheets and Excel files using the pandas `ExcelWriter` and `to_excel` methods."
   ]
  },
  {
   "cell_type": "markdown",
   "metadata": {},
   "source": [
    "![purple-divider](https://user-images.githubusercontent.com/7065401/52071927-c1cd7100-2562-11e9-908a-dde91ba14e59.png)\n",
    "\n",
    "## Hands on! "
   ]
  },
  {
   "cell_type": "code",
   "execution_count": 5,
   "metadata": {},
   "outputs": [],
   "source": [
    "import pandas as pd"
   ]
  },
  {
   "cell_type": "markdown",
   "metadata": {},
   "source": [
    "![green-divider](https://user-images.githubusercontent.com/7065401/52071924-c003ad80-2562-11e9-8297-1c6595f8a7ff.png)\n",
    "\n",
    "## The `read_excel` method\n",
    "\n",
    "We'll begin with the **read_excel** method, that let us read Excel files into a `DataFrame`.\n",
    "\n",
    "This method supports both XLS and XLSX file extensions from a local filesystem or URL and has a broad set of parameters to configure how the data will be read and parsed. These parameters are very similar to the parameters we saw on previous lectures where we introduced the `read_csv` method. The most common parameters are as follows:\n",
    "\n",
    "- `filepath`: Path of the file to be read.\n",
    "- `sheet_name`: Strings are used for sheet names. Integers are used in zero-indexed sheet positions. Lists of strings/integers are used to request multiple sheets. Specify None to get all sheets.\n",
    "- `header`: Index of the row containing the names of the columns (None if none).\n",
    "- `index_col`: Index of the column or sequence of indexes that should be used as index of rows of the data.\n",
    "- `names`: Sequence containing the names of the columns (used together with header = None).\n",
    "- `skiprows`: Number of rows or sequence of row indexes to ignore in the load.\n",
    "- `na_values`: Sequence of values that, if found in the file, should be treated as NaN.\n",
    "- `dtype`: Dictionary in which the keys will be column names and the values will be types of NumPy to which their content must be converted.\n",
    "- `parse_dates`: Flag that indicates if Python should try to parse data with a format similar to dates as dates. You can enter a list of column names that must be joined for the parsing as a date.\n",
    "- `date_parser`: Function to use to try to parse dates.\n",
    "- `nrows`: Number of rows to read from the beginning of the file.\n",
    "- `skip_footer`: Number of rows to ignore at the end of the file.\n",
    "- `squeeze`: Flag that indicates that if the data read only contains one column the result is a Series instead of a DataFrame.\n",
    "- `thousands`: Character to use to detect the thousands separator.\n",
    "\n",
    "> Full `read_excel` documentation can be found here: https://pandas.pydata.org/pandas-docs/stable/reference/api/pandas.read_excel.html."
   ]
  },
  {
   "cell_type": "markdown",
   "metadata": {},
   "source": [
    "In this case we'll try to read our `products.xlsx` Excel file.\n",
    "\n",
    "This file contains records of products with its price, brand, description and merchant information on different sheets."
   ]
  },
  {
   "cell_type": "markdown",
   "metadata": {},
   "source": [
    "![green-divider](https://user-images.githubusercontent.com/7065401/52071924-c003ad80-2562-11e9-8297-1c6595f8a7ff.png)\n",
    "\n",
    "## Reading our first Excel file\n",
    "\n",
    "Everytime we call `read_excel` method, we'll need to pass an explicit `filepath` parameter indicating the path where our Excel file is.\n",
    "\n",
    "Any valid string path is acceptable. The string could be a URL. Valid URL schemes include HTTP, FTP, S3, and file. For file URLs, a host is expected. A local file could be: `file://localhost/path/to/table.xlsx`."
   ]
  },
  {
   "cell_type": "code",
   "execution_count": 6,
   "metadata": {
    "scrolled": false
   },
   "outputs": [],
   "source": [
    "df = pd.read_excel('products.xlsx')"
   ]
  },
  {
   "cell_type": "code",
   "execution_count": 7,
   "metadata": {},
   "outputs": [
    {
     "data": {
      "text/html": [
       "<div>\n",
       "<style scoped>\n",
       "    .dataframe tbody tr th:only-of-type {\n",
       "        vertical-align: middle;\n",
       "    }\n",
       "\n",
       "    .dataframe tbody tr th {\n",
       "        vertical-align: top;\n",
       "    }\n",
       "\n",
       "    .dataframe thead th {\n",
       "        text-align: right;\n",
       "    }\n",
       "</style>\n",
       "<table border=\"1\" class=\"dataframe\">\n",
       "  <thead>\n",
       "    <tr style=\"text-align: right;\">\n",
       "      <th></th>\n",
       "      <th>product_id</th>\n",
       "      <th>price</th>\n",
       "      <th>merchant_id</th>\n",
       "      <th>brand</th>\n",
       "      <th>name</th>\n",
       "    </tr>\n",
       "  </thead>\n",
       "  <tbody>\n",
       "    <tr>\n",
       "      <th>0</th>\n",
       "      <td>AVphzgbJLJeJML43fA0o</td>\n",
       "      <td>104.99</td>\n",
       "      <td>1001</td>\n",
       "      <td>Sanus</td>\n",
       "      <td>Sanus VLF410B1 10-Inch Super Slim Full-Motion ...</td>\n",
       "    </tr>\n",
       "    <tr>\n",
       "      <th>1</th>\n",
       "      <td>AVpgMuGwLJeJML43KY_c</td>\n",
       "      <td>69.00</td>\n",
       "      <td>1002</td>\n",
       "      <td>Boytone</td>\n",
       "      <td>Boytone - 2500W 2.1-Ch. Home Theater System - ...</td>\n",
       "    </tr>\n",
       "    <tr>\n",
       "      <th>2</th>\n",
       "      <td>AVpe9FXeLJeJML43zHrq</td>\n",
       "      <td>23.99</td>\n",
       "      <td>1001</td>\n",
       "      <td>DENAQ</td>\n",
       "      <td>DENAQ - AC Adapter for TOSHIBA SATELLITE</td>\n",
       "    </tr>\n",
       "    <tr>\n",
       "      <th>3</th>\n",
       "      <td>AVpfVJXu1cnluZ0-iwTT</td>\n",
       "      <td>290.99</td>\n",
       "      <td>1001</td>\n",
       "      <td>DreamWave</td>\n",
       "      <td>DreamWave - Tremor Portable Bluetooth Speaker ...</td>\n",
       "    </tr>\n",
       "    <tr>\n",
       "      <th>4</th>\n",
       "      <td>AVphUeKeilAPnD_x3-Be</td>\n",
       "      <td>244.01</td>\n",
       "      <td>1004</td>\n",
       "      <td>Yamaha</td>\n",
       "      <td>NS-SP1800BL 5.1-Channel Home Theater System (B...</td>\n",
       "    </tr>\n",
       "  </tbody>\n",
       "</table>\n",
       "</div>"
      ],
      "text/plain": [
       "             product_id   price  merchant_id      brand  \\\n",
       "0  AVphzgbJLJeJML43fA0o  104.99         1001      Sanus   \n",
       "1  AVpgMuGwLJeJML43KY_c   69.00         1002    Boytone   \n",
       "2  AVpe9FXeLJeJML43zHrq   23.99         1001      DENAQ   \n",
       "3  AVpfVJXu1cnluZ0-iwTT  290.99         1001  DreamWave   \n",
       "4  AVphUeKeilAPnD_x3-Be  244.01         1004     Yamaha   \n",
       "\n",
       "                                                name  \n",
       "0  Sanus VLF410B1 10-Inch Super Slim Full-Motion ...  \n",
       "1  Boytone - 2500W 2.1-Ch. Home Theater System - ...  \n",
       "2           DENAQ - AC Adapter for TOSHIBA SATELLITE  \n",
       "3  DreamWave - Tremor Portable Bluetooth Speaker ...  \n",
       "4  NS-SP1800BL 5.1-Channel Home Theater System (B...  "
      ]
     },
     "execution_count": 7,
     "metadata": {},
     "output_type": "execute_result"
    }
   ],
   "source": [
    "df.head()"
   ]
  },
  {
   "cell_type": "markdown",
   "metadata": {},
   "source": [
    "In this case we let pandas infer everything related to our data, but in most of the cases we'll need to explicitly tell pandas how we want our data to be loaded. To do that we use parameters.\n",
    "\n",
    "Let's see how theses parameters work."
   ]
  },
  {
   "cell_type": "markdown",
   "metadata": {},
   "source": [
    "![green-divider](https://user-images.githubusercontent.com/7065401/52071924-c003ad80-2562-11e9-8297-1c6595f8a7ff.png)\n",
    "\n",
    "## First row behaviour with `header` parameter\n",
    "\n",
    "The Excel file we're reading has the following columns:\n",
    "\n",
    "- `product_id`\n",
    "- `price`\n",
    "- `merchant_id`\n",
    "- `brand`\n",
    "- `name`\n",
    "\n",
    "The first row (0-index) of the data has that column names, so we keep the implicit `header=0` parameter to let Pandas assign this first row as headers. We can overwrite this behavior defining explicitly the `header` parameter."
   ]
  },
  {
   "cell_type": "code",
   "execution_count": 8,
   "metadata": {},
   "outputs": [
    {
     "data": {
      "text/html": [
       "<div>\n",
       "<style scoped>\n",
       "    .dataframe tbody tr th:only-of-type {\n",
       "        vertical-align: middle;\n",
       "    }\n",
       "\n",
       "    .dataframe tbody tr th {\n",
       "        vertical-align: top;\n",
       "    }\n",
       "\n",
       "    .dataframe thead th {\n",
       "        text-align: right;\n",
       "    }\n",
       "</style>\n",
       "<table border=\"1\" class=\"dataframe\">\n",
       "  <thead>\n",
       "    <tr style=\"text-align: right;\">\n",
       "      <th></th>\n",
       "      <th>product_id</th>\n",
       "      <th>price</th>\n",
       "      <th>merchant_id</th>\n",
       "      <th>brand</th>\n",
       "      <th>name</th>\n",
       "    </tr>\n",
       "  </thead>\n",
       "  <tbody>\n",
       "    <tr>\n",
       "      <th>0</th>\n",
       "      <td>AVphzgbJLJeJML43fA0o</td>\n",
       "      <td>104.99</td>\n",
       "      <td>1001</td>\n",
       "      <td>Sanus</td>\n",
       "      <td>Sanus VLF410B1 10-Inch Super Slim Full-Motion ...</td>\n",
       "    </tr>\n",
       "    <tr>\n",
       "      <th>1</th>\n",
       "      <td>AVpgMuGwLJeJML43KY_c</td>\n",
       "      <td>69.00</td>\n",
       "      <td>1002</td>\n",
       "      <td>Boytone</td>\n",
       "      <td>Boytone - 2500W 2.1-Ch. Home Theater System - ...</td>\n",
       "    </tr>\n",
       "    <tr>\n",
       "      <th>2</th>\n",
       "      <td>AVpe9FXeLJeJML43zHrq</td>\n",
       "      <td>23.99</td>\n",
       "      <td>1001</td>\n",
       "      <td>DENAQ</td>\n",
       "      <td>DENAQ - AC Adapter for TOSHIBA SATELLITE</td>\n",
       "    </tr>\n",
       "    <tr>\n",
       "      <th>3</th>\n",
       "      <td>AVpfVJXu1cnluZ0-iwTT</td>\n",
       "      <td>290.99</td>\n",
       "      <td>1001</td>\n",
       "      <td>DreamWave</td>\n",
       "      <td>DreamWave - Tremor Portable Bluetooth Speaker ...</td>\n",
       "    </tr>\n",
       "    <tr>\n",
       "      <th>4</th>\n",
       "      <td>AVphUeKeilAPnD_x3-Be</td>\n",
       "      <td>244.01</td>\n",
       "      <td>1004</td>\n",
       "      <td>Yamaha</td>\n",
       "      <td>NS-SP1800BL 5.1-Channel Home Theater System (B...</td>\n",
       "    </tr>\n",
       "  </tbody>\n",
       "</table>\n",
       "</div>"
      ],
      "text/plain": [
       "             product_id   price  merchant_id      brand  \\\n",
       "0  AVphzgbJLJeJML43fA0o  104.99         1001      Sanus   \n",
       "1  AVpgMuGwLJeJML43KY_c   69.00         1002    Boytone   \n",
       "2  AVpe9FXeLJeJML43zHrq   23.99         1001      DENAQ   \n",
       "3  AVpfVJXu1cnluZ0-iwTT  290.99         1001  DreamWave   \n",
       "4  AVphUeKeilAPnD_x3-Be  244.01         1004     Yamaha   \n",
       "\n",
       "                                                name  \n",
       "0  Sanus VLF410B1 10-Inch Super Slim Full-Motion ...  \n",
       "1  Boytone - 2500W 2.1-Ch. Home Theater System - ...  \n",
       "2           DENAQ - AC Adapter for TOSHIBA SATELLITE  \n",
       "3  DreamWave - Tremor Portable Bluetooth Speaker ...  \n",
       "4  NS-SP1800BL 5.1-Channel Home Theater System (B...  "
      ]
     },
     "execution_count": 8,
     "metadata": {},
     "output_type": "execute_result"
    }
   ],
   "source": [
    "pd.read_excel('products.xlsx').head()"
   ]
  },
  {
   "cell_type": "code",
   "execution_count": 9,
   "metadata": {},
   "outputs": [
    {
     "data": {
      "text/html": [
       "<div>\n",
       "<style scoped>\n",
       "    .dataframe tbody tr th:only-of-type {\n",
       "        vertical-align: middle;\n",
       "    }\n",
       "\n",
       "    .dataframe tbody tr th {\n",
       "        vertical-align: top;\n",
       "    }\n",
       "\n",
       "    .dataframe thead th {\n",
       "        text-align: right;\n",
       "    }\n",
       "</style>\n",
       "<table border=\"1\" class=\"dataframe\">\n",
       "  <thead>\n",
       "    <tr style=\"text-align: right;\">\n",
       "      <th></th>\n",
       "      <th>0</th>\n",
       "      <th>1</th>\n",
       "      <th>2</th>\n",
       "      <th>3</th>\n",
       "      <th>4</th>\n",
       "    </tr>\n",
       "  </thead>\n",
       "  <tbody>\n",
       "    <tr>\n",
       "      <th>0</th>\n",
       "      <td>product_id</td>\n",
       "      <td>price</td>\n",
       "      <td>merchant_id</td>\n",
       "      <td>brand</td>\n",
       "      <td>name</td>\n",
       "    </tr>\n",
       "    <tr>\n",
       "      <th>1</th>\n",
       "      <td>AVphzgbJLJeJML43fA0o</td>\n",
       "      <td>104.99</td>\n",
       "      <td>1001</td>\n",
       "      <td>Sanus</td>\n",
       "      <td>Sanus VLF410B1 10-Inch Super Slim Full-Motion ...</td>\n",
       "    </tr>\n",
       "    <tr>\n",
       "      <th>2</th>\n",
       "      <td>AVpgMuGwLJeJML43KY_c</td>\n",
       "      <td>69</td>\n",
       "      <td>1002</td>\n",
       "      <td>Boytone</td>\n",
       "      <td>Boytone - 2500W 2.1-Ch. Home Theater System - ...</td>\n",
       "    </tr>\n",
       "    <tr>\n",
       "      <th>3</th>\n",
       "      <td>AVpe9FXeLJeJML43zHrq</td>\n",
       "      <td>23.99</td>\n",
       "      <td>1001</td>\n",
       "      <td>DENAQ</td>\n",
       "      <td>DENAQ - AC Adapter for TOSHIBA SATELLITE</td>\n",
       "    </tr>\n",
       "    <tr>\n",
       "      <th>4</th>\n",
       "      <td>AVpfVJXu1cnluZ0-iwTT</td>\n",
       "      <td>290.99</td>\n",
       "      <td>1001</td>\n",
       "      <td>DreamWave</td>\n",
       "      <td>DreamWave - Tremor Portable Bluetooth Speaker ...</td>\n",
       "    </tr>\n",
       "  </tbody>\n",
       "</table>\n",
       "</div>"
      ],
      "text/plain": [
       "                      0       1            2          3  \\\n",
       "0            product_id   price  merchant_id      brand   \n",
       "1  AVphzgbJLJeJML43fA0o  104.99         1001      Sanus   \n",
       "2  AVpgMuGwLJeJML43KY_c      69         1002    Boytone   \n",
       "3  AVpe9FXeLJeJML43zHrq   23.99         1001      DENAQ   \n",
       "4  AVpfVJXu1cnluZ0-iwTT  290.99         1001  DreamWave   \n",
       "\n",
       "                                                   4  \n",
       "0                                               name  \n",
       "1  Sanus VLF410B1 10-Inch Super Slim Full-Motion ...  \n",
       "2  Boytone - 2500W 2.1-Ch. Home Theater System - ...  \n",
       "3           DENAQ - AC Adapter for TOSHIBA SATELLITE  \n",
       "4  DreamWave - Tremor Portable Bluetooth Speaker ...  "
      ]
     },
     "execution_count": 9,
     "metadata": {},
     "output_type": "execute_result"
    }
   ],
   "source": [
    "pd.read_excel('products.xlsx',\n",
    "              header=None).head()"
   ]
  },
  {
   "cell_type": "markdown",
   "metadata": {},
   "source": [
    "![green-divider](https://user-images.githubusercontent.com/7065401/52071924-c003ad80-2562-11e9-8297-1c6595f8a7ff.png)\n",
    "\n",
    "## Adding index to our data using `index_col` parameter\n",
    "\n",
    "By default, pandas will automatically assign a numeric autoincremental index or row label starting with zero.\n",
    "\n",
    "You may want to leave the default index as such if your data doesn’t have a column with unique values that can serve as a better index.\n",
    "\n",
    "In case there is a column that you feel would serve as a better index, you can override the default behavior by setting `index_col` property to a column. It takes a numeric value or a string for setting a single column as index or a list of numeric values for creating a multi-index.\n",
    "\n",
    "In our data, we are choosing the first column, `product_id`, as index (index=0) by passing zero to the `index_col` argument."
   ]
  },
  {
   "cell_type": "code",
   "execution_count": 10,
   "metadata": {},
   "outputs": [],
   "source": [
    "df = pd.read_excel('products.xlsx',\n",
    "                   index_col=[0])"
   ]
  },
  {
   "cell_type": "code",
   "execution_count": 11,
   "metadata": {},
   "outputs": [
    {
     "data": {
      "text/html": [
       "<div>\n",
       "<style scoped>\n",
       "    .dataframe tbody tr th:only-of-type {\n",
       "        vertical-align: middle;\n",
       "    }\n",
       "\n",
       "    .dataframe tbody tr th {\n",
       "        vertical-align: top;\n",
       "    }\n",
       "\n",
       "    .dataframe thead th {\n",
       "        text-align: right;\n",
       "    }\n",
       "</style>\n",
       "<table border=\"1\" class=\"dataframe\">\n",
       "  <thead>\n",
       "    <tr style=\"text-align: right;\">\n",
       "      <th></th>\n",
       "      <th>price</th>\n",
       "      <th>merchant_id</th>\n",
       "      <th>brand</th>\n",
       "      <th>name</th>\n",
       "    </tr>\n",
       "    <tr>\n",
       "      <th>product_id</th>\n",
       "      <th></th>\n",
       "      <th></th>\n",
       "      <th></th>\n",
       "      <th></th>\n",
       "    </tr>\n",
       "  </thead>\n",
       "  <tbody>\n",
       "    <tr>\n",
       "      <th>AVphzgbJLJeJML43fA0o</th>\n",
       "      <td>104.99</td>\n",
       "      <td>1001</td>\n",
       "      <td>Sanus</td>\n",
       "      <td>Sanus VLF410B1 10-Inch Super Slim Full-Motion ...</td>\n",
       "    </tr>\n",
       "    <tr>\n",
       "      <th>AVpgMuGwLJeJML43KY_c</th>\n",
       "      <td>69.00</td>\n",
       "      <td>1002</td>\n",
       "      <td>Boytone</td>\n",
       "      <td>Boytone - 2500W 2.1-Ch. Home Theater System - ...</td>\n",
       "    </tr>\n",
       "    <tr>\n",
       "      <th>AVpe9FXeLJeJML43zHrq</th>\n",
       "      <td>23.99</td>\n",
       "      <td>1001</td>\n",
       "      <td>DENAQ</td>\n",
       "      <td>DENAQ - AC Adapter for TOSHIBA SATELLITE</td>\n",
       "    </tr>\n",
       "    <tr>\n",
       "      <th>AVpfVJXu1cnluZ0-iwTT</th>\n",
       "      <td>290.99</td>\n",
       "      <td>1001</td>\n",
       "      <td>DreamWave</td>\n",
       "      <td>DreamWave - Tremor Portable Bluetooth Speaker ...</td>\n",
       "    </tr>\n",
       "    <tr>\n",
       "      <th>AVphUeKeilAPnD_x3-Be</th>\n",
       "      <td>244.01</td>\n",
       "      <td>1004</td>\n",
       "      <td>Yamaha</td>\n",
       "      <td>NS-SP1800BL 5.1-Channel Home Theater System (B...</td>\n",
       "    </tr>\n",
       "  </tbody>\n",
       "</table>\n",
       "</div>"
      ],
      "text/plain": [
       "                       price  merchant_id      brand  \\\n",
       "product_id                                             \n",
       "AVphzgbJLJeJML43fA0o  104.99         1001      Sanus   \n",
       "AVpgMuGwLJeJML43KY_c   69.00         1002    Boytone   \n",
       "AVpe9FXeLJeJML43zHrq   23.99         1001      DENAQ   \n",
       "AVpfVJXu1cnluZ0-iwTT  290.99         1001  DreamWave   \n",
       "AVphUeKeilAPnD_x3-Be  244.01         1004     Yamaha   \n",
       "\n",
       "                                                                   name  \n",
       "product_id                                                               \n",
       "AVphzgbJLJeJML43fA0o  Sanus VLF410B1 10-Inch Super Slim Full-Motion ...  \n",
       "AVpgMuGwLJeJML43KY_c  Boytone - 2500W 2.1-Ch. Home Theater System - ...  \n",
       "AVpe9FXeLJeJML43zHrq           DENAQ - AC Adapter for TOSHIBA SATELLITE  \n",
       "AVpfVJXu1cnluZ0-iwTT  DreamWave - Tremor Portable Bluetooth Speaker ...  \n",
       "AVphUeKeilAPnD_x3-Be  NS-SP1800BL 5.1-Channel Home Theater System (B...  "
      ]
     },
     "execution_count": 11,
     "metadata": {},
     "output_type": "execute_result"
    }
   ],
   "source": [
    "df.head()"
   ]
  },
  {
   "cell_type": "markdown",
   "metadata": {},
   "source": [
    "![green-divider](https://user-images.githubusercontent.com/7065401/52071924-c003ad80-2562-11e9-8297-1c6595f8a7ff.png)\n",
    "\n",
    "## Selecting specific sheets\n",
    "\n",
    "Excel files quite often have multiple sheets and the ability to read a specific sheet or all of them is very important. To make this easy, the pandas `read_excel` method takes an argument called `sheet_name` that tells pandas which sheet to read in the data from.\n",
    "\n",
    "For this, you can either use the sheet name or the sheet number. Sheet numbers start with zero. The first sheet will be the one loaded by default. You can change sheet by specifying `sheet_name` parameter."
   ]
  },
  {
   "cell_type": "code",
   "execution_count": 12,
   "metadata": {},
   "outputs": [],
   "source": [
    "products = pd.read_excel('products.xlsx',\n",
    "                         sheet_name='Products',\n",
    "                         index_col='product_id')"
   ]
  },
  {
   "cell_type": "code",
   "execution_count": 13,
   "metadata": {},
   "outputs": [
    {
     "data": {
      "text/html": [
       "<div>\n",
       "<style scoped>\n",
       "    .dataframe tbody tr th:only-of-type {\n",
       "        vertical-align: middle;\n",
       "    }\n",
       "\n",
       "    .dataframe tbody tr th {\n",
       "        vertical-align: top;\n",
       "    }\n",
       "\n",
       "    .dataframe thead th {\n",
       "        text-align: right;\n",
       "    }\n",
       "</style>\n",
       "<table border=\"1\" class=\"dataframe\">\n",
       "  <thead>\n",
       "    <tr style=\"text-align: right;\">\n",
       "      <th></th>\n",
       "      <th>price</th>\n",
       "      <th>merchant_id</th>\n",
       "      <th>brand</th>\n",
       "      <th>name</th>\n",
       "    </tr>\n",
       "    <tr>\n",
       "      <th>product_id</th>\n",
       "      <th></th>\n",
       "      <th></th>\n",
       "      <th></th>\n",
       "      <th></th>\n",
       "    </tr>\n",
       "  </thead>\n",
       "  <tbody>\n",
       "    <tr>\n",
       "      <th>AVphzgbJLJeJML43fA0o</th>\n",
       "      <td>104.99</td>\n",
       "      <td>1001</td>\n",
       "      <td>Sanus</td>\n",
       "      <td>Sanus VLF410B1 10-Inch Super Slim Full-Motion ...</td>\n",
       "    </tr>\n",
       "    <tr>\n",
       "      <th>AVpgMuGwLJeJML43KY_c</th>\n",
       "      <td>69.00</td>\n",
       "      <td>1002</td>\n",
       "      <td>Boytone</td>\n",
       "      <td>Boytone - 2500W 2.1-Ch. Home Theater System - ...</td>\n",
       "    </tr>\n",
       "    <tr>\n",
       "      <th>AVpe9FXeLJeJML43zHrq</th>\n",
       "      <td>23.99</td>\n",
       "      <td>1001</td>\n",
       "      <td>DENAQ</td>\n",
       "      <td>DENAQ - AC Adapter for TOSHIBA SATELLITE</td>\n",
       "    </tr>\n",
       "    <tr>\n",
       "      <th>AVpfVJXu1cnluZ0-iwTT</th>\n",
       "      <td>290.99</td>\n",
       "      <td>1001</td>\n",
       "      <td>DreamWave</td>\n",
       "      <td>DreamWave - Tremor Portable Bluetooth Speaker ...</td>\n",
       "    </tr>\n",
       "    <tr>\n",
       "      <th>AVphUeKeilAPnD_x3-Be</th>\n",
       "      <td>244.01</td>\n",
       "      <td>1004</td>\n",
       "      <td>Yamaha</td>\n",
       "      <td>NS-SP1800BL 5.1-Channel Home Theater System (B...</td>\n",
       "    </tr>\n",
       "  </tbody>\n",
       "</table>\n",
       "</div>"
      ],
      "text/plain": [
       "                       price  merchant_id      brand  \\\n",
       "product_id                                             \n",
       "AVphzgbJLJeJML43fA0o  104.99         1001      Sanus   \n",
       "AVpgMuGwLJeJML43KY_c   69.00         1002    Boytone   \n",
       "AVpe9FXeLJeJML43zHrq   23.99         1001      DENAQ   \n",
       "AVpfVJXu1cnluZ0-iwTT  290.99         1001  DreamWave   \n",
       "AVphUeKeilAPnD_x3-Be  244.01         1004     Yamaha   \n",
       "\n",
       "                                                                   name  \n",
       "product_id                                                               \n",
       "AVphzgbJLJeJML43fA0o  Sanus VLF410B1 10-Inch Super Slim Full-Motion ...  \n",
       "AVpgMuGwLJeJML43KY_c  Boytone - 2500W 2.1-Ch. Home Theater System - ...  \n",
       "AVpe9FXeLJeJML43zHrq           DENAQ - AC Adapter for TOSHIBA SATELLITE  \n",
       "AVpfVJXu1cnluZ0-iwTT  DreamWave - Tremor Portable Bluetooth Speaker ...  \n",
       "AVphUeKeilAPnD_x3-Be  NS-SP1800BL 5.1-Channel Home Theater System (B...  "
      ]
     },
     "execution_count": 13,
     "metadata": {},
     "output_type": "execute_result"
    }
   ],
   "source": [
    "products.head()"
   ]
  },
  {
   "cell_type": "code",
   "execution_count": 14,
   "metadata": {
    "scrolled": false
   },
   "outputs": [],
   "source": [
    "merchants = pd.read_excel('products.xlsx',\n",
    "                          sheet_name='Merchants',\n",
    "                          index_col='merchant_id')"
   ]
  },
  {
   "cell_type": "code",
   "execution_count": 15,
   "metadata": {},
   "outputs": [
    {
     "data": {
      "text/html": [
       "<div>\n",
       "<style scoped>\n",
       "    .dataframe tbody tr th:only-of-type {\n",
       "        vertical-align: middle;\n",
       "    }\n",
       "\n",
       "    .dataframe tbody tr th {\n",
       "        vertical-align: top;\n",
       "    }\n",
       "\n",
       "    .dataframe thead th {\n",
       "        text-align: right;\n",
       "    }\n",
       "</style>\n",
       "<table border=\"1\" class=\"dataframe\">\n",
       "  <thead>\n",
       "    <tr style=\"text-align: right;\">\n",
       "      <th></th>\n",
       "      <th>merchant</th>\n",
       "    </tr>\n",
       "    <tr>\n",
       "      <th>merchant_id</th>\n",
       "      <th></th>\n",
       "    </tr>\n",
       "  </thead>\n",
       "  <tbody>\n",
       "    <tr>\n",
       "      <th>1001</th>\n",
       "      <td>Bestbuy.com</td>\n",
       "    </tr>\n",
       "    <tr>\n",
       "      <th>1002</th>\n",
       "      <td>Walmart.com</td>\n",
       "    </tr>\n",
       "    <tr>\n",
       "      <th>1003</th>\n",
       "      <td>Bestbuy.com</td>\n",
       "    </tr>\n",
       "    <tr>\n",
       "      <th>1004</th>\n",
       "      <td>Growkart</td>\n",
       "    </tr>\n",
       "    <tr>\n",
       "      <th>1005</th>\n",
       "      <td>bhphotovideo.com</td>\n",
       "    </tr>\n",
       "  </tbody>\n",
       "</table>\n",
       "</div>"
      ],
      "text/plain": [
       "                     merchant\n",
       "merchant_id                  \n",
       "1001              Bestbuy.com\n",
       "1002              Walmart.com\n",
       "1003              Bestbuy.com\n",
       "1004                 Growkart\n",
       "1005         bhphotovideo.com"
      ]
     },
     "execution_count": 15,
     "metadata": {},
     "output_type": "execute_result"
    }
   ],
   "source": [
    "merchants.head()"
   ]
  },
  {
   "cell_type": "markdown",
   "metadata": {},
   "source": [
    "![green-divider](https://user-images.githubusercontent.com/7065401/52071924-c003ad80-2562-11e9-8297-1c6595f8a7ff.png)\n",
    "\n",
    "## The `ExcelFile` class\n",
    "\n",
    "Another approach on reading Excel data is using the `ExcelFile` class for parsing tabular Excel sheets into `DataFrame` objects.\n",
    "\n",
    "This `ExcelFile` will let us work with sheets easily, and will be faster than the previous `read_excel` method."
   ]
  },
  {
   "cell_type": "code",
   "execution_count": 16,
   "metadata": {},
   "outputs": [],
   "source": [
    "excel_file = pd.ExcelFile('products.xlsx')"
   ]
  },
  {
   "cell_type": "markdown",
   "metadata": {},
   "source": [
    "We can now explore the sheets on that Excel file with `sheet_names`:"
   ]
  },
  {
   "cell_type": "code",
   "execution_count": 17,
   "metadata": {},
   "outputs": [
    {
     "data": {
      "text/plain": [
       "['Products', 'Descriptions', 'Merchants']"
      ]
     },
     "execution_count": 17,
     "metadata": {},
     "output_type": "execute_result"
    }
   ],
   "source": [
    "excel_file.sheet_names"
   ]
  },
  {
   "cell_type": "markdown",
   "metadata": {},
   "source": [
    "And parse specified sheet(s) into a Pandas' `DataFrame` using ExcelFile's `parse()` method.\n",
    "\n",
    "Everytime we call `parse()` method, we'll need to pass an explicit `sheet_name` parameter indicating which sheet from the Excel file we want to be parsed. First sheet will be parsed by default."
   ]
  },
  {
   "cell_type": "code",
   "execution_count": 18,
   "metadata": {},
   "outputs": [],
   "source": [
    "products = excel_file.parse('Products')"
   ]
  },
  {
   "cell_type": "code",
   "execution_count": 19,
   "metadata": {},
   "outputs": [
    {
     "data": {
      "text/html": [
       "<div>\n",
       "<style scoped>\n",
       "    .dataframe tbody tr th:only-of-type {\n",
       "        vertical-align: middle;\n",
       "    }\n",
       "\n",
       "    .dataframe tbody tr th {\n",
       "        vertical-align: top;\n",
       "    }\n",
       "\n",
       "    .dataframe thead th {\n",
       "        text-align: right;\n",
       "    }\n",
       "</style>\n",
       "<table border=\"1\" class=\"dataframe\">\n",
       "  <thead>\n",
       "    <tr style=\"text-align: right;\">\n",
       "      <th></th>\n",
       "      <th>product_id</th>\n",
       "      <th>price</th>\n",
       "      <th>merchant_id</th>\n",
       "      <th>brand</th>\n",
       "      <th>name</th>\n",
       "    </tr>\n",
       "  </thead>\n",
       "  <tbody>\n",
       "    <tr>\n",
       "      <th>0</th>\n",
       "      <td>AVphzgbJLJeJML43fA0o</td>\n",
       "      <td>104.99</td>\n",
       "      <td>1001</td>\n",
       "      <td>Sanus</td>\n",
       "      <td>Sanus VLF410B1 10-Inch Super Slim Full-Motion ...</td>\n",
       "    </tr>\n",
       "    <tr>\n",
       "      <th>1</th>\n",
       "      <td>AVpgMuGwLJeJML43KY_c</td>\n",
       "      <td>69.00</td>\n",
       "      <td>1002</td>\n",
       "      <td>Boytone</td>\n",
       "      <td>Boytone - 2500W 2.1-Ch. Home Theater System - ...</td>\n",
       "    </tr>\n",
       "    <tr>\n",
       "      <th>2</th>\n",
       "      <td>AVpe9FXeLJeJML43zHrq</td>\n",
       "      <td>23.99</td>\n",
       "      <td>1001</td>\n",
       "      <td>DENAQ</td>\n",
       "      <td>DENAQ - AC Adapter for TOSHIBA SATELLITE</td>\n",
       "    </tr>\n",
       "    <tr>\n",
       "      <th>3</th>\n",
       "      <td>AVpfVJXu1cnluZ0-iwTT</td>\n",
       "      <td>290.99</td>\n",
       "      <td>1001</td>\n",
       "      <td>DreamWave</td>\n",
       "      <td>DreamWave - Tremor Portable Bluetooth Speaker ...</td>\n",
       "    </tr>\n",
       "    <tr>\n",
       "      <th>4</th>\n",
       "      <td>AVphUeKeilAPnD_x3-Be</td>\n",
       "      <td>244.01</td>\n",
       "      <td>1004</td>\n",
       "      <td>Yamaha</td>\n",
       "      <td>NS-SP1800BL 5.1-Channel Home Theater System (B...</td>\n",
       "    </tr>\n",
       "  </tbody>\n",
       "</table>\n",
       "</div>"
      ],
      "text/plain": [
       "             product_id   price  merchant_id      brand  \\\n",
       "0  AVphzgbJLJeJML43fA0o  104.99         1001      Sanus   \n",
       "1  AVpgMuGwLJeJML43KY_c   69.00         1002    Boytone   \n",
       "2  AVpe9FXeLJeJML43zHrq   23.99         1001      DENAQ   \n",
       "3  AVpfVJXu1cnluZ0-iwTT  290.99         1001  DreamWave   \n",
       "4  AVphUeKeilAPnD_x3-Be  244.01         1004     Yamaha   \n",
       "\n",
       "                                                name  \n",
       "0  Sanus VLF410B1 10-Inch Super Slim Full-Motion ...  \n",
       "1  Boytone - 2500W 2.1-Ch. Home Theater System - ...  \n",
       "2           DENAQ - AC Adapter for TOSHIBA SATELLITE  \n",
       "3  DreamWave - Tremor Portable Bluetooth Speaker ...  \n",
       "4  NS-SP1800BL 5.1-Channel Home Theater System (B...  "
      ]
     },
     "execution_count": 19,
     "metadata": {},
     "output_type": "execute_result"
    }
   ],
   "source": [
    "products.head()"
   ]
  },
  {
   "cell_type": "markdown",
   "metadata": {},
   "source": [
    "This `parse()` method has all the parameters we saw before on `read_excel()` method, let's try some of them:"
   ]
  },
  {
   "cell_type": "code",
   "execution_count": 20,
   "metadata": {},
   "outputs": [],
   "source": [
    "products = excel_file.parse(sheet_name='Products',\n",
    "                            header=0,\n",
    "                            index_col='product_id')"
   ]
  },
  {
   "cell_type": "code",
   "execution_count": 21,
   "metadata": {},
   "outputs": [
    {
     "data": {
      "text/html": [
       "<div>\n",
       "<style scoped>\n",
       "    .dataframe tbody tr th:only-of-type {\n",
       "        vertical-align: middle;\n",
       "    }\n",
       "\n",
       "    .dataframe tbody tr th {\n",
       "        vertical-align: top;\n",
       "    }\n",
       "\n",
       "    .dataframe thead th {\n",
       "        text-align: right;\n",
       "    }\n",
       "</style>\n",
       "<table border=\"1\" class=\"dataframe\">\n",
       "  <thead>\n",
       "    <tr style=\"text-align: right;\">\n",
       "      <th></th>\n",
       "      <th>price</th>\n",
       "      <th>merchant_id</th>\n",
       "      <th>brand</th>\n",
       "      <th>name</th>\n",
       "    </tr>\n",
       "    <tr>\n",
       "      <th>product_id</th>\n",
       "      <th></th>\n",
       "      <th></th>\n",
       "      <th></th>\n",
       "      <th></th>\n",
       "    </tr>\n",
       "  </thead>\n",
       "  <tbody>\n",
       "    <tr>\n",
       "      <th>AVphzgbJLJeJML43fA0o</th>\n",
       "      <td>104.99</td>\n",
       "      <td>1001</td>\n",
       "      <td>Sanus</td>\n",
       "      <td>Sanus VLF410B1 10-Inch Super Slim Full-Motion ...</td>\n",
       "    </tr>\n",
       "    <tr>\n",
       "      <th>AVpgMuGwLJeJML43KY_c</th>\n",
       "      <td>69.00</td>\n",
       "      <td>1002</td>\n",
       "      <td>Boytone</td>\n",
       "      <td>Boytone - 2500W 2.1-Ch. Home Theater System - ...</td>\n",
       "    </tr>\n",
       "    <tr>\n",
       "      <th>AVpe9FXeLJeJML43zHrq</th>\n",
       "      <td>23.99</td>\n",
       "      <td>1001</td>\n",
       "      <td>DENAQ</td>\n",
       "      <td>DENAQ - AC Adapter for TOSHIBA SATELLITE</td>\n",
       "    </tr>\n",
       "    <tr>\n",
       "      <th>AVpfVJXu1cnluZ0-iwTT</th>\n",
       "      <td>290.99</td>\n",
       "      <td>1001</td>\n",
       "      <td>DreamWave</td>\n",
       "      <td>DreamWave - Tremor Portable Bluetooth Speaker ...</td>\n",
       "    </tr>\n",
       "    <tr>\n",
       "      <th>AVphUeKeilAPnD_x3-Be</th>\n",
       "      <td>244.01</td>\n",
       "      <td>1004</td>\n",
       "      <td>Yamaha</td>\n",
       "      <td>NS-SP1800BL 5.1-Channel Home Theater System (B...</td>\n",
       "    </tr>\n",
       "  </tbody>\n",
       "</table>\n",
       "</div>"
      ],
      "text/plain": [
       "                       price  merchant_id      brand  \\\n",
       "product_id                                             \n",
       "AVphzgbJLJeJML43fA0o  104.99         1001      Sanus   \n",
       "AVpgMuGwLJeJML43KY_c   69.00         1002    Boytone   \n",
       "AVpe9FXeLJeJML43zHrq   23.99         1001      DENAQ   \n",
       "AVpfVJXu1cnluZ0-iwTT  290.99         1001  DreamWave   \n",
       "AVphUeKeilAPnD_x3-Be  244.01         1004     Yamaha   \n",
       "\n",
       "                                                                   name  \n",
       "product_id                                                               \n",
       "AVphzgbJLJeJML43fA0o  Sanus VLF410B1 10-Inch Super Slim Full-Motion ...  \n",
       "AVpgMuGwLJeJML43KY_c  Boytone - 2500W 2.1-Ch. Home Theater System - ...  \n",
       "AVpe9FXeLJeJML43zHrq           DENAQ - AC Adapter for TOSHIBA SATELLITE  \n",
       "AVpfVJXu1cnluZ0-iwTT  DreamWave - Tremor Portable Bluetooth Speaker ...  \n",
       "AVphUeKeilAPnD_x3-Be  NS-SP1800BL 5.1-Channel Home Theater System (B...  "
      ]
     },
     "execution_count": 21,
     "metadata": {},
     "output_type": "execute_result"
    }
   ],
   "source": [
    "products.head()"
   ]
  },
  {
   "cell_type": "code",
   "execution_count": 22,
   "metadata": {},
   "outputs": [
    {
     "data": {
      "text/plain": [
       "price          float64\n",
       "merchant_id      int64\n",
       "brand           object\n",
       "name            object\n",
       "dtype: object"
      ]
     },
     "execution_count": 22,
     "metadata": {},
     "output_type": "execute_result"
    }
   ],
   "source": [
    "products.dtypes"
   ]
  },
  {
   "cell_type": "code",
   "execution_count": 23,
   "metadata": {},
   "outputs": [],
   "source": [
    "merchants = excel_file.parse('Merchants',\n",
    "                             index_col='merchant_id')"
   ]
  },
  {
   "cell_type": "code",
   "execution_count": 24,
   "metadata": {},
   "outputs": [
    {
     "data": {
      "text/html": [
       "<div>\n",
       "<style scoped>\n",
       "    .dataframe tbody tr th:only-of-type {\n",
       "        vertical-align: middle;\n",
       "    }\n",
       "\n",
       "    .dataframe tbody tr th {\n",
       "        vertical-align: top;\n",
       "    }\n",
       "\n",
       "    .dataframe thead th {\n",
       "        text-align: right;\n",
       "    }\n",
       "</style>\n",
       "<table border=\"1\" class=\"dataframe\">\n",
       "  <thead>\n",
       "    <tr style=\"text-align: right;\">\n",
       "      <th></th>\n",
       "      <th>merchant</th>\n",
       "    </tr>\n",
       "    <tr>\n",
       "      <th>merchant_id</th>\n",
       "      <th></th>\n",
       "    </tr>\n",
       "  </thead>\n",
       "  <tbody>\n",
       "    <tr>\n",
       "      <th>1001</th>\n",
       "      <td>Bestbuy.com</td>\n",
       "    </tr>\n",
       "    <tr>\n",
       "      <th>1002</th>\n",
       "      <td>Walmart.com</td>\n",
       "    </tr>\n",
       "    <tr>\n",
       "      <th>1003</th>\n",
       "      <td>Bestbuy.com</td>\n",
       "    </tr>\n",
       "    <tr>\n",
       "      <th>1004</th>\n",
       "      <td>Growkart</td>\n",
       "    </tr>\n",
       "    <tr>\n",
       "      <th>1005</th>\n",
       "      <td>bhphotovideo.com</td>\n",
       "    </tr>\n",
       "  </tbody>\n",
       "</table>\n",
       "</div>"
      ],
      "text/plain": [
       "                     merchant\n",
       "merchant_id                  \n",
       "1001              Bestbuy.com\n",
       "1002              Walmart.com\n",
       "1003              Bestbuy.com\n",
       "1004                 Growkart\n",
       "1005         bhphotovideo.com"
      ]
     },
     "execution_count": 24,
     "metadata": {},
     "output_type": "execute_result"
    }
   ],
   "source": [
    "merchants.head()"
   ]
  },
  {
   "cell_type": "code",
   "execution_count": null,
   "metadata": {},
   "outputs": [],
   "source": [
    "merchants.dtypes"
   ]
  },
  {
   "cell_type": "markdown",
   "metadata": {},
   "source": [
    "![green-divider](https://user-images.githubusercontent.com/7065401/52071924-c003ad80-2562-11e9-8297-1c6595f8a7ff.png)\n",
    "\n",
    "## Save to Excel file\n",
    "\n",
    "Finally we can save our `DataFrame` as a Excel file."
   ]
  },
  {
   "cell_type": "code",
   "execution_count": 25,
   "metadata": {},
   "outputs": [
    {
     "data": {
      "text/html": [
       "<div>\n",
       "<style scoped>\n",
       "    .dataframe tbody tr th:only-of-type {\n",
       "        vertical-align: middle;\n",
       "    }\n",
       "\n",
       "    .dataframe tbody tr th {\n",
       "        vertical-align: top;\n",
       "    }\n",
       "\n",
       "    .dataframe thead th {\n",
       "        text-align: right;\n",
       "    }\n",
       "</style>\n",
       "<table border=\"1\" class=\"dataframe\">\n",
       "  <thead>\n",
       "    <tr style=\"text-align: right;\">\n",
       "      <th></th>\n",
       "      <th>price</th>\n",
       "      <th>merchant_id</th>\n",
       "      <th>brand</th>\n",
       "      <th>name</th>\n",
       "    </tr>\n",
       "    <tr>\n",
       "      <th>product_id</th>\n",
       "      <th></th>\n",
       "      <th></th>\n",
       "      <th></th>\n",
       "      <th></th>\n",
       "    </tr>\n",
       "  </thead>\n",
       "  <tbody>\n",
       "    <tr>\n",
       "      <th>AVphzgbJLJeJML43fA0o</th>\n",
       "      <td>104.99</td>\n",
       "      <td>1001</td>\n",
       "      <td>Sanus</td>\n",
       "      <td>Sanus VLF410B1 10-Inch Super Slim Full-Motion ...</td>\n",
       "    </tr>\n",
       "    <tr>\n",
       "      <th>AVpgMuGwLJeJML43KY_c</th>\n",
       "      <td>69.00</td>\n",
       "      <td>1002</td>\n",
       "      <td>Boytone</td>\n",
       "      <td>Boytone - 2500W 2.1-Ch. Home Theater System - ...</td>\n",
       "    </tr>\n",
       "    <tr>\n",
       "      <th>AVpe9FXeLJeJML43zHrq</th>\n",
       "      <td>23.99</td>\n",
       "      <td>1001</td>\n",
       "      <td>DENAQ</td>\n",
       "      <td>DENAQ - AC Adapter for TOSHIBA SATELLITE</td>\n",
       "    </tr>\n",
       "    <tr>\n",
       "      <th>AVpfVJXu1cnluZ0-iwTT</th>\n",
       "      <td>290.99</td>\n",
       "      <td>1001</td>\n",
       "      <td>DreamWave</td>\n",
       "      <td>DreamWave - Tremor Portable Bluetooth Speaker ...</td>\n",
       "    </tr>\n",
       "    <tr>\n",
       "      <th>AVphUeKeilAPnD_x3-Be</th>\n",
       "      <td>244.01</td>\n",
       "      <td>1004</td>\n",
       "      <td>Yamaha</td>\n",
       "      <td>NS-SP1800BL 5.1-Channel Home Theater System (B...</td>\n",
       "    </tr>\n",
       "  </tbody>\n",
       "</table>\n",
       "</div>"
      ],
      "text/plain": [
       "                       price  merchant_id      brand  \\\n",
       "product_id                                             \n",
       "AVphzgbJLJeJML43fA0o  104.99         1001      Sanus   \n",
       "AVpgMuGwLJeJML43KY_c   69.00         1002    Boytone   \n",
       "AVpe9FXeLJeJML43zHrq   23.99         1001      DENAQ   \n",
       "AVpfVJXu1cnluZ0-iwTT  290.99         1001  DreamWave   \n",
       "AVphUeKeilAPnD_x3-Be  244.01         1004     Yamaha   \n",
       "\n",
       "                                                                   name  \n",
       "product_id                                                               \n",
       "AVphzgbJLJeJML43fA0o  Sanus VLF410B1 10-Inch Super Slim Full-Motion ...  \n",
       "AVpgMuGwLJeJML43KY_c  Boytone - 2500W 2.1-Ch. Home Theater System - ...  \n",
       "AVpe9FXeLJeJML43zHrq           DENAQ - AC Adapter for TOSHIBA SATELLITE  \n",
       "AVpfVJXu1cnluZ0-iwTT  DreamWave - Tremor Portable Bluetooth Speaker ...  \n",
       "AVphUeKeilAPnD_x3-Be  NS-SP1800BL 5.1-Channel Home Theater System (B...  "
      ]
     },
     "execution_count": 25,
     "metadata": {},
     "output_type": "execute_result"
    }
   ],
   "source": [
    "products.head()"
   ]
  },
  {
   "cell_type": "markdown",
   "metadata": {},
   "source": [
    "A fast, simple way to write a single `DataFrame` to an Excel file is to use the `to_excel()` method of the `DataFrame` directly.\n",
    "\n",
    "Note that it's required to pass a output file path.\n",
    "\n",
    "> The `OpenPyXL - openpyxl` library should be installed in order to save Excel files. `pip install openpyxl`"
   ]
  },
  {
   "cell_type": "code",
   "execution_count": 26,
   "metadata": {},
   "outputs": [],
   "source": [
    "products.to_excel('out.xlsx')"
   ]
  },
  {
   "cell_type": "code",
   "execution_count": 27,
   "metadata": {},
   "outputs": [
    {
     "data": {
      "text/html": [
       "<div>\n",
       "<style scoped>\n",
       "    .dataframe tbody tr th:only-of-type {\n",
       "        vertical-align: middle;\n",
       "    }\n",
       "\n",
       "    .dataframe tbody tr th {\n",
       "        vertical-align: top;\n",
       "    }\n",
       "\n",
       "    .dataframe thead th {\n",
       "        text-align: right;\n",
       "    }\n",
       "</style>\n",
       "<table border=\"1\" class=\"dataframe\">\n",
       "  <thead>\n",
       "    <tr style=\"text-align: right;\">\n",
       "      <th></th>\n",
       "      <th>product_id</th>\n",
       "      <th>price</th>\n",
       "      <th>merchant_id</th>\n",
       "      <th>brand</th>\n",
       "      <th>name</th>\n",
       "    </tr>\n",
       "  </thead>\n",
       "  <tbody>\n",
       "    <tr>\n",
       "      <th>0</th>\n",
       "      <td>AVphzgbJLJeJML43fA0o</td>\n",
       "      <td>104.99</td>\n",
       "      <td>1001</td>\n",
       "      <td>Sanus</td>\n",
       "      <td>Sanus VLF410B1 10-Inch Super Slim Full-Motion ...</td>\n",
       "    </tr>\n",
       "    <tr>\n",
       "      <th>1</th>\n",
       "      <td>AVpgMuGwLJeJML43KY_c</td>\n",
       "      <td>69.00</td>\n",
       "      <td>1002</td>\n",
       "      <td>Boytone</td>\n",
       "      <td>Boytone - 2500W 2.1-Ch. Home Theater System - ...</td>\n",
       "    </tr>\n",
       "    <tr>\n",
       "      <th>2</th>\n",
       "      <td>AVpe9FXeLJeJML43zHrq</td>\n",
       "      <td>23.99</td>\n",
       "      <td>1001</td>\n",
       "      <td>DENAQ</td>\n",
       "      <td>DENAQ - AC Adapter for TOSHIBA SATELLITE</td>\n",
       "    </tr>\n",
       "    <tr>\n",
       "      <th>3</th>\n",
       "      <td>AVpfVJXu1cnluZ0-iwTT</td>\n",
       "      <td>290.99</td>\n",
       "      <td>1001</td>\n",
       "      <td>DreamWave</td>\n",
       "      <td>DreamWave - Tremor Portable Bluetooth Speaker ...</td>\n",
       "    </tr>\n",
       "    <tr>\n",
       "      <th>4</th>\n",
       "      <td>AVphUeKeilAPnD_x3-Be</td>\n",
       "      <td>244.01</td>\n",
       "      <td>1004</td>\n",
       "      <td>Yamaha</td>\n",
       "      <td>NS-SP1800BL 5.1-Channel Home Theater System (B...</td>\n",
       "    </tr>\n",
       "  </tbody>\n",
       "</table>\n",
       "</div>"
      ],
      "text/plain": [
       "             product_id   price  merchant_id      brand  \\\n",
       "0  AVphzgbJLJeJML43fA0o  104.99         1001      Sanus   \n",
       "1  AVpgMuGwLJeJML43KY_c   69.00         1002    Boytone   \n",
       "2  AVpe9FXeLJeJML43zHrq   23.99         1001      DENAQ   \n",
       "3  AVpfVJXu1cnluZ0-iwTT  290.99         1001  DreamWave   \n",
       "4  AVphUeKeilAPnD_x3-Be  244.01         1004     Yamaha   \n",
       "\n",
       "                                                name  \n",
       "0  Sanus VLF410B1 10-Inch Super Slim Full-Motion ...  \n",
       "1  Boytone - 2500W 2.1-Ch. Home Theater System - ...  \n",
       "2           DENAQ - AC Adapter for TOSHIBA SATELLITE  \n",
       "3  DreamWave - Tremor Portable Bluetooth Speaker ...  \n",
       "4  NS-SP1800BL 5.1-Channel Home Theater System (B...  "
      ]
     },
     "execution_count": 27,
     "metadata": {},
     "output_type": "execute_result"
    }
   ],
   "source": [
    "pd.read_excel('out.xlsx').head()"
   ]
  },
  {
   "cell_type": "markdown",
   "metadata": {},
   "source": [
    "We can specify the sheet name with `sheet_name` parameter:"
   ]
  },
  {
   "cell_type": "code",
   "execution_count": 28,
   "metadata": {},
   "outputs": [],
   "source": [
    "products.to_excel('out.xlsx',\n",
    "                  sheet_name='Products')"
   ]
  },
  {
   "cell_type": "markdown",
   "metadata": {},
   "source": [
    "Further calls of `to_excel` with different sheet names will only overwrite the first sheet instead of adding additional sheets.\n",
    "\n",
    "Also, be aware that by removing the index, we'll lose that column."
   ]
  },
  {
   "cell_type": "code",
   "execution_count": 29,
   "metadata": {},
   "outputs": [],
   "source": [
    "products.to_excel('out.xlsx',\n",
    "                  index=None)"
   ]
  },
  {
   "cell_type": "code",
   "execution_count": 30,
   "metadata": {
    "scrolled": false
   },
   "outputs": [
    {
     "data": {
      "text/html": [
       "<div>\n",
       "<style scoped>\n",
       "    .dataframe tbody tr th:only-of-type {\n",
       "        vertical-align: middle;\n",
       "    }\n",
       "\n",
       "    .dataframe tbody tr th {\n",
       "        vertical-align: top;\n",
       "    }\n",
       "\n",
       "    .dataframe thead th {\n",
       "        text-align: right;\n",
       "    }\n",
       "</style>\n",
       "<table border=\"1\" class=\"dataframe\">\n",
       "  <thead>\n",
       "    <tr style=\"text-align: right;\">\n",
       "      <th></th>\n",
       "      <th>price</th>\n",
       "      <th>merchant_id</th>\n",
       "      <th>brand</th>\n",
       "      <th>name</th>\n",
       "    </tr>\n",
       "  </thead>\n",
       "  <tbody>\n",
       "    <tr>\n",
       "      <th>0</th>\n",
       "      <td>104.99</td>\n",
       "      <td>1001</td>\n",
       "      <td>Sanus</td>\n",
       "      <td>Sanus VLF410B1 10-Inch Super Slim Full-Motion ...</td>\n",
       "    </tr>\n",
       "    <tr>\n",
       "      <th>1</th>\n",
       "      <td>69.00</td>\n",
       "      <td>1002</td>\n",
       "      <td>Boytone</td>\n",
       "      <td>Boytone - 2500W 2.1-Ch. Home Theater System - ...</td>\n",
       "    </tr>\n",
       "    <tr>\n",
       "      <th>2</th>\n",
       "      <td>23.99</td>\n",
       "      <td>1001</td>\n",
       "      <td>DENAQ</td>\n",
       "      <td>DENAQ - AC Adapter for TOSHIBA SATELLITE</td>\n",
       "    </tr>\n",
       "    <tr>\n",
       "      <th>3</th>\n",
       "      <td>290.99</td>\n",
       "      <td>1001</td>\n",
       "      <td>DreamWave</td>\n",
       "      <td>DreamWave - Tremor Portable Bluetooth Speaker ...</td>\n",
       "    </tr>\n",
       "    <tr>\n",
       "      <th>4</th>\n",
       "      <td>244.01</td>\n",
       "      <td>1004</td>\n",
       "      <td>Yamaha</td>\n",
       "      <td>NS-SP1800BL 5.1-Channel Home Theater System (B...</td>\n",
       "    </tr>\n",
       "  </tbody>\n",
       "</table>\n",
       "</div>"
      ],
      "text/plain": [
       "    price  merchant_id      brand  \\\n",
       "0  104.99         1001      Sanus   \n",
       "1   69.00         1002    Boytone   \n",
       "2   23.99         1001      DENAQ   \n",
       "3  290.99         1001  DreamWave   \n",
       "4  244.01         1004     Yamaha   \n",
       "\n",
       "                                                name  \n",
       "0  Sanus VLF410B1 10-Inch Super Slim Full-Motion ...  \n",
       "1  Boytone - 2500W 2.1-Ch. Home Theater System - ...  \n",
       "2           DENAQ - AC Adapter for TOSHIBA SATELLITE  \n",
       "3  DreamWave - Tremor Portable Bluetooth Speaker ...  \n",
       "4  NS-SP1800BL 5.1-Channel Home Theater System (B...  "
      ]
     },
     "execution_count": 30,
     "metadata": {},
     "output_type": "execute_result"
    }
   ],
   "source": [
    "pd.read_excel('out.xlsx').head()"
   ]
  },
  {
   "cell_type": "markdown",
   "metadata": {},
   "source": [
    "![green-divider](https://user-images.githubusercontent.com/7065401/52071924-c003ad80-2562-11e9-8297-1c6595f8a7ff.png)\n",
    "\n",
    "## Positioning Data with `startrow` and `startcol`\n",
    "\n",
    "Suppose we wanted to insert the our data into the spreadsheet file in a position somewhere other than the top-left corner.\n",
    "\n",
    "We can shift where the `to_excel` method writes the data by using `startrow` to set the cell after which the first row will be printed, and `startcol` to set which cell after which the first column will be printed."
   ]
  },
  {
   "cell_type": "markdown",
   "metadata": {},
   "source": [
    "<img src=\"https://user-images.githubusercontent.com/7065401/68594890-41378b80-0477-11ea-9ae4-ff87e5e1128d.png\" />"
   ]
  },
  {
   "cell_type": "code",
   "execution_count": 31,
   "metadata": {},
   "outputs": [],
   "source": [
    "products.to_excel('out.xlsx',\n",
    "                  sheet_name='Products',\n",
    "                  startrow=1,\n",
    "                  startcol=2)"
   ]
  },
  {
   "cell_type": "markdown",
   "metadata": {},
   "source": [
    "<img src=\"https://user-images.githubusercontent.com/7065401/68594828-249b5380-0477-11ea-87d7-af694c09f2d2.png\" />"
   ]
  },
  {
   "cell_type": "markdown",
   "metadata": {},
   "source": [
    "![green-divider](https://user-images.githubusercontent.com/7065401/52071924-c003ad80-2562-11e9-8297-1c6595f8a7ff.png)\n",
    "\n",
    "## Saving multiple sheets\n",
    "\n",
    "If we wanted to write a single `DataFrame` to a single sheet with default formatting then we are done. However, if we want to write multiple sheets and/or multiple `DataFrame`s, then we will need to create an `ExcelWriter` object.\n",
    "\n",
    "The `ExcelWriter` object is included in the Pandas module and is used to open Excel files and handle write operations. This object behaves almost exactly like the vanilla Python `open` object that we used on previous courses and can be used within a `with` block.\n",
    "\n",
    "> When the `ExcelWriter` object is executed, any existing file with the same name as the output file will be overwritten."
   ]
  },
  {
   "cell_type": "code",
   "execution_count": 32,
   "metadata": {},
   "outputs": [],
   "source": [
    "writer = pd.ExcelWriter('out.xlsx')"
   ]
  },
  {
   "cell_type": "code",
   "execution_count": 33,
   "metadata": {},
   "outputs": [
    {
     "data": {
      "text/plain": [
       "<pandas.io.excel._openpyxl.OpenpyxlWriter at 0x7f4560d61e20>"
      ]
     },
     "execution_count": 33,
     "metadata": {},
     "output_type": "execute_result"
    }
   ],
   "source": [
    "writer"
   ]
  },
  {
   "cell_type": "markdown",
   "metadata": {},
   "source": [
    "Instead of including the file pathname in the `to_excel` call, we will use the `ExcelWriter` object `writer` instead."
   ]
  },
  {
   "cell_type": "code",
   "execution_count": 34,
   "metadata": {},
   "outputs": [],
   "source": [
    "with writer:\n",
    "    products.to_excel(writer, sheet_name='Products')"
   ]
  },
  {
   "cell_type": "code",
   "execution_count": 35,
   "metadata": {},
   "outputs": [
    {
     "data": {
      "text/html": [
       "<div>\n",
       "<style scoped>\n",
       "    .dataframe tbody tr th:only-of-type {\n",
       "        vertical-align: middle;\n",
       "    }\n",
       "\n",
       "    .dataframe tbody tr th {\n",
       "        vertical-align: top;\n",
       "    }\n",
       "\n",
       "    .dataframe thead th {\n",
       "        text-align: right;\n",
       "    }\n",
       "</style>\n",
       "<table border=\"1\" class=\"dataframe\">\n",
       "  <thead>\n",
       "    <tr style=\"text-align: right;\">\n",
       "      <th></th>\n",
       "      <th>product_id</th>\n",
       "      <th>price</th>\n",
       "      <th>merchant_id</th>\n",
       "      <th>brand</th>\n",
       "      <th>name</th>\n",
       "    </tr>\n",
       "  </thead>\n",
       "  <tbody>\n",
       "    <tr>\n",
       "      <th>0</th>\n",
       "      <td>AVphzgbJLJeJML43fA0o</td>\n",
       "      <td>104.99</td>\n",
       "      <td>1001</td>\n",
       "      <td>Sanus</td>\n",
       "      <td>Sanus VLF410B1 10-Inch Super Slim Full-Motion ...</td>\n",
       "    </tr>\n",
       "    <tr>\n",
       "      <th>1</th>\n",
       "      <td>AVpgMuGwLJeJML43KY_c</td>\n",
       "      <td>69.00</td>\n",
       "      <td>1002</td>\n",
       "      <td>Boytone</td>\n",
       "      <td>Boytone - 2500W 2.1-Ch. Home Theater System - ...</td>\n",
       "    </tr>\n",
       "    <tr>\n",
       "      <th>2</th>\n",
       "      <td>AVpe9FXeLJeJML43zHrq</td>\n",
       "      <td>23.99</td>\n",
       "      <td>1001</td>\n",
       "      <td>DENAQ</td>\n",
       "      <td>DENAQ - AC Adapter for TOSHIBA SATELLITE</td>\n",
       "    </tr>\n",
       "    <tr>\n",
       "      <th>3</th>\n",
       "      <td>AVpfVJXu1cnluZ0-iwTT</td>\n",
       "      <td>290.99</td>\n",
       "      <td>1001</td>\n",
       "      <td>DreamWave</td>\n",
       "      <td>DreamWave - Tremor Portable Bluetooth Speaker ...</td>\n",
       "    </tr>\n",
       "    <tr>\n",
       "      <th>4</th>\n",
       "      <td>AVphUeKeilAPnD_x3-Be</td>\n",
       "      <td>244.01</td>\n",
       "      <td>1004</td>\n",
       "      <td>Yamaha</td>\n",
       "      <td>NS-SP1800BL 5.1-Channel Home Theater System (B...</td>\n",
       "    </tr>\n",
       "  </tbody>\n",
       "</table>\n",
       "</div>"
      ],
      "text/plain": [
       "             product_id   price  merchant_id      brand  \\\n",
       "0  AVphzgbJLJeJML43fA0o  104.99         1001      Sanus   \n",
       "1  AVpgMuGwLJeJML43KY_c   69.00         1002    Boytone   \n",
       "2  AVpe9FXeLJeJML43zHrq   23.99         1001      DENAQ   \n",
       "3  AVpfVJXu1cnluZ0-iwTT  290.99         1001  DreamWave   \n",
       "4  AVphUeKeilAPnD_x3-Be  244.01         1004     Yamaha   \n",
       "\n",
       "                                                name  \n",
       "0  Sanus VLF410B1 10-Inch Super Slim Full-Motion ...  \n",
       "1  Boytone - 2500W 2.1-Ch. Home Theater System - ...  \n",
       "2           DENAQ - AC Adapter for TOSHIBA SATELLITE  \n",
       "3  DreamWave - Tremor Portable Bluetooth Speaker ...  \n",
       "4  NS-SP1800BL 5.1-Channel Home Theater System (B...  "
      ]
     },
     "execution_count": 35,
     "metadata": {},
     "output_type": "execute_result"
    }
   ],
   "source": [
    "pd.read_excel('out.xlsx', sheet_name='Products').head()"
   ]
  },
  {
   "cell_type": "markdown",
   "metadata": {},
   "source": [
    "We can now add another `Merchants` sheet simply using the `writer` object:"
   ]
  },
  {
   "cell_type": "code",
   "execution_count": 36,
   "metadata": {},
   "outputs": [
    {
     "ename": "ValueError",
     "evalue": "I/O operation on closed file",
     "output_type": "error",
     "traceback": [
      "\u001b[0;31m---------------------------------------------------------------------------\u001b[0m",
      "\u001b[0;31mValueError\u001b[0m                                Traceback (most recent call last)",
      "Cell \u001b[0;32mIn[36], line 2\u001b[0m\n\u001b[1;32m      1\u001b[0m \u001b[38;5;28;01mwith\u001b[39;00m writer:\n\u001b[0;32m----> 2\u001b[0m     merchants\u001b[38;5;241m.\u001b[39mto_excel(writer, sheet_name\u001b[38;5;241m=\u001b[39m\u001b[38;5;124m'\u001b[39m\u001b[38;5;124mMerchants\u001b[39m\u001b[38;5;124m'\u001b[39m)\n",
      "File \u001b[0;32m~/Dependencies/miniconda3/lib/python3.9/site-packages/pandas/io/excel/_base.py:1476\u001b[0m, in \u001b[0;36mExcelWriter.__exit__\u001b[0;34m(self, exc_type, exc_value, traceback)\u001b[0m\n\u001b[1;32m   1475\u001b[0m \u001b[38;5;28;01mdef\u001b[39;00m \u001b[38;5;21m__exit__\u001b[39m(\u001b[38;5;28mself\u001b[39m, exc_type, exc_value, traceback) \u001b[38;5;241m-\u001b[39m\u001b[38;5;241m>\u001b[39m \u001b[38;5;28;01mNone\u001b[39;00m:\n\u001b[0;32m-> 1476\u001b[0m     \u001b[38;5;28;43mself\u001b[39;49m\u001b[38;5;241;43m.\u001b[39;49m\u001b[43mclose\u001b[49m\u001b[43m(\u001b[49m\u001b[43m)\u001b[49m\n",
      "File \u001b[0;32m~/Dependencies/miniconda3/lib/python3.9/site-packages/pandas/io/excel/_base.py:1480\u001b[0m, in \u001b[0;36mExcelWriter.close\u001b[0;34m(self)\u001b[0m\n\u001b[1;32m   1478\u001b[0m \u001b[38;5;28;01mdef\u001b[39;00m \u001b[38;5;21mclose\u001b[39m(\u001b[38;5;28mself\u001b[39m) \u001b[38;5;241m-\u001b[39m\u001b[38;5;241m>\u001b[39m \u001b[38;5;28;01mNone\u001b[39;00m:\n\u001b[1;32m   1479\u001b[0m \u001b[38;5;250m    \u001b[39m\u001b[38;5;124;03m\"\"\"synonym for save, to make it more file-like\"\"\"\u001b[39;00m\n\u001b[0;32m-> 1480\u001b[0m     \u001b[38;5;28;43mself\u001b[39;49m\u001b[38;5;241;43m.\u001b[39;49m\u001b[43m_save\u001b[49m\u001b[43m(\u001b[49m\u001b[43m)\u001b[49m\n\u001b[1;32m   1481\u001b[0m     \u001b[38;5;28mself\u001b[39m\u001b[38;5;241m.\u001b[39m_handles\u001b[38;5;241m.\u001b[39mclose()\n",
      "File \u001b[0;32m~/Dependencies/miniconda3/lib/python3.9/site-packages/pandas/io/excel/_openpyxl.py:109\u001b[0m, in \u001b[0;36mOpenpyxlWriter._save\u001b[0;34m(self)\u001b[0m\n\u001b[1;32m    105\u001b[0m \u001b[38;5;28;01mdef\u001b[39;00m \u001b[38;5;21m_save\u001b[39m(\u001b[38;5;28mself\u001b[39m) \u001b[38;5;241m-\u001b[39m\u001b[38;5;241m>\u001b[39m \u001b[38;5;28;01mNone\u001b[39;00m:\n\u001b[1;32m    106\u001b[0m \u001b[38;5;250m    \u001b[39m\u001b[38;5;124;03m\"\"\"\u001b[39;00m\n\u001b[1;32m    107\u001b[0m \u001b[38;5;124;03m    Save workbook to disk.\u001b[39;00m\n\u001b[1;32m    108\u001b[0m \u001b[38;5;124;03m    \"\"\"\u001b[39;00m\n\u001b[0;32m--> 109\u001b[0m     \u001b[38;5;28;43mself\u001b[39;49m\u001b[38;5;241;43m.\u001b[39;49m\u001b[43mbook\u001b[49m\u001b[38;5;241;43m.\u001b[39;49m\u001b[43msave\u001b[49m\u001b[43m(\u001b[49m\u001b[38;5;28;43mself\u001b[39;49m\u001b[38;5;241;43m.\u001b[39;49m\u001b[43m_handles\u001b[49m\u001b[38;5;241;43m.\u001b[39;49m\u001b[43mhandle\u001b[49m\u001b[43m)\u001b[49m\n\u001b[1;32m    110\u001b[0m     \u001b[38;5;28;01mif\u001b[39;00m \u001b[38;5;124m\"\u001b[39m\u001b[38;5;124mr+\u001b[39m\u001b[38;5;124m\"\u001b[39m \u001b[38;5;129;01min\u001b[39;00m \u001b[38;5;28mself\u001b[39m\u001b[38;5;241m.\u001b[39m_mode \u001b[38;5;129;01mand\u001b[39;00m \u001b[38;5;129;01mnot\u001b[39;00m \u001b[38;5;28misinstance\u001b[39m(\u001b[38;5;28mself\u001b[39m\u001b[38;5;241m.\u001b[39m_handles\u001b[38;5;241m.\u001b[39mhandle, mmap\u001b[38;5;241m.\u001b[39mmmap):\n\u001b[1;32m    111\u001b[0m         \u001b[38;5;66;03m# truncate file to the written content\u001b[39;00m\n\u001b[1;32m    112\u001b[0m         \u001b[38;5;28mself\u001b[39m\u001b[38;5;241m.\u001b[39m_handles\u001b[38;5;241m.\u001b[39mhandle\u001b[38;5;241m.\u001b[39mtruncate()\n",
      "File \u001b[0;32m~/Dependencies/miniconda3/lib/python3.9/site-packages/openpyxl/workbook/workbook.py:386\u001b[0m, in \u001b[0;36mWorkbook.save\u001b[0;34m(self, filename)\u001b[0m\n\u001b[1;32m    384\u001b[0m \u001b[38;5;28;01mif\u001b[39;00m \u001b[38;5;28mself\u001b[39m\u001b[38;5;241m.\u001b[39mwrite_only \u001b[38;5;129;01mand\u001b[39;00m \u001b[38;5;129;01mnot\u001b[39;00m \u001b[38;5;28mself\u001b[39m\u001b[38;5;241m.\u001b[39mworksheets:\n\u001b[1;32m    385\u001b[0m     \u001b[38;5;28mself\u001b[39m\u001b[38;5;241m.\u001b[39mcreate_sheet()\n\u001b[0;32m--> 386\u001b[0m \u001b[43msave_workbook\u001b[49m\u001b[43m(\u001b[49m\u001b[38;5;28;43mself\u001b[39;49m\u001b[43m,\u001b[49m\u001b[43m \u001b[49m\u001b[43mfilename\u001b[49m\u001b[43m)\u001b[49m\n",
      "File \u001b[0;32m~/Dependencies/miniconda3/lib/python3.9/site-packages/openpyxl/writer/excel.py:291\u001b[0m, in \u001b[0;36msave_workbook\u001b[0;34m(workbook, filename)\u001b[0m\n\u001b[1;32m    279\u001b[0m \u001b[38;5;28;01mdef\u001b[39;00m \u001b[38;5;21msave_workbook\u001b[39m(workbook, filename):\n\u001b[1;32m    280\u001b[0m \u001b[38;5;250m    \u001b[39m\u001b[38;5;124;03m\"\"\"Save the given workbook on the filesystem under the name filename.\u001b[39;00m\n\u001b[1;32m    281\u001b[0m \n\u001b[1;32m    282\u001b[0m \u001b[38;5;124;03m    :param workbook: the workbook to save\u001b[39;00m\n\u001b[0;32m   (...)\u001b[0m\n\u001b[1;32m    289\u001b[0m \n\u001b[1;32m    290\u001b[0m \u001b[38;5;124;03m    \"\"\"\u001b[39;00m\n\u001b[0;32m--> 291\u001b[0m     archive \u001b[38;5;241m=\u001b[39m \u001b[43mZipFile\u001b[49m\u001b[43m(\u001b[49m\u001b[43mfilename\u001b[49m\u001b[43m,\u001b[49m\u001b[43m \u001b[49m\u001b[38;5;124;43m'\u001b[39;49m\u001b[38;5;124;43mw\u001b[39;49m\u001b[38;5;124;43m'\u001b[39;49m\u001b[43m,\u001b[49m\u001b[43m \u001b[49m\u001b[43mZIP_DEFLATED\u001b[49m\u001b[43m,\u001b[49m\u001b[43m \u001b[49m\u001b[43mallowZip64\u001b[49m\u001b[38;5;241;43m=\u001b[39;49m\u001b[38;5;28;43;01mTrue\u001b[39;49;00m\u001b[43m)\u001b[49m\n\u001b[1;32m    292\u001b[0m     workbook\u001b[38;5;241m.\u001b[39mproperties\u001b[38;5;241m.\u001b[39mmodified \u001b[38;5;241m=\u001b[39m datetime\u001b[38;5;241m.\u001b[39mdatetime\u001b[38;5;241m.\u001b[39mutcnow()\n\u001b[1;32m    293\u001b[0m     writer \u001b[38;5;241m=\u001b[39m ExcelWriter(workbook, archive)\n",
      "File \u001b[0;32m~/Dependencies/miniconda3/lib/python3.9/zipfile.py:1263\u001b[0m, in \u001b[0;36mZipFile.__init__\u001b[0;34m(self, file, mode, compression, allowZip64, compresslevel, strict_timestamps)\u001b[0m\n\u001b[1;32m   1261\u001b[0m \u001b[38;5;28mself\u001b[39m\u001b[38;5;241m.\u001b[39m_didModify \u001b[38;5;241m=\u001b[39m \u001b[38;5;28;01mTrue\u001b[39;00m\n\u001b[1;32m   1262\u001b[0m \u001b[38;5;28;01mtry\u001b[39;00m:\n\u001b[0;32m-> 1263\u001b[0m     \u001b[38;5;28mself\u001b[39m\u001b[38;5;241m.\u001b[39mstart_dir \u001b[38;5;241m=\u001b[39m \u001b[38;5;28;43mself\u001b[39;49m\u001b[38;5;241;43m.\u001b[39;49m\u001b[43mfp\u001b[49m\u001b[38;5;241;43m.\u001b[39;49m\u001b[43mtell\u001b[49m\u001b[43m(\u001b[49m\u001b[43m)\u001b[49m\n\u001b[1;32m   1264\u001b[0m \u001b[38;5;28;01mexcept\u001b[39;00m (\u001b[38;5;167;01mAttributeError\u001b[39;00m, \u001b[38;5;167;01mOSError\u001b[39;00m):\n\u001b[1;32m   1265\u001b[0m     \u001b[38;5;28mself\u001b[39m\u001b[38;5;241m.\u001b[39mfp \u001b[38;5;241m=\u001b[39m _Tellable(\u001b[38;5;28mself\u001b[39m\u001b[38;5;241m.\u001b[39mfp)\n",
      "\u001b[0;31mValueError\u001b[0m: I/O operation on closed file"
     ]
    }
   ],
   "source": [
    "with writer:\n",
    "    merchants.to_excel(writer, sheet_name='Merchants')"
   ]
  },
  {
   "cell_type": "code",
   "execution_count": null,
   "metadata": {},
   "outputs": [],
   "source": [
    "pd.read_excel('out.xlsx', sheet_name='Products').head()"
   ]
  },
  {
   "cell_type": "code",
   "execution_count": 37,
   "metadata": {},
   "outputs": [
    {
     "ename": "ValueError",
     "evalue": "Worksheet named 'Merchants' not found",
     "output_type": "error",
     "traceback": [
      "\u001b[0;31m---------------------------------------------------------------------------\u001b[0m",
      "\u001b[0;31mValueError\u001b[0m                                Traceback (most recent call last)",
      "Cell \u001b[0;32mIn[37], line 1\u001b[0m\n\u001b[0;32m----> 1\u001b[0m \u001b[43mpd\u001b[49m\u001b[38;5;241;43m.\u001b[39;49m\u001b[43mread_excel\u001b[49m\u001b[43m(\u001b[49m\u001b[38;5;124;43m'\u001b[39;49m\u001b[38;5;124;43mout.xlsx\u001b[39;49m\u001b[38;5;124;43m'\u001b[39;49m\u001b[43m,\u001b[49m\u001b[43m \u001b[49m\u001b[43msheet_name\u001b[49m\u001b[38;5;241;43m=\u001b[39;49m\u001b[38;5;124;43m'\u001b[39;49m\u001b[38;5;124;43mMerchants\u001b[39;49m\u001b[38;5;124;43m'\u001b[39;49m\u001b[43m)\u001b[49m\u001b[38;5;241m.\u001b[39mhead()\n",
      "File \u001b[0;32m~/Dependencies/miniconda3/lib/python3.9/site-packages/pandas/util/_decorators.py:211\u001b[0m, in \u001b[0;36mdeprecate_kwarg.<locals>._deprecate_kwarg.<locals>.wrapper\u001b[0;34m(*args, **kwargs)\u001b[0m\n\u001b[1;32m    209\u001b[0m     \u001b[38;5;28;01melse\u001b[39;00m:\n\u001b[1;32m    210\u001b[0m         kwargs[new_arg_name] \u001b[38;5;241m=\u001b[39m new_arg_value\n\u001b[0;32m--> 211\u001b[0m \u001b[38;5;28;01mreturn\u001b[39;00m \u001b[43mfunc\u001b[49m\u001b[43m(\u001b[49m\u001b[38;5;241;43m*\u001b[39;49m\u001b[43margs\u001b[49m\u001b[43m,\u001b[49m\u001b[43m \u001b[49m\u001b[38;5;241;43m*\u001b[39;49m\u001b[38;5;241;43m*\u001b[39;49m\u001b[43mkwargs\u001b[49m\u001b[43m)\u001b[49m\n",
      "File \u001b[0;32m~/Dependencies/miniconda3/lib/python3.9/site-packages/pandas/util/_decorators.py:331\u001b[0m, in \u001b[0;36mdeprecate_nonkeyword_arguments.<locals>.decorate.<locals>.wrapper\u001b[0;34m(*args, **kwargs)\u001b[0m\n\u001b[1;32m    325\u001b[0m \u001b[38;5;28;01mif\u001b[39;00m \u001b[38;5;28mlen\u001b[39m(args) \u001b[38;5;241m>\u001b[39m num_allow_args:\n\u001b[1;32m    326\u001b[0m     warnings\u001b[38;5;241m.\u001b[39mwarn(\n\u001b[1;32m    327\u001b[0m         msg\u001b[38;5;241m.\u001b[39mformat(arguments\u001b[38;5;241m=\u001b[39m_format_argument_list(allow_args)),\n\u001b[1;32m    328\u001b[0m         \u001b[38;5;167;01mFutureWarning\u001b[39;00m,\n\u001b[1;32m    329\u001b[0m         stacklevel\u001b[38;5;241m=\u001b[39mfind_stack_level(),\n\u001b[1;32m    330\u001b[0m     )\n\u001b[0;32m--> 331\u001b[0m \u001b[38;5;28;01mreturn\u001b[39;00m \u001b[43mfunc\u001b[49m\u001b[43m(\u001b[49m\u001b[38;5;241;43m*\u001b[39;49m\u001b[43margs\u001b[49m\u001b[43m,\u001b[49m\u001b[43m \u001b[49m\u001b[38;5;241;43m*\u001b[39;49m\u001b[38;5;241;43m*\u001b[39;49m\u001b[43mkwargs\u001b[49m\u001b[43m)\u001b[49m\n",
      "File \u001b[0;32m~/Dependencies/miniconda3/lib/python3.9/site-packages/pandas/io/excel/_base.py:490\u001b[0m, in \u001b[0;36mread_excel\u001b[0;34m(io, sheet_name, header, names, index_col, usecols, squeeze, dtype, engine, converters, true_values, false_values, skiprows, nrows, na_values, keep_default_na, na_filter, verbose, parse_dates, date_parser, thousands, decimal, comment, skipfooter, convert_float, mangle_dupe_cols, storage_options)\u001b[0m\n\u001b[1;32m    484\u001b[0m     \u001b[38;5;28;01mraise\u001b[39;00m \u001b[38;5;167;01mValueError\u001b[39;00m(\n\u001b[1;32m    485\u001b[0m         \u001b[38;5;124m\"\u001b[39m\u001b[38;5;124mEngine should not be specified when passing \u001b[39m\u001b[38;5;124m\"\u001b[39m\n\u001b[1;32m    486\u001b[0m         \u001b[38;5;124m\"\u001b[39m\u001b[38;5;124man ExcelFile - ExcelFile already has the engine set\u001b[39m\u001b[38;5;124m\"\u001b[39m\n\u001b[1;32m    487\u001b[0m     )\n\u001b[1;32m    489\u001b[0m \u001b[38;5;28;01mtry\u001b[39;00m:\n\u001b[0;32m--> 490\u001b[0m     data \u001b[38;5;241m=\u001b[39m \u001b[43mio\u001b[49m\u001b[38;5;241;43m.\u001b[39;49m\u001b[43mparse\u001b[49m\u001b[43m(\u001b[49m\n\u001b[1;32m    491\u001b[0m \u001b[43m        \u001b[49m\u001b[43msheet_name\u001b[49m\u001b[38;5;241;43m=\u001b[39;49m\u001b[43msheet_name\u001b[49m\u001b[43m,\u001b[49m\n\u001b[1;32m    492\u001b[0m \u001b[43m        \u001b[49m\u001b[43mheader\u001b[49m\u001b[38;5;241;43m=\u001b[39;49m\u001b[43mheader\u001b[49m\u001b[43m,\u001b[49m\n\u001b[1;32m    493\u001b[0m \u001b[43m        \u001b[49m\u001b[43mnames\u001b[49m\u001b[38;5;241;43m=\u001b[39;49m\u001b[43mnames\u001b[49m\u001b[43m,\u001b[49m\n\u001b[1;32m    494\u001b[0m \u001b[43m        \u001b[49m\u001b[43mindex_col\u001b[49m\u001b[38;5;241;43m=\u001b[39;49m\u001b[43mindex_col\u001b[49m\u001b[43m,\u001b[49m\n\u001b[1;32m    495\u001b[0m \u001b[43m        \u001b[49m\u001b[43musecols\u001b[49m\u001b[38;5;241;43m=\u001b[39;49m\u001b[43musecols\u001b[49m\u001b[43m,\u001b[49m\n\u001b[1;32m    496\u001b[0m \u001b[43m        \u001b[49m\u001b[43msqueeze\u001b[49m\u001b[38;5;241;43m=\u001b[39;49m\u001b[43msqueeze\u001b[49m\u001b[43m,\u001b[49m\n\u001b[1;32m    497\u001b[0m \u001b[43m        \u001b[49m\u001b[43mdtype\u001b[49m\u001b[38;5;241;43m=\u001b[39;49m\u001b[43mdtype\u001b[49m\u001b[43m,\u001b[49m\n\u001b[1;32m    498\u001b[0m \u001b[43m        \u001b[49m\u001b[43mconverters\u001b[49m\u001b[38;5;241;43m=\u001b[39;49m\u001b[43mconverters\u001b[49m\u001b[43m,\u001b[49m\n\u001b[1;32m    499\u001b[0m \u001b[43m        \u001b[49m\u001b[43mtrue_values\u001b[49m\u001b[38;5;241;43m=\u001b[39;49m\u001b[43mtrue_values\u001b[49m\u001b[43m,\u001b[49m\n\u001b[1;32m    500\u001b[0m \u001b[43m        \u001b[49m\u001b[43mfalse_values\u001b[49m\u001b[38;5;241;43m=\u001b[39;49m\u001b[43mfalse_values\u001b[49m\u001b[43m,\u001b[49m\n\u001b[1;32m    501\u001b[0m \u001b[43m        \u001b[49m\u001b[43mskiprows\u001b[49m\u001b[38;5;241;43m=\u001b[39;49m\u001b[43mskiprows\u001b[49m\u001b[43m,\u001b[49m\n\u001b[1;32m    502\u001b[0m \u001b[43m        \u001b[49m\u001b[43mnrows\u001b[49m\u001b[38;5;241;43m=\u001b[39;49m\u001b[43mnrows\u001b[49m\u001b[43m,\u001b[49m\n\u001b[1;32m    503\u001b[0m \u001b[43m        \u001b[49m\u001b[43mna_values\u001b[49m\u001b[38;5;241;43m=\u001b[39;49m\u001b[43mna_values\u001b[49m\u001b[43m,\u001b[49m\n\u001b[1;32m    504\u001b[0m \u001b[43m        \u001b[49m\u001b[43mkeep_default_na\u001b[49m\u001b[38;5;241;43m=\u001b[39;49m\u001b[43mkeep_default_na\u001b[49m\u001b[43m,\u001b[49m\n\u001b[1;32m    505\u001b[0m \u001b[43m        \u001b[49m\u001b[43mna_filter\u001b[49m\u001b[38;5;241;43m=\u001b[39;49m\u001b[43mna_filter\u001b[49m\u001b[43m,\u001b[49m\n\u001b[1;32m    506\u001b[0m \u001b[43m        \u001b[49m\u001b[43mverbose\u001b[49m\u001b[38;5;241;43m=\u001b[39;49m\u001b[43mverbose\u001b[49m\u001b[43m,\u001b[49m\n\u001b[1;32m    507\u001b[0m \u001b[43m        \u001b[49m\u001b[43mparse_dates\u001b[49m\u001b[38;5;241;43m=\u001b[39;49m\u001b[43mparse_dates\u001b[49m\u001b[43m,\u001b[49m\n\u001b[1;32m    508\u001b[0m \u001b[43m        \u001b[49m\u001b[43mdate_parser\u001b[49m\u001b[38;5;241;43m=\u001b[39;49m\u001b[43mdate_parser\u001b[49m\u001b[43m,\u001b[49m\n\u001b[1;32m    509\u001b[0m \u001b[43m        \u001b[49m\u001b[43mthousands\u001b[49m\u001b[38;5;241;43m=\u001b[39;49m\u001b[43mthousands\u001b[49m\u001b[43m,\u001b[49m\n\u001b[1;32m    510\u001b[0m \u001b[43m        \u001b[49m\u001b[43mdecimal\u001b[49m\u001b[38;5;241;43m=\u001b[39;49m\u001b[43mdecimal\u001b[49m\u001b[43m,\u001b[49m\n\u001b[1;32m    511\u001b[0m \u001b[43m        \u001b[49m\u001b[43mcomment\u001b[49m\u001b[38;5;241;43m=\u001b[39;49m\u001b[43mcomment\u001b[49m\u001b[43m,\u001b[49m\n\u001b[1;32m    512\u001b[0m \u001b[43m        \u001b[49m\u001b[43mskipfooter\u001b[49m\u001b[38;5;241;43m=\u001b[39;49m\u001b[43mskipfooter\u001b[49m\u001b[43m,\u001b[49m\n\u001b[1;32m    513\u001b[0m \u001b[43m        \u001b[49m\u001b[43mconvert_float\u001b[49m\u001b[38;5;241;43m=\u001b[39;49m\u001b[43mconvert_float\u001b[49m\u001b[43m,\u001b[49m\n\u001b[1;32m    514\u001b[0m \u001b[43m        \u001b[49m\u001b[43mmangle_dupe_cols\u001b[49m\u001b[38;5;241;43m=\u001b[39;49m\u001b[43mmangle_dupe_cols\u001b[49m\u001b[43m,\u001b[49m\n\u001b[1;32m    515\u001b[0m \u001b[43m    \u001b[49m\u001b[43m)\u001b[49m\n\u001b[1;32m    516\u001b[0m \u001b[38;5;28;01mfinally\u001b[39;00m:\n\u001b[1;32m    517\u001b[0m     \u001b[38;5;66;03m# make sure to close opened file handles\u001b[39;00m\n\u001b[1;32m    518\u001b[0m     \u001b[38;5;28;01mif\u001b[39;00m should_close:\n",
      "File \u001b[0;32m~/Dependencies/miniconda3/lib/python3.9/site-packages/pandas/io/excel/_base.py:1734\u001b[0m, in \u001b[0;36mExcelFile.parse\u001b[0;34m(self, sheet_name, header, names, index_col, usecols, squeeze, converters, true_values, false_values, skiprows, nrows, na_values, parse_dates, date_parser, thousands, comment, skipfooter, convert_float, mangle_dupe_cols, **kwds)\u001b[0m\n\u001b[1;32m   1700\u001b[0m \u001b[38;5;28;01mdef\u001b[39;00m \u001b[38;5;21mparse\u001b[39m(\n\u001b[1;32m   1701\u001b[0m     \u001b[38;5;28mself\u001b[39m,\n\u001b[1;32m   1702\u001b[0m     sheet_name: \u001b[38;5;28mstr\u001b[39m \u001b[38;5;241m|\u001b[39m \u001b[38;5;28mint\u001b[39m \u001b[38;5;241m|\u001b[39m \u001b[38;5;28mlist\u001b[39m[\u001b[38;5;28mint\u001b[39m] \u001b[38;5;241m|\u001b[39m \u001b[38;5;28mlist\u001b[39m[\u001b[38;5;28mstr\u001b[39m] \u001b[38;5;241m|\u001b[39m \u001b[38;5;28;01mNone\u001b[39;00m \u001b[38;5;241m=\u001b[39m \u001b[38;5;241m0\u001b[39m,\n\u001b[0;32m   (...)\u001b[0m\n\u001b[1;32m   1721\u001b[0m     \u001b[38;5;241m*\u001b[39m\u001b[38;5;241m*\u001b[39mkwds,\n\u001b[1;32m   1722\u001b[0m ) \u001b[38;5;241m-\u001b[39m\u001b[38;5;241m>\u001b[39m DataFrame \u001b[38;5;241m|\u001b[39m \u001b[38;5;28mdict\u001b[39m[\u001b[38;5;28mstr\u001b[39m, DataFrame] \u001b[38;5;241m|\u001b[39m \u001b[38;5;28mdict\u001b[39m[\u001b[38;5;28mint\u001b[39m, DataFrame]:\n\u001b[1;32m   1723\u001b[0m \u001b[38;5;250m    \u001b[39m\u001b[38;5;124;03m\"\"\"\u001b[39;00m\n\u001b[1;32m   1724\u001b[0m \u001b[38;5;124;03m    Parse specified sheet(s) into a DataFrame.\u001b[39;00m\n\u001b[1;32m   1725\u001b[0m \n\u001b[0;32m   (...)\u001b[0m\n\u001b[1;32m   1732\u001b[0m \u001b[38;5;124;03m        DataFrame from the passed in Excel file.\u001b[39;00m\n\u001b[1;32m   1733\u001b[0m \u001b[38;5;124;03m    \"\"\"\u001b[39;00m\n\u001b[0;32m-> 1734\u001b[0m     \u001b[38;5;28;01mreturn\u001b[39;00m \u001b[38;5;28;43mself\u001b[39;49m\u001b[38;5;241;43m.\u001b[39;49m\u001b[43m_reader\u001b[49m\u001b[38;5;241;43m.\u001b[39;49m\u001b[43mparse\u001b[49m\u001b[43m(\u001b[49m\n\u001b[1;32m   1735\u001b[0m \u001b[43m        \u001b[49m\u001b[43msheet_name\u001b[49m\u001b[38;5;241;43m=\u001b[39;49m\u001b[43msheet_name\u001b[49m\u001b[43m,\u001b[49m\n\u001b[1;32m   1736\u001b[0m \u001b[43m        \u001b[49m\u001b[43mheader\u001b[49m\u001b[38;5;241;43m=\u001b[39;49m\u001b[43mheader\u001b[49m\u001b[43m,\u001b[49m\n\u001b[1;32m   1737\u001b[0m \u001b[43m        \u001b[49m\u001b[43mnames\u001b[49m\u001b[38;5;241;43m=\u001b[39;49m\u001b[43mnames\u001b[49m\u001b[43m,\u001b[49m\n\u001b[1;32m   1738\u001b[0m \u001b[43m        \u001b[49m\u001b[43mindex_col\u001b[49m\u001b[38;5;241;43m=\u001b[39;49m\u001b[43mindex_col\u001b[49m\u001b[43m,\u001b[49m\n\u001b[1;32m   1739\u001b[0m \u001b[43m        \u001b[49m\u001b[43musecols\u001b[49m\u001b[38;5;241;43m=\u001b[39;49m\u001b[43musecols\u001b[49m\u001b[43m,\u001b[49m\n\u001b[1;32m   1740\u001b[0m \u001b[43m        \u001b[49m\u001b[43msqueeze\u001b[49m\u001b[38;5;241;43m=\u001b[39;49m\u001b[43msqueeze\u001b[49m\u001b[43m,\u001b[49m\n\u001b[1;32m   1741\u001b[0m \u001b[43m        \u001b[49m\u001b[43mconverters\u001b[49m\u001b[38;5;241;43m=\u001b[39;49m\u001b[43mconverters\u001b[49m\u001b[43m,\u001b[49m\n\u001b[1;32m   1742\u001b[0m \u001b[43m        \u001b[49m\u001b[43mtrue_values\u001b[49m\u001b[38;5;241;43m=\u001b[39;49m\u001b[43mtrue_values\u001b[49m\u001b[43m,\u001b[49m\n\u001b[1;32m   1743\u001b[0m \u001b[43m        \u001b[49m\u001b[43mfalse_values\u001b[49m\u001b[38;5;241;43m=\u001b[39;49m\u001b[43mfalse_values\u001b[49m\u001b[43m,\u001b[49m\n\u001b[1;32m   1744\u001b[0m \u001b[43m        \u001b[49m\u001b[43mskiprows\u001b[49m\u001b[38;5;241;43m=\u001b[39;49m\u001b[43mskiprows\u001b[49m\u001b[43m,\u001b[49m\n\u001b[1;32m   1745\u001b[0m \u001b[43m        \u001b[49m\u001b[43mnrows\u001b[49m\u001b[38;5;241;43m=\u001b[39;49m\u001b[43mnrows\u001b[49m\u001b[43m,\u001b[49m\n\u001b[1;32m   1746\u001b[0m \u001b[43m        \u001b[49m\u001b[43mna_values\u001b[49m\u001b[38;5;241;43m=\u001b[39;49m\u001b[43mna_values\u001b[49m\u001b[43m,\u001b[49m\n\u001b[1;32m   1747\u001b[0m \u001b[43m        \u001b[49m\u001b[43mparse_dates\u001b[49m\u001b[38;5;241;43m=\u001b[39;49m\u001b[43mparse_dates\u001b[49m\u001b[43m,\u001b[49m\n\u001b[1;32m   1748\u001b[0m \u001b[43m        \u001b[49m\u001b[43mdate_parser\u001b[49m\u001b[38;5;241;43m=\u001b[39;49m\u001b[43mdate_parser\u001b[49m\u001b[43m,\u001b[49m\n\u001b[1;32m   1749\u001b[0m \u001b[43m        \u001b[49m\u001b[43mthousands\u001b[49m\u001b[38;5;241;43m=\u001b[39;49m\u001b[43mthousands\u001b[49m\u001b[43m,\u001b[49m\n\u001b[1;32m   1750\u001b[0m \u001b[43m        \u001b[49m\u001b[43mcomment\u001b[49m\u001b[38;5;241;43m=\u001b[39;49m\u001b[43mcomment\u001b[49m\u001b[43m,\u001b[49m\n\u001b[1;32m   1751\u001b[0m \u001b[43m        \u001b[49m\u001b[43mskipfooter\u001b[49m\u001b[38;5;241;43m=\u001b[39;49m\u001b[43mskipfooter\u001b[49m\u001b[43m,\u001b[49m\n\u001b[1;32m   1752\u001b[0m \u001b[43m        \u001b[49m\u001b[43mconvert_float\u001b[49m\u001b[38;5;241;43m=\u001b[39;49m\u001b[43mconvert_float\u001b[49m\u001b[43m,\u001b[49m\n\u001b[1;32m   1753\u001b[0m \u001b[43m        \u001b[49m\u001b[43mmangle_dupe_cols\u001b[49m\u001b[38;5;241;43m=\u001b[39;49m\u001b[43mmangle_dupe_cols\u001b[49m\u001b[43m,\u001b[49m\n\u001b[1;32m   1754\u001b[0m \u001b[43m        \u001b[49m\u001b[38;5;241;43m*\u001b[39;49m\u001b[38;5;241;43m*\u001b[39;49m\u001b[43mkwds\u001b[49m\u001b[43m,\u001b[49m\n\u001b[1;32m   1755\u001b[0m \u001b[43m    \u001b[49m\u001b[43m)\u001b[49m\n",
      "File \u001b[0;32m~/Dependencies/miniconda3/lib/python3.9/site-packages/pandas/io/excel/_base.py:760\u001b[0m, in \u001b[0;36mBaseExcelReader.parse\u001b[0;34m(self, sheet_name, header, names, index_col, usecols, squeeze, dtype, true_values, false_values, skiprows, nrows, na_values, verbose, parse_dates, date_parser, thousands, decimal, comment, skipfooter, convert_float, mangle_dupe_cols, **kwds)\u001b[0m\n\u001b[1;32m    757\u001b[0m     \u001b[38;5;28mprint\u001b[39m(\u001b[38;5;124mf\u001b[39m\u001b[38;5;124m\"\u001b[39m\u001b[38;5;124mReading sheet \u001b[39m\u001b[38;5;132;01m{\u001b[39;00masheetname\u001b[38;5;132;01m}\u001b[39;00m\u001b[38;5;124m\"\u001b[39m)\n\u001b[1;32m    759\u001b[0m \u001b[38;5;28;01mif\u001b[39;00m \u001b[38;5;28misinstance\u001b[39m(asheetname, \u001b[38;5;28mstr\u001b[39m):\n\u001b[0;32m--> 760\u001b[0m     sheet \u001b[38;5;241m=\u001b[39m \u001b[38;5;28;43mself\u001b[39;49m\u001b[38;5;241;43m.\u001b[39;49m\u001b[43mget_sheet_by_name\u001b[49m\u001b[43m(\u001b[49m\u001b[43masheetname\u001b[49m\u001b[43m)\u001b[49m\n\u001b[1;32m    761\u001b[0m \u001b[38;5;28;01melse\u001b[39;00m:  \u001b[38;5;66;03m# assume an integer if not a string\u001b[39;00m\n\u001b[1;32m    762\u001b[0m     sheet \u001b[38;5;241m=\u001b[39m \u001b[38;5;28mself\u001b[39m\u001b[38;5;241m.\u001b[39mget_sheet_by_index(asheetname)\n",
      "File \u001b[0;32m~/Dependencies/miniconda3/lib/python3.9/site-packages/pandas/io/excel/_openpyxl.py:577\u001b[0m, in \u001b[0;36mOpenpyxlReader.get_sheet_by_name\u001b[0;34m(self, name)\u001b[0m\n\u001b[1;32m    576\u001b[0m \u001b[38;5;28;01mdef\u001b[39;00m \u001b[38;5;21mget_sheet_by_name\u001b[39m(\u001b[38;5;28mself\u001b[39m, name: \u001b[38;5;28mstr\u001b[39m):\n\u001b[0;32m--> 577\u001b[0m     \u001b[38;5;28;43mself\u001b[39;49m\u001b[38;5;241;43m.\u001b[39;49m\u001b[43mraise_if_bad_sheet_by_name\u001b[49m\u001b[43m(\u001b[49m\u001b[43mname\u001b[49m\u001b[43m)\u001b[49m\n\u001b[1;32m    578\u001b[0m     \u001b[38;5;28;01mreturn\u001b[39;00m \u001b[38;5;28mself\u001b[39m\u001b[38;5;241m.\u001b[39mbook[name]\n",
      "File \u001b[0;32m~/Dependencies/miniconda3/lib/python3.9/site-packages/pandas/io/excel/_base.py:602\u001b[0m, in \u001b[0;36mBaseExcelReader.raise_if_bad_sheet_by_name\u001b[0;34m(self, name)\u001b[0m\n\u001b[1;32m    600\u001b[0m \u001b[38;5;28;01mdef\u001b[39;00m \u001b[38;5;21mraise_if_bad_sheet_by_name\u001b[39m(\u001b[38;5;28mself\u001b[39m, name: \u001b[38;5;28mstr\u001b[39m) \u001b[38;5;241m-\u001b[39m\u001b[38;5;241m>\u001b[39m \u001b[38;5;28;01mNone\u001b[39;00m:\n\u001b[1;32m    601\u001b[0m     \u001b[38;5;28;01mif\u001b[39;00m name \u001b[38;5;129;01mnot\u001b[39;00m \u001b[38;5;129;01min\u001b[39;00m \u001b[38;5;28mself\u001b[39m\u001b[38;5;241m.\u001b[39msheet_names:\n\u001b[0;32m--> 602\u001b[0m         \u001b[38;5;28;01mraise\u001b[39;00m \u001b[38;5;167;01mValueError\u001b[39;00m(\u001b[38;5;124mf\u001b[39m\u001b[38;5;124m\"\u001b[39m\u001b[38;5;124mWorksheet named \u001b[39m\u001b[38;5;124m'\u001b[39m\u001b[38;5;132;01m{\u001b[39;00mname\u001b[38;5;132;01m}\u001b[39;00m\u001b[38;5;124m'\u001b[39m\u001b[38;5;124m not found\u001b[39m\u001b[38;5;124m\"\u001b[39m)\n",
      "\u001b[0;31mValueError\u001b[0m: Worksheet named 'Merchants' not found"
     ]
    }
   ],
   "source": [
    "pd.read_excel('out.xlsx', sheet_name='Merchants').head()"
   ]
  },
  {
   "cell_type": "markdown",
   "metadata": {},
   "source": [
    "Or we can save multiple sheets at the same time:"
   ]
  },
  {
   "cell_type": "code",
   "execution_count": null,
   "metadata": {},
   "outputs": [],
   "source": [
    "with pd.ExcelWriter('out.xlsx') as writer:\n",
    "    products.to_excel(writer, sheet_name='Products')\n",
    "    merchants.to_excel(writer, sheet_name='Merchants')"
   ]
  },
  {
   "cell_type": "markdown",
   "metadata": {},
   "source": [
    "In that case the resulting `out.xlxs` file will have two sheets `Products` and `Merchants`."
   ]
  },
  {
   "cell_type": "markdown",
   "metadata": {},
   "source": [
    "![purple-divider](https://user-images.githubusercontent.com/7065401/52071927-c1cd7100-2562-11e9-908a-dde91ba14e59.png)"
   ]
  }
 ],
 "metadata": {
  "kernelspec": {
   "display_name": "Python 3",
   "language": "python",
   "name": "python3"
  },
  "language_info": {
   "codemirror_mode": {
    "name": "ipython",
    "version": 3
   },
   "file_extension": ".py",
   "mimetype": "text/x-python",
   "name": "python",
   "nbconvert_exporter": "python",
   "pygments_lexer": "ipython3",
   "version": "3.9.0"
  }
 },
 "nbformat": 4,
 "nbformat_minor": 2
}
